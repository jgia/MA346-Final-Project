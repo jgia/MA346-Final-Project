{
 "cells": [
  {
   "cell_type": "markdown",
   "source": "# Analyzing World Happiness and Economic Freedom\n### MA346 Project By John Giaquinto and Christopher Consiglio",
   "metadata": {
    "cell_id": "49ab8b2ab7e9441aa96baae460095e18",
    "tags": [],
    "deepnote_app_coordinates": {
     "x": 0,
     "y": null,
     "w": 12,
     "h": 5
    },
    "deepnote_cell_type": "markdown",
    "deepnote_cell_height": 182
   }
  },
  {
   "cell_type": "markdown",
   "source": "Our project utiizes a number of packages. We begin by importing all of the packages that we will use.",
   "metadata": {
    "cell_id": "7c49f6a77d5a4778932046a7fb3546d4",
    "tags": [],
    "deepnote_app_coordinates": {
     "x": 0,
     "y": 6,
     "w": 12,
     "h": 5
    },
    "deepnote_cell_type": "markdown",
    "deepnote_cell_height": 52.390625
   }
  },
  {
   "cell_type": "code",
   "metadata": {
    "tags": [],
    "cell_id": "708dbcae-61b2-4012-8046-43810c8a7d84",
    "deepnote_to_be_reexecuted": false,
    "source_hash": "74e55d67",
    "execution_start": 1651266850969,
    "execution_millis": 2230,
    "deepnote_app_coordinates": {
     "x": 0,
     "y": 12,
     "w": 12,
     "h": 5
    },
    "deepnote_cell_type": "code",
    "deepnote_cell_height": 189
   },
   "source": "import pandas as pd\nimport numpy as np\nimport matplotlib.pyplot as plt\nfrom pandasql import sqldf\nimport statsmodels.api as sm\nimport statsmodels.formula.api as smf\nimport seaborn as sns",
   "outputs": [],
   "execution_count": null
  },
  {
   "cell_type": "markdown",
   "source": "No output indicates that the packages were imported successfully.",
   "metadata": {
    "cell_id": "95cd502165ea4765b63aef8ef73f3dee",
    "tags": [],
    "deepnote_app_coordinates": {
     "x": 0,
     "y": 18,
     "w": 12,
     "h": 5
    },
    "deepnote_cell_type": "markdown",
    "deepnote_cell_height": 52.390625
   }
  },
  {
   "cell_type": "markdown",
   "source": "The aim of our project is to compare the subjective life satisfaction of people in various countries (obtained from the World Happiness Report) with data from the Heritage Foundation's Index of Economic Freedom. Both the life satisfaction data and the economic freedom data are in seperate CSV files. We will begin by reading the happiness CSV into its own dataframe: `happiness_by_country`. For the purposes of this project, we will use the terms \"happiness\" and \"life satisfaction\" synonymously.\n\nThe original data sets can be found at the following URLs:\n\nhttps://ourworldindata.org/happiness-and-life-satisfaction\n\nhttps://www.heritage.org/index/",
   "metadata": {
    "cell_id": "3c5066ce180f42a68a1826cd2111ce93",
    "tags": [],
    "deepnote_app_coordinates": {
     "x": 0,
     "y": 24,
     "w": 12,
     "h": 5
    },
    "deepnote_cell_type": "markdown",
    "deepnote_cell_height": 228.734375
   }
  },
  {
   "cell_type": "code",
   "metadata": {
    "cell_id": "672e896fd04b41d2a550df30bd2372c2",
    "tags": [],
    "deepnote_to_be_reexecuted": false,
    "source_hash": "8fb1b2a8",
    "execution_start": 1651266853211,
    "execution_millis": 38,
    "deepnote_app_coordinates": {
     "x": 0,
     "y": 30,
     "w": 12,
     "h": 5
    },
    "deepnote_cell_type": "code",
    "deepnote_cell_height": 618
   },
   "source": "happiness_by_country = pd.read_csv(\"Self-Reported Happiness by Country.csv\") #Read the CSV to a dataframe\nhappiness_by_country #Display the dataframe",
   "outputs": [
    {
     "output_type": "execute_result",
     "execution_count": 2,
     "data": {
      "application/vnd.deepnote.dataframe.v3+json": {
       "column_count": 4,
       "row_count": 1949,
       "columns": [
        {
         "name": "Entity",
         "dtype": "object",
         "stats": {
          "unique_count": 166,
          "nan_count": 0,
          "categories": [
           {
            "name": "Argentina",
            "count": 15
           },
           {
            "name": "Bangladesh",
            "count": 15
           },
           {
            "name": "164 others",
            "count": 1919
           }
          ]
         }
        },
        {
         "name": "Code",
         "dtype": "object",
         "stats": {
          "unique_count": 165,
          "nan_count": 4,
          "categories": [
           {
            "name": "ARG",
            "count": 15
           },
           {
            "name": "164 others",
            "count": 1930
           },
           {
            "name": "Missing",
            "count": 4
           }
          ]
         }
        },
        {
         "name": "Year",
         "dtype": "int64",
         "stats": {
          "unique_count": 16,
          "nan_count": 0,
          "min": "2005",
          "max": "2020",
          "histogram": [
           {
            "bin_start": 2005,
            "bin_end": 2006.5,
            "count": 116
           },
           {
            "bin_start": 2006.5,
            "bin_end": 2008,
            "count": 102
           },
           {
            "bin_start": 2008,
            "bin_end": 2009.5,
            "count": 224
           },
           {
            "bin_start": 2009.5,
            "bin_end": 2011,
            "count": 124
           },
           {
            "bin_start": 2011,
            "bin_end": 2012.5,
            "count": 288
           },
           {
            "bin_start": 2012.5,
            "bin_end": 2014,
            "count": 137
           },
           {
            "bin_start": 2014,
            "bin_end": 2015.5,
            "count": 288
           },
           {
            "bin_start": 2015.5,
            "bin_end": 2017,
            "count": 142
           },
           {
            "bin_start": 2017,
            "bin_end": 2018.5,
            "count": 289
           },
           {
            "bin_start": 2018.5,
            "bin_end": 2020,
            "count": 239
           }
          ]
         }
        },
        {
         "name": "Life satisfaction in Cantril Ladder (World Happiness Report 2021)",
         "dtype": "float64",
         "stats": {
          "unique_count": 1553,
          "nan_count": 0,
          "min": "2.375",
          "max": "8.019",
          "histogram": [
           {
            "bin_start": 2.375,
            "bin_end": 2.9394,
            "count": 14
           },
           {
            "bin_start": 2.9394,
            "bin_end": 3.5038,
            "count": 44
           },
           {
            "bin_start": 3.5038,
            "bin_end": 4.0682,
            "count": 149
           },
           {
            "bin_start": 4.0682,
            "bin_end": 4.6326,
            "count": 272
           },
           {
            "bin_start": 4.6326,
            "bin_end": 5.197,
            "count": 377
           },
           {
            "bin_start": 5.197,
            "bin_end": 5.7614,
            "count": 310
           },
           {
            "bin_start": 5.7614,
            "bin_end": 6.3258,
            "count": 315
           },
           {
            "bin_start": 6.3258,
            "bin_end": 6.8902,
            "count": 207
           },
           {
            "bin_start": 6.8902,
            "bin_end": 7.4546,
            "count": 193
           },
           {
            "bin_start": 7.4546,
            "bin_end": 8.019,
            "count": 68
           }
          ]
         }
        },
        {
         "name": "_deepnote_index_column",
         "dtype": "int64"
        }
       ],
       "rows": [
        {
         "Entity": "Afghanistan",
         "Code": "AFG",
         "Year": 2008,
         "Life satisfaction in Cantril Ladder (World Happiness Report 2021)": 3.724,
         "_deepnote_index_column": 0
        },
        {
         "Entity": "Afghanistan",
         "Code": "AFG",
         "Year": 2009,
         "Life satisfaction in Cantril Ladder (World Happiness Report 2021)": 4.402,
         "_deepnote_index_column": 1
        },
        {
         "Entity": "Afghanistan",
         "Code": "AFG",
         "Year": 2010,
         "Life satisfaction in Cantril Ladder (World Happiness Report 2021)": 4.758,
         "_deepnote_index_column": 2
        },
        {
         "Entity": "Afghanistan",
         "Code": "AFG",
         "Year": 2011,
         "Life satisfaction in Cantril Ladder (World Happiness Report 2021)": 3.832,
         "_deepnote_index_column": 3
        },
        {
         "Entity": "Afghanistan",
         "Code": "AFG",
         "Year": 2012,
         "Life satisfaction in Cantril Ladder (World Happiness Report 2021)": 3.783,
         "_deepnote_index_column": 4
        },
        {
         "Entity": "Afghanistan",
         "Code": "AFG",
         "Year": 2013,
         "Life satisfaction in Cantril Ladder (World Happiness Report 2021)": 3.572,
         "_deepnote_index_column": 5
        },
        {
         "Entity": "Afghanistan",
         "Code": "AFG",
         "Year": 2014,
         "Life satisfaction in Cantril Ladder (World Happiness Report 2021)": 3.131,
         "_deepnote_index_column": 6
        },
        {
         "Entity": "Afghanistan",
         "Code": "AFG",
         "Year": 2015,
         "Life satisfaction in Cantril Ladder (World Happiness Report 2021)": 3.983,
         "_deepnote_index_column": 7
        },
        {
         "Entity": "Afghanistan",
         "Code": "AFG",
         "Year": 2016,
         "Life satisfaction in Cantril Ladder (World Happiness Report 2021)": 4.22,
         "_deepnote_index_column": 8
        },
        {
         "Entity": "Afghanistan",
         "Code": "AFG",
         "Year": 2017,
         "Life satisfaction in Cantril Ladder (World Happiness Report 2021)": 2.662,
         "_deepnote_index_column": 9
        }
       ]
      },
      "text/plain": "           Entity Code  Year  \\\n0     Afghanistan  AFG  2008   \n1     Afghanistan  AFG  2009   \n2     Afghanistan  AFG  2010   \n3     Afghanistan  AFG  2011   \n4     Afghanistan  AFG  2012   \n...           ...  ...   ...   \n1944     Zimbabwe  ZWE  2016   \n1945     Zimbabwe  ZWE  2017   \n1946     Zimbabwe  ZWE  2018   \n1947     Zimbabwe  ZWE  2019   \n1948     Zimbabwe  ZWE  2020   \n\n      Life satisfaction in Cantril Ladder (World Happiness Report 2021)  \n0                                                 3.724                  \n1                                                 4.402                  \n2                                                 4.758                  \n3                                                 3.832                  \n4                                                 3.783                  \n...                                                 ...                  \n1944                                              3.735                  \n1945                                              3.638                  \n1946                                              3.616                  \n1947                                              2.694                  \n1948                                              3.160                  \n\n[1949 rows x 4 columns]",
      "text/html": "<div>\n<style scoped>\n    .dataframe tbody tr th:only-of-type {\n        vertical-align: middle;\n    }\n\n    .dataframe tbody tr th {\n        vertical-align: top;\n    }\n\n    .dataframe thead th {\n        text-align: right;\n    }\n</style>\n<table border=\"1\" class=\"dataframe\">\n  <thead>\n    <tr style=\"text-align: right;\">\n      <th></th>\n      <th>Entity</th>\n      <th>Code</th>\n      <th>Year</th>\n      <th>Life satisfaction in Cantril Ladder (World Happiness Report 2021)</th>\n    </tr>\n  </thead>\n  <tbody>\n    <tr>\n      <th>0</th>\n      <td>Afghanistan</td>\n      <td>AFG</td>\n      <td>2008</td>\n      <td>3.724</td>\n    </tr>\n    <tr>\n      <th>1</th>\n      <td>Afghanistan</td>\n      <td>AFG</td>\n      <td>2009</td>\n      <td>4.402</td>\n    </tr>\n    <tr>\n      <th>2</th>\n      <td>Afghanistan</td>\n      <td>AFG</td>\n      <td>2010</td>\n      <td>4.758</td>\n    </tr>\n    <tr>\n      <th>3</th>\n      <td>Afghanistan</td>\n      <td>AFG</td>\n      <td>2011</td>\n      <td>3.832</td>\n    </tr>\n    <tr>\n      <th>4</th>\n      <td>Afghanistan</td>\n      <td>AFG</td>\n      <td>2012</td>\n      <td>3.783</td>\n    </tr>\n    <tr>\n      <th>...</th>\n      <td>...</td>\n      <td>...</td>\n      <td>...</td>\n      <td>...</td>\n    </tr>\n    <tr>\n      <th>1944</th>\n      <td>Zimbabwe</td>\n      <td>ZWE</td>\n      <td>2016</td>\n      <td>3.735</td>\n    </tr>\n    <tr>\n      <th>1945</th>\n      <td>Zimbabwe</td>\n      <td>ZWE</td>\n      <td>2017</td>\n      <td>3.638</td>\n    </tr>\n    <tr>\n      <th>1946</th>\n      <td>Zimbabwe</td>\n      <td>ZWE</td>\n      <td>2018</td>\n      <td>3.616</td>\n    </tr>\n    <tr>\n      <th>1947</th>\n      <td>Zimbabwe</td>\n      <td>ZWE</td>\n      <td>2019</td>\n      <td>2.694</td>\n    </tr>\n    <tr>\n      <th>1948</th>\n      <td>Zimbabwe</td>\n      <td>ZWE</td>\n      <td>2020</td>\n      <td>3.160</td>\n    </tr>\n  </tbody>\n</table>\n<p>1949 rows × 4 columns</p>\n</div>"
     },
     "metadata": {}
    }
   ],
   "execution_count": null
  },
  {
   "cell_type": "markdown",
   "source": "Inside the dataframe, we can see what we have the life satisfaction rating for most countries for multiple years.",
   "metadata": {
    "cell_id": "5512359fded2474793310cbcb1b2c947",
    "tags": [],
    "deepnote_app_coordinates": {
     "x": 0,
     "y": 36,
     "w": 12,
     "h": 5
    },
    "deepnote_cell_type": "markdown",
    "deepnote_cell_height": 52.390625
   }
  },
  {
   "cell_type": "markdown",
   "source": "Next, we will read the Index of Economic Freedom CSV into its own dataframe: `index_of_economic_freedom`. For columns with values in U.S. Dollars, we also want to remove commas and dollar signs and convert the values in these columns to floats so we can use the data to perform calculations.",
   "metadata": {
    "cell_id": "e8298d01e4674d9fa465b55f79ede530",
    "tags": [],
    "deepnote_app_coordinates": {
     "x": 0,
     "y": 42,
     "w": 12,
     "h": 5
    },
    "deepnote_cell_type": "markdown",
    "deepnote_cell_height": 97.171875
   }
  },
  {
   "cell_type": "code",
   "metadata": {
    "cell_id": "929c80cf18364b45a2839a4e2f3d1b3f",
    "tags": [],
    "deepnote_to_be_reexecuted": false,
    "source_hash": "3de58969",
    "execution_start": 1651266853258,
    "execution_millis": 135,
    "deepnote_table_state": {
     "pageSize": 10,
     "pageIndex": 0,
     "filters": [],
     "sortBy": []
    },
    "deepnote_table_loading": false,
    "deepnote_app_coordinates": {
     "x": 0,
     "y": 48,
     "w": 12,
     "h": 5
    },
    "deepnote_cell_type": "code",
    "deepnote_cell_height": 1051.75
   },
   "source": "#Read the CSV to a dataframe\nindex_of_economic_freedom = pd.read_csv(\"Heritage_Index_of_Economic_Freedom.csv\")\n\n#Remove , and $ from GDP (Billions, PPP)\nindex_of_economic_freedom['GDP (Billions, PPP)'] = index_of_economic_freedom['GDP (Billions, PPP)'].str.replace(',', '')\nindex_of_economic_freedom['GDP (Billions, PPP)'] = index_of_economic_freedom['GDP (Billions, PPP)'].str.replace('$', '')\nindex_of_economic_freedom['GDP (Billions, PPP)'] = index_of_economic_freedom['GDP (Billions, PPP)'].astype(float)\n\n#Remove , and $ from GDP Per Capita (PPP)\nindex_of_economic_freedom['GDP per Capita (PPP)'] = index_of_economic_freedom['GDP per Capita (PPP)'].str.replace(',', '')\nindex_of_economic_freedom['GDP per Capita (PPP)'] = index_of_economic_freedom['GDP per Capita (PPP)'].str.replace('$', '')\nindex_of_economic_freedom['GDP per Capita (PPP)'] = index_of_economic_freedom['GDP per Capita (PPP)'].astype(float)\n\n#Remove , from FDI Inflow (Millions)\nindex_of_economic_freedom['FDI Inflow (Millions)'] = index_of_economic_freedom['FDI Inflow (Millions)'].str.replace(',', '')\nindex_of_economic_freedom['FDI Inflow (Millions)'] = index_of_economic_freedom['FDI Inflow (Millions)'].astype(float)\n\n#Display the dataframe\nindex_of_economic_freedom",
   "outputs": [
    {
     "name": "stderr",
     "text": "/shared-libs/python3.7/py-core/lib/python3.7/site-packages/ipykernel_launcher.py:7: FutureWarning: The default value of regex will change from True to False in a future version. In addition, single character regular expressions will*not* be treated as literal strings when regex=True.\n  import sys\n/shared-libs/python3.7/py-core/lib/python3.7/site-packages/ipykernel_launcher.py:12: FutureWarning: The default value of regex will change from True to False in a future version. In addition, single character regular expressions will*not* be treated as literal strings when regex=True.\n  if sys.path[0] == '':\n",
     "output_type": "stream"
    },
    {
     "output_type": "execute_result",
     "execution_count": 3,
     "data": {
      "application/vnd.deepnote.dataframe.v3+json": {
       "column_count": 33,
       "row_count": 184,
       "columns": [
        {
         "name": "CountryID",
         "dtype": "int64",
         "stats": {
          "unique_count": 184,
          "nan_count": 0,
          "min": "1",
          "max": "186",
          "histogram": [
           {
            "bin_start": 1,
            "bin_end": 19.5,
            "count": 19
           },
           {
            "bin_start": 19.5,
            "bin_end": 38,
            "count": 18
           },
           {
            "bin_start": 38,
            "bin_end": 56.5,
            "count": 19
           },
           {
            "bin_start": 56.5,
            "bin_end": 75,
            "count": 17
           },
           {
            "bin_start": 75,
            "bin_end": 93.5,
            "count": 19
           },
           {
            "bin_start": 93.5,
            "bin_end": 112,
            "count": 17
           },
           {
            "bin_start": 112,
            "bin_end": 130.5,
            "count": 19
           },
           {
            "bin_start": 130.5,
            "bin_end": 149,
            "count": 18
           },
           {
            "bin_start": 149,
            "bin_end": 167.5,
            "count": 19
           },
           {
            "bin_start": 167.5,
            "bin_end": 186,
            "count": 19
           }
          ]
         }
        },
        {
         "name": "Country Name",
         "dtype": "object",
         "stats": {
          "unique_count": 184,
          "nan_count": 0,
          "categories": [
           {
            "name": "Afghanistan",
            "count": 1
           },
           {
            "name": "Albania",
            "count": 1
           },
           {
            "name": "182 others",
            "count": 182
           }
          ]
         }
        },
        {
         "name": "WEBNAME",
         "dtype": "object",
         "stats": {
          "unique_count": 184,
          "nan_count": 0,
          "categories": [
           {
            "name": "Afghanistan",
            "count": 1
           },
           {
            "name": "Albania",
            "count": 1
           },
           {
            "name": "182 others",
            "count": 182
           }
          ]
         }
        },
        {
         "name": "Region",
         "dtype": "object",
         "stats": {
          "unique_count": 5,
          "nan_count": 0,
          "categories": [
           {
            "name": "Sub-Saharan Africa",
            "count": 48
           },
           {
            "name": "Europe",
            "count": 46
           },
           {
            "name": "3 others",
            "count": 90
           }
          ]
         }
        },
        {
         "name": "World Rank",
         "dtype": "float64",
         "stats": {
          "unique_count": 177,
          "nan_count": 7,
          "min": "1.0",
          "max": "177.0",
          "histogram": [
           {
            "bin_start": 1,
            "bin_end": 18.6,
            "count": 18
           },
           {
            "bin_start": 18.6,
            "bin_end": 36.2,
            "count": 18
           },
           {
            "bin_start": 36.2,
            "bin_end": 53.800000000000004,
            "count": 17
           },
           {
            "bin_start": 53.800000000000004,
            "bin_end": 71.4,
            "count": 18
           },
           {
            "bin_start": 71.4,
            "bin_end": 89,
            "count": 17
           },
           {
            "bin_start": 89,
            "bin_end": 106.60000000000001,
            "count": 18
           },
           {
            "bin_start": 106.60000000000001,
            "bin_end": 124.20000000000002,
            "count": 18
           },
           {
            "bin_start": 124.20000000000002,
            "bin_end": 141.8,
            "count": 17
           },
           {
            "bin_start": 141.8,
            "bin_end": 159.4,
            "count": 18
           },
           {
            "bin_start": 159.4,
            "bin_end": 177,
            "count": 18
           }
          ]
         }
        },
        {
         "name": "Region Rank",
         "dtype": "float64",
         "stats": {
          "unique_count": 47,
          "nan_count": 7,
          "min": "1.0",
          "max": "47.0",
          "histogram": [
           {
            "bin_start": 1,
            "bin_end": 5.6,
            "count": 25
           },
           {
            "bin_start": 5.6,
            "bin_end": 10.2,
            "count": 25
           },
           {
            "bin_start": 10.2,
            "bin_end": 14.799999999999999,
            "count": 20
           },
           {
            "bin_start": 14.799999999999999,
            "bin_end": 19.4,
            "count": 20
           },
           {
            "bin_start": 19.4,
            "bin_end": 24,
            "count": 16
           },
           {
            "bin_start": 24,
            "bin_end": 28.599999999999998,
            "count": 20
           },
           {
            "bin_start": 28.599999999999998,
            "bin_end": 33.199999999999996,
            "count": 19
           },
           {
            "bin_start": 33.199999999999996,
            "bin_end": 37.8,
            "count": 12
           },
           {
            "bin_start": 37.8,
            "bin_end": 42.4,
            "count": 12
           },
           {
            "bin_start": 42.4,
            "bin_end": 47,
            "count": 8
           }
          ]
         }
        },
        {
         "name": "2022 Score",
         "dtype": "float64",
         "stats": {
          "unique_count": 144,
          "nan_count": 7,
          "min": "3.0",
          "max": "84.4",
          "histogram": [
           {
            "bin_start": 3,
            "bin_end": 11.14,
            "count": 1
           },
           {
            "bin_start": 11.14,
            "bin_end": 19.28,
            "count": 0
           },
           {
            "bin_start": 19.28,
            "bin_end": 27.42,
            "count": 1
           },
           {
            "bin_start": 27.42,
            "bin_end": 35.56,
            "count": 3
           },
           {
            "bin_start": 35.56,
            "bin_end": 43.7,
            "count": 4
           },
           {
            "bin_start": 43.7,
            "bin_end": 51.84,
            "count": 28
           },
           {
            "bin_start": 51.84,
            "bin_end": 59.980000000000004,
            "count": 52
           },
           {
            "bin_start": 59.980000000000004,
            "bin_end": 68.12,
            "count": 47
           },
           {
            "bin_start": 68.12,
            "bin_end": 76.26,
            "count": 26
           },
           {
            "bin_start": 76.26,
            "bin_end": 84.4,
            "count": 15
           }
          ]
         }
        },
        {
         "name": "Property Rights",
         "dtype": "float64",
         "stats": {
          "unique_count": 161,
          "nan_count": 7,
          "min": "0.2",
          "max": "100.0",
          "histogram": [
           {
            "bin_start": 0.2,
            "bin_end": 10.18,
            "count": 3
           },
           {
            "bin_start": 10.18,
            "bin_end": 20.16,
            "count": 6
           },
           {
            "bin_start": 20.16,
            "bin_end": 30.14,
            "count": 16
           },
           {
            "bin_start": 30.14,
            "bin_end": 40.120000000000005,
            "count": 28
           },
           {
            "bin_start": 40.120000000000005,
            "bin_end": 50.10000000000001,
            "count": 34
           },
           {
            "bin_start": 50.10000000000001,
            "bin_end": 60.080000000000005,
            "count": 21
           },
           {
            "bin_start": 60.080000000000005,
            "bin_end": 70.06,
            "count": 20
           },
           {
            "bin_start": 70.06,
            "bin_end": 80.04,
            "count": 11
           },
           {
            "bin_start": 80.04,
            "bin_end": 90.02000000000001,
            "count": 18
           },
           {
            "bin_start": 90.02000000000001,
            "bin_end": 100,
            "count": 20
           }
          ]
         }
        },
        {
         "name": "Judical Effectiveness",
         "dtype": "float64",
         "stats": {
          "unique_count": 160,
          "nan_count": 7,
          "min": "3.9",
          "max": "98.0",
          "histogram": [
           {
            "bin_start": 3.9,
            "bin_end": 13.31,
            "count": 14
           },
           {
            "bin_start": 13.31,
            "bin_end": 22.72,
            "count": 15
           },
           {
            "bin_start": 22.72,
            "bin_end": 32.13,
            "count": 24
           },
           {
            "bin_start": 32.13,
            "bin_end": 41.54,
            "count": 25
           },
           {
            "bin_start": 41.54,
            "bin_end": 50.949999999999996,
            "count": 21
           },
           {
            "bin_start": 50.949999999999996,
            "bin_end": 60.36,
            "count": 17
           },
           {
            "bin_start": 60.36,
            "bin_end": 69.77000000000001,
            "count": 9
           },
           {
            "bin_start": 69.77000000000001,
            "bin_end": 79.18,
            "count": 19
           },
           {
            "bin_start": 79.18,
            "bin_end": 88.59,
            "count": 10
           },
           {
            "bin_start": 88.59,
            "bin_end": 98,
            "count": 23
           }
          ]
         }
        },
        {
         "name": "Government Integrity",
         "dtype": "float64",
         "stats": {
          "unique_count": 159,
          "nan_count": 7,
          "min": "3.8",
          "max": "99.5",
          "histogram": [
           {
            "bin_start": 3.8,
            "bin_end": 13.370000000000001,
            "count": 9
           },
           {
            "bin_start": 13.370000000000001,
            "bin_end": 22.94,
            "count": 16
           },
           {
            "bin_start": 22.94,
            "bin_end": 32.51,
            "count": 31
           },
           {
            "bin_start": 32.51,
            "bin_end": 42.08,
            "count": 37
           },
           {
            "bin_start": 42.08,
            "bin_end": 51.65,
            "count": 24
           },
           {
            "bin_start": 51.65,
            "bin_end": 61.22,
            "count": 20
           },
           {
            "bin_start": 61.22,
            "bin_end": 70.79,
            "count": 14
           },
           {
            "bin_start": 70.79,
            "bin_end": 80.36,
            "count": 7
           },
           {
            "bin_start": 80.36,
            "bin_end": 89.92999999999999,
            "count": 11
           },
           {
            "bin_start": 89.92999999999999,
            "bin_end": 99.5,
            "count": 8
           }
          ]
         }
        },
        {
         "name": "Tax Burden",
         "dtype": "float64",
         "stats": {
          "unique_count": 147,
          "nan_count": 7,
          "min": "0.0",
          "max": "100.0",
          "histogram": [
           {
            "bin_start": 0,
            "bin_end": 10,
            "count": 1
           },
           {
            "bin_start": 10,
            "bin_end": 20,
            "count": 0
           },
           {
            "bin_start": 20,
            "bin_end": 30,
            "count": 0
           },
           {
            "bin_start": 30,
            "bin_end": 40,
            "count": 0
           },
           {
            "bin_start": 40,
            "bin_end": 50,
            "count": 6
           },
           {
            "bin_start": 50,
            "bin_end": 60,
            "count": 8
           },
           {
            "bin_start": 60,
            "bin_end": 70,
            "count": 22
           },
           {
            "bin_start": 70,
            "bin_end": 80,
            "count": 61
           },
           {
            "bin_start": 80,
            "bin_end": 90,
            "count": 48
           },
           {
            "bin_start": 90,
            "bin_end": 100,
            "count": 31
           }
          ]
         }
        },
        {
         "name": "Gov't Spending",
         "dtype": "float64",
         "stats": {
          "unique_count": 152,
          "nan_count": 7,
          "min": "0.0",
          "max": "97.0",
          "histogram": [
           {
            "bin_start": 0,
            "bin_end": 9.7,
            "count": 9
           },
           {
            "bin_start": 9.7,
            "bin_end": 19.4,
            "count": 3
           },
           {
            "bin_start": 19.4,
            "bin_end": 29.099999999999998,
            "count": 6
           },
           {
            "bin_start": 29.099999999999998,
            "bin_end": 38.8,
            "count": 7
           },
           {
            "bin_start": 38.8,
            "bin_end": 48.5,
            "count": 15
           },
           {
            "bin_start": 48.5,
            "bin_end": 58.199999999999996,
            "count": 14
           },
           {
            "bin_start": 58.199999999999996,
            "bin_end": 67.89999999999999,
            "count": 22
           },
           {
            "bin_start": 67.89999999999999,
            "bin_end": 77.6,
            "count": 34
           },
           {
            "bin_start": 77.6,
            "bin_end": 87.3,
            "count": 37
           },
           {
            "bin_start": 87.3,
            "bin_end": 97,
            "count": 30
           }
          ]
         }
        },
        {
         "name": "Fiscal Health",
         "dtype": "float64",
         "stats": {
          "unique_count": 148,
          "nan_count": 7,
          "min": "0.0",
          "max": "99.7",
          "histogram": [
           {
            "bin_start": 0,
            "bin_end": 9.97,
            "count": 20
           },
           {
            "bin_start": 9.97,
            "bin_end": 19.94,
            "count": 16
           },
           {
            "bin_start": 19.94,
            "bin_end": 29.910000000000004,
            "count": 7
           },
           {
            "bin_start": 29.910000000000004,
            "bin_end": 39.88,
            "count": 5
           },
           {
            "bin_start": 39.88,
            "bin_end": 49.85,
            "count": 6
           },
           {
            "bin_start": 49.85,
            "bin_end": 59.82000000000001,
            "count": 15
           },
           {
            "bin_start": 59.82000000000001,
            "bin_end": 69.79,
            "count": 17
           },
           {
            "bin_start": 69.79,
            "bin_end": 79.76,
            "count": 27
           },
           {
            "bin_start": 79.76,
            "bin_end": 89.73,
            "count": 24
           },
           {
            "bin_start": 89.73,
            "bin_end": 99.7,
            "count": 40
           }
          ]
         }
        },
        {
         "name": "Business Freedom",
         "dtype": "float64",
         "stats": {
          "unique_count": 151,
          "nan_count": 7,
          "min": "5.0",
          "max": "91.4",
          "histogram": [
           {
            "bin_start": 5,
            "bin_end": 13.64,
            "count": 1
           },
           {
            "bin_start": 13.64,
            "bin_end": 22.28,
            "count": 0
           },
           {
            "bin_start": 22.28,
            "bin_end": 30.92,
            "count": 8
           },
           {
            "bin_start": 30.92,
            "bin_end": 39.56,
            "count": 14
           },
           {
            "bin_start": 39.56,
            "bin_end": 48.2,
            "count": 15
           },
           {
            "bin_start": 48.2,
            "bin_end": 56.84,
            "count": 29
           },
           {
            "bin_start": 56.84,
            "bin_end": 65.48,
            "count": 46
           },
           {
            "bin_start": 65.48,
            "bin_end": 74.12,
            "count": 25
           },
           {
            "bin_start": 74.12,
            "bin_end": 82.76,
            "count": 21
           },
           {
            "bin_start": 82.76,
            "bin_end": 91.4,
            "count": 18
           }
          ]
         }
        },
        {
         "name": "Labor Freedom",
         "dtype": "float64",
         "stats": {
          "unique_count": 138,
          "nan_count": 7,
          "min": "5.0",
          "max": "81.5",
          "histogram": [
           {
            "bin_start": 5,
            "bin_end": 12.65,
            "count": 1
           },
           {
            "bin_start": 12.65,
            "bin_end": 20.3,
            "count": 1
           },
           {
            "bin_start": 20.3,
            "bin_end": 27.950000000000003,
            "count": 0
           },
           {
            "bin_start": 27.950000000000003,
            "bin_end": 35.6,
            "count": 3
           },
           {
            "bin_start": 35.6,
            "bin_end": 43.25,
            "count": 15
           },
           {
            "bin_start": 43.25,
            "bin_end": 50.900000000000006,
            "count": 23
           },
           {
            "bin_start": 50.900000000000006,
            "bin_end": 58.550000000000004,
            "count": 65
           },
           {
            "bin_start": 58.550000000000004,
            "bin_end": 66.2,
            "count": 49
           },
           {
            "bin_start": 66.2,
            "bin_end": 73.85000000000001,
            "count": 15
           },
           {
            "bin_start": 73.85000000000001,
            "bin_end": 81.5,
            "count": 5
           }
          ]
         }
        },
        {
         "name": "Monetary Freedom",
         "dtype": "float64",
         "stats": {
          "unique_count": 128,
          "nan_count": 7,
          "min": "0.0",
          "max": "87.1",
          "histogram": [
           {
            "bin_start": 0,
            "bin_end": 8.709999999999999,
            "count": 3
           },
           {
            "bin_start": 8.709999999999999,
            "bin_end": 17.419999999999998,
            "count": 1
           },
           {
            "bin_start": 17.419999999999998,
            "bin_end": 26.129999999999995,
            "count": 0
           },
           {
            "bin_start": 26.129999999999995,
            "bin_end": 34.839999999999996,
            "count": 0
           },
           {
            "bin_start": 34.839999999999996,
            "bin_end": 43.55,
            "count": 3
           },
           {
            "bin_start": 43.55,
            "bin_end": 52.25999999999999,
            "count": 0
           },
           {
            "bin_start": 52.25999999999999,
            "bin_end": 60.96999999999999,
            "count": 3
           },
           {
            "bin_start": 60.96999999999999,
            "bin_end": 69.67999999999999,
            "count": 19
           },
           {
            "bin_start": 69.67999999999999,
            "bin_end": 78.38999999999999,
            "count": 65
           },
           {
            "bin_start": 78.38999999999999,
            "bin_end": 87.1,
            "count": 83
           }
          ]
         }
        },
        {
         "name": "Trade Freedom",
         "dtype": "float64",
         "stats": {
          "unique_count": 107,
          "nan_count": 7,
          "min": "0.0",
          "max": "95.0",
          "histogram": [
           {
            "bin_start": 0,
            "bin_end": 9.5,
            "count": 2
           },
           {
            "bin_start": 9.5,
            "bin_end": 19,
            "count": 0
           },
           {
            "bin_start": 19,
            "bin_end": 28.5,
            "count": 1
           },
           {
            "bin_start": 28.5,
            "bin_end": 38,
            "count": 0
           },
           {
            "bin_start": 38,
            "bin_end": 47.5,
            "count": 4
           },
           {
            "bin_start": 47.5,
            "bin_end": 57,
            "count": 15
           },
           {
            "bin_start": 57,
            "bin_end": 66.5,
            "count": 40
           },
           {
            "bin_start": 66.5,
            "bin_end": 76,
            "count": 52
           },
           {
            "bin_start": 76,
            "bin_end": 85.5,
            "count": 56
           },
           {
            "bin_start": 85.5,
            "bin_end": 95,
            "count": 7
           }
          ]
         }
        },
        {
         "name": "Investment Freedom ",
         "dtype": "float64",
         "stats": {
          "unique_count": 20,
          "nan_count": 7,
          "min": "0.0",
          "max": "95.0",
          "histogram": [
           {
            "bin_start": 0,
            "bin_end": 9.5,
            "count": 5
           },
           {
            "bin_start": 9.5,
            "bin_end": 19,
            "count": 5
           },
           {
            "bin_start": 19,
            "bin_end": 28.5,
            "count": 6
           },
           {
            "bin_start": 28.5,
            "bin_end": 38,
            "count": 17
           },
           {
            "bin_start": 38,
            "bin_end": 47.5,
            "count": 13
           },
           {
            "bin_start": 47.5,
            "bin_end": 57,
            "count": 33
           },
           {
            "bin_start": 57,
            "bin_end": 66.5,
            "count": 35
           },
           {
            "bin_start": 66.5,
            "bin_end": 76,
            "count": 34
           },
           {
            "bin_start": 76,
            "bin_end": 85.5,
            "count": 24
           },
           {
            "bin_start": 85.5,
            "bin_end": 95,
            "count": 5
           }
          ]
         }
        },
        {
         "name": "Financial Freedom",
         "dtype": "float64",
         "stats": {
          "unique_count": 10,
          "nan_count": 7,
          "min": "0.0",
          "max": "90.0",
          "histogram": [
           {
            "bin_start": 0,
            "bin_end": 9,
            "count": 1
           },
           {
            "bin_start": 9,
            "bin_end": 18,
            "count": 5
           },
           {
            "bin_start": 18,
            "bin_end": 27,
            "count": 12
           },
           {
            "bin_start": 27,
            "bin_end": 36,
            "count": 27
           },
           {
            "bin_start": 36,
            "bin_end": 45,
            "count": 27
           },
           {
            "bin_start": 45,
            "bin_end": 54,
            "count": 38
           },
           {
            "bin_start": 54,
            "bin_end": 63,
            "count": 31
           },
           {
            "bin_start": 63,
            "bin_end": 72,
            "count": 22
           },
           {
            "bin_start": 72,
            "bin_end": 81,
            "count": 12
           },
           {
            "bin_start": 81,
            "bin_end": 90,
            "count": 2
           }
          ]
         }
        },
        {
         "name": "Tariff Rate (%)",
         "dtype": "float64",
         "stats": {
          "unique_count": 97,
          "nan_count": 8,
          "min": "0.0",
          "max": "67.7",
          "histogram": [
           {
            "bin_start": 0,
            "bin_end": 6.7700000000000005,
            "count": 91
           },
           {
            "bin_start": 6.7700000000000005,
            "bin_end": 13.540000000000001,
            "count": 65
           },
           {
            "bin_start": 13.540000000000001,
            "bin_end": 20.310000000000002,
            "count": 16
           },
           {
            "bin_start": 20.310000000000002,
            "bin_end": 27.080000000000002,
            "count": 3
           },
           {
            "bin_start": 27.080000000000002,
            "bin_end": 33.85,
            "count": 0
           },
           {
            "bin_start": 33.85,
            "bin_end": 40.620000000000005,
            "count": 0
           },
           {
            "bin_start": 40.620000000000005,
            "bin_end": 47.39,
            "count": 0
           },
           {
            "bin_start": 47.39,
            "bin_end": 54.160000000000004,
            "count": 0
           },
           {
            "bin_start": 54.160000000000004,
            "bin_end": 60.93000000000001,
            "count": 0
           },
           {
            "bin_start": 60.93000000000001,
            "bin_end": 67.7,
            "count": 1
           }
          ]
         }
        },
        {
         "name": "Income Tax Rate (%)",
         "dtype": "float64",
         "stats": {
          "unique_count": 52,
          "nan_count": 2,
          "min": "0.0",
          "max": "60.0",
          "histogram": [
           {
            "bin_start": 0,
            "bin_end": 6,
            "count": 10
           },
           {
            "bin_start": 6,
            "bin_end": 12,
            "count": 17
           },
           {
            "bin_start": 12,
            "bin_end": 18,
            "count": 12
           },
           {
            "bin_start": 18,
            "bin_end": 24,
            "count": 19
           },
           {
            "bin_start": 24,
            "bin_end": 30,
            "count": 22
           },
           {
            "bin_start": 30,
            "bin_end": 36,
            "count": 54
           },
           {
            "bin_start": 36,
            "bin_end": 42,
            "count": 21
           },
           {
            "bin_start": 42,
            "bin_end": 48,
            "count": 14
           },
           {
            "bin_start": 48,
            "bin_end": 54,
            "count": 9
           },
           {
            "bin_start": 54,
            "bin_end": 60,
            "count": 4
           }
          ]
         }
        },
        {
         "name": "Corporate Tax Rate (%)",
         "dtype": "float64",
         "stats": {
          "unique_count": 43,
          "nan_count": 2,
          "min": "0.0",
          "max": "50.0",
          "histogram": [
           {
            "bin_start": 0,
            "bin_end": 5,
            "count": 7
           },
           {
            "bin_start": 5,
            "bin_end": 10,
            "count": 4
           },
           {
            "bin_start": 10,
            "bin_end": 15,
            "count": 11
           },
           {
            "bin_start": 15,
            "bin_end": 20,
            "count": 24
           },
           {
            "bin_start": 20,
            "bin_end": 25,
            "count": 39
           },
           {
            "bin_start": 25,
            "bin_end": 30,
            "count": 45
           },
           {
            "bin_start": 30,
            "bin_end": 35,
            "count": 40
           },
           {
            "bin_start": 35,
            "bin_end": 40,
            "count": 9
           },
           {
            "bin_start": 40,
            "bin_end": 45,
            "count": 1
           },
           {
            "bin_start": 45,
            "bin_end": 50,
            "count": 2
           }
          ]
         }
        },
        {
         "name": "Tax Burden % of GDP",
         "dtype": "float64",
         "stats": {
          "unique_count": 141,
          "nan_count": 6,
          "min": "1.0",
          "max": "46.3",
          "histogram": [
           {
            "bin_start": 1,
            "bin_end": 5.529999999999999,
            "count": 5
           },
           {
            "bin_start": 5.529999999999999,
            "bin_end": 10.059999999999999,
            "count": 21
           },
           {
            "bin_start": 10.059999999999999,
            "bin_end": 14.589999999999998,
            "count": 29
           },
           {
            "bin_start": 14.589999999999998,
            "bin_end": 19.119999999999997,
            "count": 36
           },
           {
            "bin_start": 19.119999999999997,
            "bin_end": 23.65,
            "count": 28
           },
           {
            "bin_start": 23.65,
            "bin_end": 28.179999999999996,
            "count": 14
           },
           {
            "bin_start": 28.179999999999996,
            "bin_end": 32.709999999999994,
            "count": 17
           },
           {
            "bin_start": 32.709999999999994,
            "bin_end": 37.239999999999995,
            "count": 12
           },
           {
            "bin_start": 37.239999999999995,
            "bin_end": 41.769999999999996,
            "count": 8
           },
           {
            "bin_start": 41.769999999999996,
            "bin_end": 46.3,
            "count": 8
           }
          ]
         }
        },
        {
         "name": "Gov't Expenditure % of GDP ",
         "dtype": "float64",
         "stats": {
          "unique_count": 142,
          "nan_count": 7,
          "min": "10.1",
          "max": "119.1",
          "histogram": [
           {
            "bin_start": 10.1,
            "bin_end": 21,
            "count": 31
           },
           {
            "bin_start": 21,
            "bin_end": 31.9,
            "count": 60
           },
           {
            "bin_start": 31.9,
            "bin_end": 42.800000000000004,
            "count": 52
           },
           {
            "bin_start": 42.800000000000004,
            "bin_end": 53.7,
            "count": 24
           },
           {
            "bin_start": 53.7,
            "bin_end": 64.6,
            "count": 7
           },
           {
            "bin_start": 64.6,
            "bin_end": 75.5,
            "count": 1
           },
           {
            "bin_start": 75.5,
            "bin_end": 86.39999999999999,
            "count": 1
           },
           {
            "bin_start": 86.39999999999999,
            "bin_end": 97.3,
            "count": 0
           },
           {
            "bin_start": 97.3,
            "bin_end": 108.2,
            "count": 0
           },
           {
            "bin_start": 108.2,
            "bin_end": 119.1,
            "count": 1
           }
          ]
         }
        },
        {
         "name": "Population (Millions)",
         "dtype": "float64",
         "stats": {
          "unique_count": 142,
          "nan_count": 0,
          "min": "0.038",
          "max": "1402.1",
          "histogram": [
           {
            "bin_start": 0.038,
            "bin_end": 140.2442,
            "count": 175
           },
           {
            "bin_start": 140.2442,
            "bin_end": 280.4504,
            "count": 6
           },
           {
            "bin_start": 280.4504,
            "bin_end": 420.6566,
            "count": 1
           },
           {
            "bin_start": 420.6566,
            "bin_end": 560.8628,
            "count": 0
           },
           {
            "bin_start": 560.8628,
            "bin_end": 701.069,
            "count": 0
           },
           {
            "bin_start": 701.069,
            "bin_end": 841.2752,
            "count": 0
           },
           {
            "bin_start": 841.2752,
            "bin_end": 981.4814,
            "count": 0
           },
           {
            "bin_start": 981.4814,
            "bin_end": 1121.6876,
            "count": 0
           },
           {
            "bin_start": 1121.6876,
            "bin_end": 1261.8938,
            "count": 0
           },
           {
            "bin_start": 1261.8938,
            "bin_end": 1402.1,
            "count": 2
           }
          ]
         }
        },
        {
         "name": "GDP (Billions, PPP)",
         "dtype": "float64",
         "stats": {
          "unique_count": 172,
          "nan_count": 3,
          "min": "0.3",
          "max": "24142.8",
          "histogram": [
           {
            "bin_start": 0.3,
            "bin_end": 2414.55,
            "count": 168
           },
           {
            "bin_start": 2414.55,
            "bin_end": 4828.8,
            "count": 9
           },
           {
            "bin_start": 4828.8,
            "bin_end": 7243.05,
            "count": 1
           },
           {
            "bin_start": 7243.05,
            "bin_end": 9657.3,
            "count": 1
           },
           {
            "bin_start": 9657.3,
            "bin_end": 12071.55,
            "count": 0
           },
           {
            "bin_start": 12071.55,
            "bin_end": 14485.8,
            "count": 0
           },
           {
            "bin_start": 14485.8,
            "bin_end": 16900.05,
            "count": 0
           },
           {
            "bin_start": 16900.05,
            "bin_end": 19314.3,
            "count": 0
           },
           {
            "bin_start": 19314.3,
            "bin_end": 21728.55,
            "count": 1
           },
           {
            "bin_start": 21728.55,
            "bin_end": 24142.8,
            "count": 1
           }
          ]
         }
        },
        {
         "name": "GDP Growth Rate (%)",
         "dtype": "float64",
         "stats": {
          "unique_count": 115,
          "nan_count": 1,
          "min": "-59.7",
          "max": "43.4",
          "histogram": [
           {
            "bin_start": -59.7,
            "bin_end": -49.39,
            "count": 1
           },
           {
            "bin_start": -49.39,
            "bin_end": -39.080000000000005,
            "count": 0
           },
           {
            "bin_start": -39.080000000000005,
            "bin_end": -28.770000000000007,
            "count": 2
           },
           {
            "bin_start": -28.770000000000007,
            "bin_end": -18.460000000000008,
            "count": 3
           },
           {
            "bin_start": -18.460000000000008,
            "bin_end": -8.150000000000006,
            "count": 28
           },
           {
            "bin_start": -8.150000000000006,
            "bin_end": 2.1599999999999895,
            "count": 137
           },
           {
            "bin_start": 2.1599999999999895,
            "bin_end": 12.469999999999985,
            "count": 11
           },
           {
            "bin_start": 12.469999999999985,
            "bin_end": 22.779999999999987,
            "count": 0
           },
           {
            "bin_start": 22.779999999999987,
            "bin_end": 33.08999999999999,
            "count": 0
           },
           {
            "bin_start": 33.08999999999999,
            "bin_end": 43.4,
            "count": 1
           }
          ]
         }
        },
        {
         "name": "5 Year GDP Growth Rate (%)",
         "dtype": "float64",
         "stats": {
          "unique_count": 85,
          "nan_count": 1,
          "min": "-23.5",
          "max": "12.1",
          "histogram": [
           {
            "bin_start": -23.5,
            "bin_end": -19.94,
            "count": 1
           },
           {
            "bin_start": -19.94,
            "bin_end": -16.38,
            "count": 0
           },
           {
            "bin_start": -16.38,
            "bin_end": -12.82,
            "count": 0
           },
           {
            "bin_start": -12.82,
            "bin_end": -9.26,
            "count": 0
           },
           {
            "bin_start": -9.26,
            "bin_end": -5.699999999999999,
            "count": 3
           },
           {
            "bin_start": -5.699999999999999,
            "bin_end": -2.1400000000000006,
            "count": 5
           },
           {
            "bin_start": -2.1400000000000006,
            "bin_end": 1.4200000000000017,
            "count": 81
           },
           {
            "bin_start": 1.4200000000000017,
            "bin_end": 4.98,
            "count": 73
           },
           {
            "bin_start": 4.98,
            "bin_end": 8.54,
            "count": 19
           },
           {
            "bin_start": 8.54,
            "bin_end": 12.1,
            "count": 1
           }
          ]
         }
        },
        {
         "name": "GDP per Capita (PPP)",
         "dtype": "float64",
         "stats": {
          "unique_count": 181,
          "nan_count": 3,
          "min": "760.0",
          "max": "118002.0",
          "histogram": [
           {
            "bin_start": 760,
            "bin_end": 12484.2,
            "count": 89
           },
           {
            "bin_start": 12484.2,
            "bin_end": 24208.4,
            "count": 38
           },
           {
            "bin_start": 24208.4,
            "bin_end": 35932.600000000006,
            "count": 17
           },
           {
            "bin_start": 35932.600000000006,
            "bin_end": 47656.8,
            "count": 16
           },
           {
            "bin_start": 47656.8,
            "bin_end": 59381,
            "count": 13
           },
           {
            "bin_start": 59381,
            "bin_end": 71105.20000000001,
            "count": 3
           },
           {
            "bin_start": 71105.20000000001,
            "bin_end": 82829.40000000001,
            "count": 1
           },
           {
            "bin_start": 82829.40000000001,
            "bin_end": 94553.6,
            "count": 2
           },
           {
            "bin_start": 94553.6,
            "bin_end": 106277.8,
            "count": 1
           },
           {
            "bin_start": 106277.8,
            "bin_end": 118002,
            "count": 1
           }
          ]
         }
        },
        {
         "name": "Unemployment (%)",
         "dtype": "float64",
         "stats": {
          "unique_count": 107,
          "nan_count": 4,
          "min": "0.3",
          "max": "28.7",
          "histogram": [
           {
            "bin_start": 0.3,
            "bin_end": 3.1399999999999997,
            "count": 22
           },
           {
            "bin_start": 3.1399999999999997,
            "bin_end": 5.9799999999999995,
            "count": 59
           },
           {
            "bin_start": 5.9799999999999995,
            "bin_end": 8.82,
            "count": 40
           },
           {
            "bin_start": 8.82,
            "bin_end": 11.66,
            "count": 20
           },
           {
            "bin_start": 11.66,
            "bin_end": 14.5,
            "count": 16
           },
           {
            "bin_start": 14.5,
            "bin_end": 17.34,
            "count": 11
           },
           {
            "bin_start": 17.34,
            "bin_end": 20.18,
            "count": 5
           },
           {
            "bin_start": 20.18,
            "bin_end": 23.02,
            "count": 4
           },
           {
            "bin_start": 23.02,
            "bin_end": 25.86,
            "count": 2
           },
           {
            "bin_start": 25.86,
            "bin_end": 28.7,
            "count": 1
           }
          ]
         }
        },
        {
         "name": "Inflation (%)",
         "dtype": "float64",
         "stats": {
          "unique_count": 94,
          "nan_count": 5,
          "min": "-2.7",
          "max": "2355.1",
          "histogram": [
           {
            "bin_start": -2.7,
            "bin_end": 233.07999999999998,
            "count": 177
           },
           {
            "bin_start": 233.07999999999998,
            "bin_end": 468.85999999999996,
            "count": 0
           },
           {
            "bin_start": 468.85999999999996,
            "bin_end": 704.6399999999999,
            "count": 1
           },
           {
            "bin_start": 704.6399999999999,
            "bin_end": 940.4199999999998,
            "count": 0
           },
           {
            "bin_start": 940.4199999999998,
            "bin_end": 1176.1999999999998,
            "count": 0
           },
           {
            "bin_start": 1176.1999999999998,
            "bin_end": 1411.9799999999998,
            "count": 0
           },
           {
            "bin_start": 1411.9799999999998,
            "bin_end": 1647.7599999999998,
            "count": 0
           },
           {
            "bin_start": 1647.7599999999998,
            "bin_end": 1883.5399999999997,
            "count": 0
           },
           {
            "bin_start": 1883.5399999999997,
            "bin_end": 2119.3199999999997,
            "count": 0
           },
           {
            "bin_start": 2119.3199999999997,
            "bin_end": 2355.1,
            "count": 1
           }
          ]
         }
        },
        {
         "name": "FDI Inflow (Millions)",
         "dtype": "float64",
         "stats": {
          "unique_count": 172,
          "nan_count": 4,
          "min": "-115300.0",
          "max": "156321.0",
          "histogram": [
           {
            "bin_start": -115300,
            "bin_end": -88137.9,
            "count": 1
           },
           {
            "bin_start": -88137.9,
            "bin_end": -60975.8,
            "count": 0
           },
           {
            "bin_start": -60975.8,
            "bin_end": -33813.70000000001,
            "count": 1
           },
           {
            "bin_start": -33813.70000000001,
            "bin_end": -6651.600000000006,
            "count": 1
           },
           {
            "bin_start": -6651.600000000006,
            "bin_end": 20510.5,
            "count": 165
           },
           {
            "bin_start": 20510.5,
            "bin_end": 47672.59999999998,
            "count": 7
           },
           {
            "bin_start": 47672.59999999998,
            "bin_end": 74834.69999999998,
            "count": 2
           },
           {
            "bin_start": 74834.69999999998,
            "bin_end": 101996.79999999999,
            "count": 1
           },
           {
            "bin_start": 101996.79999999999,
            "bin_end": 129158.9,
            "count": 0
           },
           {
            "bin_start": 129158.9,
            "bin_end": 156321,
            "count": 2
           }
          ]
         }
        },
        {
         "name": "Public Debt (% of GDP)",
         "dtype": "float64",
         "stats": {
          "unique_count": 164,
          "nan_count": 3,
          "min": "2.9",
          "max": "304.1",
          "histogram": [
           {
            "bin_start": 2.9,
            "bin_end": 33.02,
            "count": 24
           },
           {
            "bin_start": 33.02,
            "bin_end": 63.14000000000001,
            "count": 73
           },
           {
            "bin_start": 63.14000000000001,
            "bin_end": 93.26000000000002,
            "count": 50
           },
           {
            "bin_start": 93.26000000000002,
            "bin_end": 123.38000000000002,
            "count": 17
           },
           {
            "bin_start": 123.38000000000002,
            "bin_end": 153.50000000000003,
            "count": 9
           },
           {
            "bin_start": 153.50000000000003,
            "bin_end": 183.62000000000003,
            "count": 3
           },
           {
            "bin_start": 183.62000000000003,
            "bin_end": 213.74000000000004,
            "count": 2
           },
           {
            "bin_start": 213.74000000000004,
            "bin_end": 243.86000000000004,
            "count": 0
           },
           {
            "bin_start": 243.86000000000004,
            "bin_end": 273.98,
            "count": 2
           },
           {
            "bin_start": 273.98,
            "bin_end": 304.1,
            "count": 1
           }
          ]
         }
        },
        {
         "name": "_deepnote_index_column",
         "dtype": "int64"
        }
       ],
       "rows": [
        {
         "CountryID": 1,
         "Country Name": "Afghanistan",
         "WEBNAME": "Afghanistan",
         "Region": "Asia-Pacific",
         "World Rank": "nan",
         "Region Rank": "nan",
         "2022 Score": "nan",
         "Property Rights": "nan",
         "Judical Effectiveness": "nan",
         "Government Integrity": "nan",
         "Tax Burden": "nan",
         "Gov't Spending": "nan",
         "Fiscal Health": "nan",
         "Business Freedom": "nan",
         "Labor Freedom": "nan",
         "Monetary Freedom": "nan",
         "Trade Freedom": "nan",
         "Investment Freedom ": "nan",
         "Financial Freedom": "nan",
         "Tariff Rate (%)": "nan",
         "Income Tax Rate (%)": 20,
         "Corporate Tax Rate (%)": 20,
         "Tax Burden % of GDP": 7.5,
         "Gov't Expenditure % of GDP ": "nan",
         "Population (Millions)": 38.9,
         "GDP (Billions, PPP)": 78.7,
         "GDP Growth Rate (%)": -5,
         "5 Year GDP Growth Rate (%)": 1,
         "GDP per Capita (PPP)": 2390,
         "Unemployment (%)": 11.7,
         "Inflation (%)": 5.6,
         "FDI Inflow (Millions)": 13,
         "Public Debt (% of GDP)": 7.8,
         "_deepnote_index_column": 0
        },
        {
         "CountryID": 2,
         "Country Name": "Albania",
         "WEBNAME": "Albania",
         "Region": "Europe",
         "World Rank": 50,
         "Region Rank": 30,
         "2022 Score": 66.6,
         "Property Rights": 55.5,
         "Judical Effectiveness": 49.8,
         "Government Integrity": 35.6,
         "Tax Burden": 89.1,
         "Gov't Spending": 72.1,
         "Fiscal Health": 70.6,
         "Business Freedom": 70.7,
         "Labor Freedom": 51.1,
         "Monetary Freedom": 82,
         "Trade Freedom": 82.6,
         "Investment Freedom ": 70,
         "Financial Freedom": 70,
         "Tariff Rate (%)": 3.7,
         "Income Tax Rate (%)": 23,
         "Corporate Tax Rate (%)": 15,
         "Tax Burden % of GDP": 18.3,
         "Gov't Expenditure % of GDP ": 30.5,
         "Population (Millions)": 2.8,
         "GDP (Billions, PPP)": 40.7,
         "GDP Growth Rate (%)": -3.5,
         "5 Year GDP Growth Rate (%)": 2,
         "GDP per Capita (PPP)": 14218,
         "Unemployment (%)": 11.7,
         "Inflation (%)": 1.6,
         "FDI Inflow (Millions)": 1107,
         "Public Debt (% of GDP)": 76,
         "_deepnote_index_column": 1
        },
        {
         "CountryID": 3,
         "Country Name": "Algeria",
         "WEBNAME": "Algeria",
         "Region": "Middle East and North Africa",
         "World Rank": 167,
         "Region Rank": 13,
         "2022 Score": 45.8,
         "Property Rights": 27.9,
         "Judical Effectiveness": 29.7,
         "Government Integrity": 30.1,
         "Tax Burden": 67.2,
         "Gov't Spending": 57.1,
         "Fiscal Health": 38.6,
         "Business Freedom": 50,
         "Labor Freedom": 51.5,
         "Monetary Freedom": 80.1,
         "Trade Freedom": 57.4,
         "Investment Freedom ": 30,
         "Financial Freedom": 30,
         "Tariff Rate (%)": 13.8,
         "Income Tax Rate (%)": 35,
         "Corporate Tax Rate (%)": 26,
         "Tax Burden % of GDP": 37.2,
         "Gov't Expenditure % of GDP ": 37.8,
         "Population (Millions)": 43.9,
         "GDP (Billions, PPP)": 491.5,
         "GDP Growth Rate (%)": -6,
         "5 Year GDP Growth Rate (%)": 0.1,
         "GDP per Capita (PPP)": 11112,
         "Unemployment (%)": 12.8,
         "Inflation (%)": 2.4,
         "FDI Inflow (Millions)": 1125,
         "Public Debt (% of GDP)": 53.1,
         "_deepnote_index_column": 2
        },
        {
         "CountryID": 4,
         "Country Name": "Angola",
         "WEBNAME": "Angola",
         "Region": "Sub-Saharan Africa",
         "World Rank": 139,
         "Region Rank": 29,
         "2022 Score": 52.6,
         "Property Rights": 39.8,
         "Judical Effectiveness": 25.3,
         "Government Integrity": 20.6,
         "Tax Burden": 86.6,
         "Gov't Spending": 86.4,
         "Fiscal Health": 80,
         "Business Freedom": 37.6,
         "Labor Freedom": 53.9,
         "Monetary Freedom": 61.2,
         "Trade Freedom": 70,
         "Investment Freedom ": 30,
         "Financial Freedom": 40,
         "Tariff Rate (%)": 7.5,
         "Income Tax Rate (%)": 25,
         "Corporate Tax Rate (%)": 25,
         "Tax Burden % of GDP": 9.4,
         "Gov't Expenditure % of GDP ": 21.3,
         "Population (Millions)": 32.9,
         "GDP (Billions, PPP)": 215.1,
         "GDP Growth Rate (%)": -4,
         "5 Year GDP Growth Rate (%)": -1.9,
         "GDP per Capita (PPP)": 6932,
         "Unemployment (%)": 7.7,
         "Inflation (%)": 22.3,
         "FDI Inflow (Millions)": -1866,
         "Public Debt (% of GDP)": 127.1,
         "_deepnote_index_column": 3
        },
        {
         "CountryID": 5,
         "Country Name": "Argentina",
         "WEBNAME": "Argentina",
         "Region": "Americas",
         "World Rank": 144,
         "Region Rank": 27,
         "2022 Score": 50.1,
         "Property Rights": 35.1,
         "Judical Effectiveness": 57.9,
         "Government Integrity": 45.1,
         "Tax Burden": 73.3,
         "Gov't Spending": 53,
         "Fiscal Health": 16.8,
         "Business Freedom": 55.1,
         "Labor Freedom": 51,
         "Monetary Freedom": 37.9,
         "Trade Freedom": 60.6,
         "Investment Freedom ": 55,
         "Financial Freedom": 60,
         "Tariff Rate (%)": 12.2,
         "Income Tax Rate (%)": 35,
         "Corporate Tax Rate (%)": 25,
         "Tax Burden % of GDP": 28.6,
         "Gov't Expenditure % of GDP ": 39.6,
         "Population (Millions)": 45.4,
         "GDP (Billions, PPP)": 941.8,
         "GDP Growth Rate (%)": -10,
         "5 Year GDP Growth Rate (%)": -2.8,
         "GDP per Capita (PPP)": 20751,
         "Unemployment (%)": 11.7,
         "Inflation (%)": 42,
         "FDI Inflow (Millions)": 4123,
         "Public Debt (% of GDP)": 103,
         "_deepnote_index_column": 4
        },
        {
         "CountryID": 6,
         "Country Name": "Armenia",
         "WEBNAME": "Armenia",
         "Region": "Europe",
         "World Rank": 58,
         "Region Rank": 34,
         "2022 Score": 65.3,
         "Property Rights": 50.4,
         "Judical Effectiveness": 33.1,
         "Government Integrity": 50.8,
         "Tax Burden": 86.9,
         "Gov't Spending": 78.9,
         "Fiscal Health": 75.5,
         "Business Freedom": 64.9,
         "Labor Freedom": 47.2,
         "Monetary Freedom": 77.5,
         "Trade Freedom": 73.6,
         "Investment Freedom ": 75,
         "Financial Freedom": 70,
         "Tariff Rate (%)": 5.7,
         "Income Tax Rate (%)": 22,
         "Corporate Tax Rate (%)": 18,
         "Tax Burden % of GDP": 22.5,
         "Gov't Expenditure % of GDP ": 26.5,
         "Population (Millions)": 3,
         "GDP (Billions, PPP)": 39.4,
         "GDP Growth Rate (%)": -7.6,
         "5 Year GDP Growth Rate (%)": 2.6,
         "GDP per Capita (PPP)": 13261,
         "Unemployment (%)": 20.2,
         "Inflation (%)": 1.2,
         "FDI Inflow (Millions)": 117,
         "Public Debt (% of GDP)": 62.8,
         "_deepnote_index_column": 5
        },
        {
         "CountryID": 7,
         "Country Name": "Australia",
         "WEBNAME": "Australia",
         "Region": "Asia-Pacific",
         "World Rank": 12,
         "Region Rank": 4,
         "2022 Score": 77.7,
         "Property Rights": 91.7,
         "Judical Effectiveness": 95.2,
         "Government Integrity": 87,
         "Tax Burden": 62.5,
         "Gov't Spending": 51.6,
         "Fiscal Health": 52,
         "Business Freedom": 84.6,
         "Labor Freedom": 64.2,
         "Monetary Freedom": 83.2,
         "Trade Freedom": 90,
         "Investment Freedom ": 80,
         "Financial Freedom": 90,
         "Tariff Rate (%)": 2.5,
         "Income Tax Rate (%)": 45,
         "Corporate Tax Rate (%)": 30,
         "Tax Burden % of GDP": 28.7,
         "Gov't Expenditure % of GDP ": 40.2,
         "Population (Millions)": 25.7,
         "GDP (Billions, PPP)": 1329.9,
         "GDP Growth Rate (%)": -2.4,
         "5 Year GDP Growth Rate (%)": 1.5,
         "GDP per Capita (PPP)": 51680,
         "Unemployment (%)": 6.6,
         "Inflation (%)": 0.9,
         "FDI Inflow (Millions)": 20146,
         "Public Debt (% of GDP)": 63.1,
         "_deepnote_index_column": 6
        },
        {
         "CountryID": 8,
         "Country Name": "Austria",
         "WEBNAME": "Austria",
         "Region": "Europe",
         "World Rank": 22,
         "Region Rank": 15,
         "2022 Score": 73.8,
         "Property Rights": 98.4,
         "Judical Effectiveness": 94.6,
         "Government Integrity": 82.9,
         "Tax Burden": 45.5,
         "Gov't Spending": 20.3,
         "Fiscal Health": 71.7,
         "Business Freedom": 82.3,
         "Labor Freedom": 78.4,
         "Monetary Freedom": 82.3,
         "Trade Freedom": 79.2,
         "Investment Freedom ": 80,
         "Financial Freedom": 70,
         "Tariff Rate (%)": 2.9,
         "Income Tax Rate (%)": 55,
         "Corporate Tax Rate (%)": 25,
         "Tax Burden % of GDP": 42.4,
         "Gov't Expenditure % of GDP ": 51.6,
         "Population (Millions)": 8.9,
         "GDP (Billions, PPP)": 491.5,
         "GDP Growth Rate (%)": -6.6,
         "5 Year GDP Growth Rate (%)": 0.4,
         "GDP per Capita (PPP)": 55218,
         "Unemployment (%)": 5.8,
         "Inflation (%)": 1.4,
         "FDI Inflow (Millions)": -17340,
         "Public Debt (% of GDP)": 85.2,
         "_deepnote_index_column": 7
        },
        {
         "CountryID": 9,
         "Country Name": "Azerbaijan",
         "WEBNAME": "Azerbaijan",
         "Region": "Europe",
         "World Rank": 75,
         "Region Rank": 37,
         "2022 Score": 61.6,
         "Property Rights": 53.6,
         "Judical Effectiveness": 15.9,
         "Government Integrity": 28.6,
         "Tax Burden": 87.7,
         "Gov't Spending": 62.7,
         "Fiscal Health": 99.1,
         "Business Freedom": 64.6,
         "Labor Freedom": 55.9,
         "Monetary Freedom": 74.5,
         "Trade Freedom": 66.6,
         "Investment Freedom ": 70,
         "Financial Freedom": 60,
         "Tariff Rate (%)": 9.2,
         "Income Tax Rate (%)": 25,
         "Corporate Tax Rate (%)": 20,
         "Tax Burden % of GDP": 14.3,
         "Gov't Expenditure % of GDP ": 35.3,
         "Population (Millions)": 10.1,
         "GDP (Billions, PPP)": 145.8,
         "GDP Growth Rate (%)": -4.3,
         "5 Year GDP Growth Rate (%)": -0.7,
         "GDP per Capita (PPP)": 14431,
         "Unemployment (%)": 6.3,
         "Inflation (%)": 2.8,
         "FDI Inflow (Millions)": 507,
         "Public Debt (% of GDP)": 21.4,
         "_deepnote_index_column": 8
        },
        {
         "CountryID": 10,
         "Country Name": "Bahamas",
         "WEBNAME": "Bahamas",
         "Region": "Americas",
         "World Rank": 38,
         "Region Rank": 6,
         "2022 Score": 68.7,
         "Property Rights": 61.1,
         "Judical Effectiveness": 78.8,
         "Government Integrity": 64.3,
         "Tax Burden": 96.5,
         "Gov't Spending": 85.8,
         "Fiscal Health": 67.3,
         "Business Freedom": 63.3,
         "Labor Freedom": 69.3,
         "Monetary Freedom": 79.2,
         "Trade Freedom": 49,
         "Investment Freedom ": 50,
         "Financial Freedom": 60,
         "Tariff Rate (%)": 18,
         "Income Tax Rate (%)": 0,
         "Corporate Tax Rate (%)": 0,
         "Tax Burden % of GDP": 18.7,
         "Gov't Expenditure % of GDP ": 21.7,
         "Population (Millions)": 0.4,
         "GDP (Billions, PPP)": 12.8,
         "GDP Growth Rate (%)": -16.3,
         "5 Year GDP Growth Rate (%)": -1.5,
         "GDP per Capita (PPP)": 33148,
         "Unemployment (%)": 14.4,
         "Inflation (%)": 0,
         "FDI Inflow (Millions)": 897,
         "Public Debt (% of GDP)": 68.6,
         "_deepnote_index_column": 9
        }
       ]
      },
      "text/plain": "     CountryID Country Name      WEBNAME                        Region  \\\n0            1  Afghanistan  Afghanistan                  Asia-Pacific   \n1            2      Albania      Albania                        Europe   \n2            3      Algeria      Algeria  Middle East and North Africa   \n3            4       Angola       Angola            Sub-Saharan Africa   \n4            5    Argentina    Argentina                      Americas   \n..         ...          ...          ...                           ...   \n179        179    Venezuela    Venezuela                      Americas   \n180        180      Vietnam      Vietnam                  Asia-Pacific   \n181        181        Yemen        Yemen  Middle East and North Africa   \n182        182       Zambia       Zambia            Sub-Saharan Africa   \n183        183     Zimbabwe     Zimbabwe            Sub-Saharan Africa   \n\n     World Rank  Region Rank  2022 Score  Property Rights  \\\n0           NaN          NaN         NaN              NaN   \n1          50.0         30.0        66.6             55.5   \n2         167.0         13.0        45.8             27.9   \n3         139.0         29.0        52.6             39.8   \n4         144.0         27.0        50.1             35.1   \n..          ...          ...         ...              ...   \n179       176.0         32.0        24.8              0.2   \n180        84.0         18.0        60.6             49.6   \n181         NaN          NaN         NaN              NaN   \n182       154.0         36.0        48.7             38.3   \n183       173.0         46.0        33.1             20.8   \n\n     Judical Effectiveness  Government Integrity  ...  \\\n0                      NaN                   NaN  ...   \n1                     49.8                  35.6  ...   \n2                     29.7                  30.1  ...   \n3                     25.3                  20.6  ...   \n4                     57.9                  45.1  ...   \n..                     ...                   ...  ...   \n179                    4.6                   7.1  ...   \n180                   33.8                  33.6  ...   \n181                    NaN                   NaN  ...   \n182                   45.2                  30.8  ...   \n183                   16.3                  20.6  ...   \n\n     Gov't Expenditure % of GDP   Population (Millions)  GDP (Billions, PPP)  \\\n0                            NaN                   38.9                 78.7   \n1                           30.5                    2.8                 40.7   \n2                           37.8                   43.9                491.5   \n3                           21.3                   32.9                215.1   \n4                           39.6                   45.4                941.8   \n..                           ...                    ...                  ...   \n179                         26.9                   28.4                144.7   \n180                         22.0                   97.3               1058.7   \n181                          NaN                   29.8                 62.6   \n182                         29.8                   18.4                 63.1   \n183                         20.7                   14.9                 39.8   \n\n     GDP Growth Rate (%)  5 Year GDP Growth Rate (%)  GDP per Capita (PPP)  \\\n0                   -5.0                         1.0                2390.0   \n1                   -3.5                         2.0               14218.0   \n2                   -6.0                         0.1               11112.0   \n3                   -4.0                        -1.9                6932.0   \n4                  -10.0                        -2.8               20751.0   \n..                   ...                         ...                   ...   \n179                -30.0                       -23.5                5178.0   \n180                  2.9                         6.1               10869.0   \n181                 -5.0                        -3.3                1927.0   \n182                 -3.5                         1.9                3342.0   \n183                 -8.0                        -1.3                2622.0   \n\n     Unemployment (%)  Inflation (%)  FDI Inflow (Millions)  \\\n0                11.7            5.6                   13.0   \n1                11.7            1.6                 1107.0   \n2                12.8            2.4                 1125.0   \n3                 7.7           22.3                -1866.0   \n4                11.7           42.0                 4123.0   \n..                ...            ...                    ...   \n179               9.1         2355.1                  959.0   \n180               2.3            3.2                15800.0   \n181              13.4           26.2                 -371.0   \n182              12.2           16.4                  234.0   \n183               5.7          557.2                  194.0   \n\n     Public Debt (% of GDP)  \n0                       7.8  \n1                      76.0  \n2                      53.1  \n3                     127.1  \n4                     103.0  \n..                      ...  \n179                   304.1  \n180                    46.6  \n181                    83.2  \n182                   117.8  \n183                    88.9  \n\n[184 rows x 33 columns]",
      "text/html": "<div>\n<style scoped>\n    .dataframe tbody tr th:only-of-type {\n        vertical-align: middle;\n    }\n\n    .dataframe tbody tr th {\n        vertical-align: top;\n    }\n\n    .dataframe thead th {\n        text-align: right;\n    }\n</style>\n<table border=\"1\" class=\"dataframe\">\n  <thead>\n    <tr style=\"text-align: right;\">\n      <th></th>\n      <th>CountryID</th>\n      <th>Country Name</th>\n      <th>WEBNAME</th>\n      <th>Region</th>\n      <th>World Rank</th>\n      <th>Region Rank</th>\n      <th>2022 Score</th>\n      <th>Property Rights</th>\n      <th>Judical Effectiveness</th>\n      <th>Government Integrity</th>\n      <th>...</th>\n      <th>Gov't Expenditure % of GDP</th>\n      <th>Population (Millions)</th>\n      <th>GDP (Billions, PPP)</th>\n      <th>GDP Growth Rate (%)</th>\n      <th>5 Year GDP Growth Rate (%)</th>\n      <th>GDP per Capita (PPP)</th>\n      <th>Unemployment (%)</th>\n      <th>Inflation (%)</th>\n      <th>FDI Inflow (Millions)</th>\n      <th>Public Debt (% of GDP)</th>\n    </tr>\n  </thead>\n  <tbody>\n    <tr>\n      <th>0</th>\n      <td>1</td>\n      <td>Afghanistan</td>\n      <td>Afghanistan</td>\n      <td>Asia-Pacific</td>\n      <td>NaN</td>\n      <td>NaN</td>\n      <td>NaN</td>\n      <td>NaN</td>\n      <td>NaN</td>\n      <td>NaN</td>\n      <td>...</td>\n      <td>NaN</td>\n      <td>38.9</td>\n      <td>78.7</td>\n      <td>-5.0</td>\n      <td>1.0</td>\n      <td>2390.0</td>\n      <td>11.7</td>\n      <td>5.6</td>\n      <td>13.0</td>\n      <td>7.8</td>\n    </tr>\n    <tr>\n      <th>1</th>\n      <td>2</td>\n      <td>Albania</td>\n      <td>Albania</td>\n      <td>Europe</td>\n      <td>50.0</td>\n      <td>30.0</td>\n      <td>66.6</td>\n      <td>55.5</td>\n      <td>49.8</td>\n      <td>35.6</td>\n      <td>...</td>\n      <td>30.5</td>\n      <td>2.8</td>\n      <td>40.7</td>\n      <td>-3.5</td>\n      <td>2.0</td>\n      <td>14218.0</td>\n      <td>11.7</td>\n      <td>1.6</td>\n      <td>1107.0</td>\n      <td>76.0</td>\n    </tr>\n    <tr>\n      <th>2</th>\n      <td>3</td>\n      <td>Algeria</td>\n      <td>Algeria</td>\n      <td>Middle East and North Africa</td>\n      <td>167.0</td>\n      <td>13.0</td>\n      <td>45.8</td>\n      <td>27.9</td>\n      <td>29.7</td>\n      <td>30.1</td>\n      <td>...</td>\n      <td>37.8</td>\n      <td>43.9</td>\n      <td>491.5</td>\n      <td>-6.0</td>\n      <td>0.1</td>\n      <td>11112.0</td>\n      <td>12.8</td>\n      <td>2.4</td>\n      <td>1125.0</td>\n      <td>53.1</td>\n    </tr>\n    <tr>\n      <th>3</th>\n      <td>4</td>\n      <td>Angola</td>\n      <td>Angola</td>\n      <td>Sub-Saharan Africa</td>\n      <td>139.0</td>\n      <td>29.0</td>\n      <td>52.6</td>\n      <td>39.8</td>\n      <td>25.3</td>\n      <td>20.6</td>\n      <td>...</td>\n      <td>21.3</td>\n      <td>32.9</td>\n      <td>215.1</td>\n      <td>-4.0</td>\n      <td>-1.9</td>\n      <td>6932.0</td>\n      <td>7.7</td>\n      <td>22.3</td>\n      <td>-1866.0</td>\n      <td>127.1</td>\n    </tr>\n    <tr>\n      <th>4</th>\n      <td>5</td>\n      <td>Argentina</td>\n      <td>Argentina</td>\n      <td>Americas</td>\n      <td>144.0</td>\n      <td>27.0</td>\n      <td>50.1</td>\n      <td>35.1</td>\n      <td>57.9</td>\n      <td>45.1</td>\n      <td>...</td>\n      <td>39.6</td>\n      <td>45.4</td>\n      <td>941.8</td>\n      <td>-10.0</td>\n      <td>-2.8</td>\n      <td>20751.0</td>\n      <td>11.7</td>\n      <td>42.0</td>\n      <td>4123.0</td>\n      <td>103.0</td>\n    </tr>\n    <tr>\n      <th>...</th>\n      <td>...</td>\n      <td>...</td>\n      <td>...</td>\n      <td>...</td>\n      <td>...</td>\n      <td>...</td>\n      <td>...</td>\n      <td>...</td>\n      <td>...</td>\n      <td>...</td>\n      <td>...</td>\n      <td>...</td>\n      <td>...</td>\n      <td>...</td>\n      <td>...</td>\n      <td>...</td>\n      <td>...</td>\n      <td>...</td>\n      <td>...</td>\n      <td>...</td>\n      <td>...</td>\n    </tr>\n    <tr>\n      <th>179</th>\n      <td>179</td>\n      <td>Venezuela</td>\n      <td>Venezuela</td>\n      <td>Americas</td>\n      <td>176.0</td>\n      <td>32.0</td>\n      <td>24.8</td>\n      <td>0.2</td>\n      <td>4.6</td>\n      <td>7.1</td>\n      <td>...</td>\n      <td>26.9</td>\n      <td>28.4</td>\n      <td>144.7</td>\n      <td>-30.0</td>\n      <td>-23.5</td>\n      <td>5178.0</td>\n      <td>9.1</td>\n      <td>2355.1</td>\n      <td>959.0</td>\n      <td>304.1</td>\n    </tr>\n    <tr>\n      <th>180</th>\n      <td>180</td>\n      <td>Vietnam</td>\n      <td>Vietnam</td>\n      <td>Asia-Pacific</td>\n      <td>84.0</td>\n      <td>18.0</td>\n      <td>60.6</td>\n      <td>49.6</td>\n      <td>33.8</td>\n      <td>33.6</td>\n      <td>...</td>\n      <td>22.0</td>\n      <td>97.3</td>\n      <td>1058.7</td>\n      <td>2.9</td>\n      <td>6.1</td>\n      <td>10869.0</td>\n      <td>2.3</td>\n      <td>3.2</td>\n      <td>15800.0</td>\n      <td>46.6</td>\n    </tr>\n    <tr>\n      <th>181</th>\n      <td>181</td>\n      <td>Yemen</td>\n      <td>Yemen</td>\n      <td>Middle East and North Africa</td>\n      <td>NaN</td>\n      <td>NaN</td>\n      <td>NaN</td>\n      <td>NaN</td>\n      <td>NaN</td>\n      <td>NaN</td>\n      <td>...</td>\n      <td>NaN</td>\n      <td>29.8</td>\n      <td>62.6</td>\n      <td>-5.0</td>\n      <td>-3.3</td>\n      <td>1927.0</td>\n      <td>13.4</td>\n      <td>26.2</td>\n      <td>-371.0</td>\n      <td>83.2</td>\n    </tr>\n    <tr>\n      <th>182</th>\n      <td>182</td>\n      <td>Zambia</td>\n      <td>Zambia</td>\n      <td>Sub-Saharan Africa</td>\n      <td>154.0</td>\n      <td>36.0</td>\n      <td>48.7</td>\n      <td>38.3</td>\n      <td>45.2</td>\n      <td>30.8</td>\n      <td>...</td>\n      <td>29.8</td>\n      <td>18.4</td>\n      <td>63.1</td>\n      <td>-3.5</td>\n      <td>1.9</td>\n      <td>3342.0</td>\n      <td>12.2</td>\n      <td>16.4</td>\n      <td>234.0</td>\n      <td>117.8</td>\n    </tr>\n    <tr>\n      <th>183</th>\n      <td>183</td>\n      <td>Zimbabwe</td>\n      <td>Zimbabwe</td>\n      <td>Sub-Saharan Africa</td>\n      <td>173.0</td>\n      <td>46.0</td>\n      <td>33.1</td>\n      <td>20.8</td>\n      <td>16.3</td>\n      <td>20.6</td>\n      <td>...</td>\n      <td>20.7</td>\n      <td>14.9</td>\n      <td>39.8</td>\n      <td>-8.0</td>\n      <td>-1.3</td>\n      <td>2622.0</td>\n      <td>5.7</td>\n      <td>557.2</td>\n      <td>194.0</td>\n      <td>88.9</td>\n    </tr>\n  </tbody>\n</table>\n<p>184 rows × 33 columns</p>\n</div>"
     },
     "metadata": {}
    }
   ],
   "execution_count": null
  },
  {
   "cell_type": "markdown",
   "source": "The dataframe was created successfully. Aside from the economic freedom rankings and scores, we have 26 different variables we can analyze.",
   "metadata": {
    "cell_id": "6c7d851c137f4541baabe2afe511b8ba",
    "tags": [],
    "deepnote_app_coordinates": {
     "x": 0,
     "y": 54,
     "w": 12,
     "h": 5
    },
    "deepnote_cell_type": "markdown",
    "deepnote_cell_height": 74.78125
   }
  },
  {
   "cell_type": "markdown",
   "source": "## Select Most Recent Years from Happiness Report",
   "metadata": {
    "cell_id": "6e3979bebcdb4c0a954002318661129a",
    "tags": [],
    "deepnote_app_coordinates": {
     "x": 0,
     "y": 60,
     "w": 12,
     "h": 5
    },
    "deepnote_cell_type": "markdown",
    "deepnote_cell_height": 70
   }
  },
  {
   "cell_type": "markdown",
   "source": "We want to merge the two data sets with an inner join, but because we have life satisfaction data for multiple years for each country, merging the two data sets will be difficult. We could use an outer join, but for analysis purposes we will instead get the latest life satisfaction data for each country.",
   "metadata": {
    "cell_id": "ab9c3ec7da0746d5989537254f64f627",
    "tags": [],
    "deepnote_app_coordinates": {
     "x": 0,
     "y": 66,
     "w": 12,
     "h": 5
    },
    "deepnote_cell_type": "markdown",
    "deepnote_cell_height": 97.171875
   }
  },
  {
   "cell_type": "code",
   "metadata": {
    "cell_id": "5274cb0233584724b4eefccd3fb6e37f",
    "tags": [],
    "deepnote_to_be_reexecuted": false,
    "source_hash": "d697f0b7",
    "execution_start": 1651266853433,
    "execution_millis": 27,
    "deepnote_table_state": {
     "pageSize": 10,
     "pageIndex": 3,
     "filters": [],
     "sortBy": []
    },
    "deepnote_table_loading": false,
    "deepnote_app_coordinates": {
     "x": 0,
     "y": 72,
     "w": 12,
     "h": 5
    },
    "deepnote_cell_type": "code",
    "deepnote_cell_height": 780
   },
   "source": "#We will use the sqldf package to get the latest data for each country using a SQL query\npysqldf = lambda q: sqldf(q, globals())\n\n#Select the maximum year (which we'll call \"Latest Happiness Year\") for each country\nq = \"\"\"SELECT Entity, MAX(Year) as 'Latest Happiness Year', \"Life satisfaction in Cantril Ladder (World Happiness Report 2021)\" AS LifeSatisfaction\n        FROM happiness_by_country\n        GROUP BY Entity;\"\"\"\nlatest_happiness = pysqldf(q)\n\n#Display the dataframe\nlatest_happiness",
   "outputs": [
    {
     "output_type": "execute_result",
     "execution_count": 4,
     "data": {
      "application/vnd.deepnote.dataframe.v3+json": {
       "column_count": 3,
       "row_count": 166,
       "columns": [
        {
         "name": "Entity",
         "dtype": "object",
         "stats": {
          "unique_count": 166,
          "nan_count": 0,
          "categories": [
           {
            "name": "Afghanistan",
            "count": 1
           },
           {
            "name": "Albania",
            "count": 1
           },
           {
            "name": "164 others",
            "count": 164
           }
          ]
         }
        },
        {
         "name": "Latest Happiness Year",
         "dtype": "int64",
         "stats": {
          "unique_count": 11,
          "nan_count": 0,
          "min": "2006",
          "max": "2020",
          "histogram": [
           {
            "bin_start": 2006,
            "bin_end": 2007.4,
            "count": 2
           },
           {
            "bin_start": 2007.4,
            "bin_end": 2008.8,
            "count": 0
           },
           {
            "bin_start": 2008.8,
            "bin_end": 2010.2,
            "count": 0
           },
           {
            "bin_start": 2010.2,
            "bin_end": 2011.6,
            "count": 2
           },
           {
            "bin_start": 2011.6,
            "bin_end": 2013,
            "count": 2
           },
           {
            "bin_start": 2013,
            "bin_end": 2014.4,
            "count": 3
           },
           {
            "bin_start": 2014.4,
            "bin_end": 2015.8,
            "count": 3
           },
           {
            "bin_start": 2015.8,
            "bin_end": 2017.2,
            "count": 5
           },
           {
            "bin_start": 2017.2,
            "bin_end": 2018.6,
            "count": 3
           },
           {
            "bin_start": 2018.6,
            "bin_end": 2020,
            "count": 146
           }
          ]
         }
        },
        {
         "name": "LifeSatisfaction",
         "dtype": "float64",
         "stats": {
          "unique_count": 165,
          "nan_count": 0,
          "min": "2.375",
          "max": "7.889",
          "histogram": [
           {
            "bin_start": 2.375,
            "bin_end": 2.9264,
            "count": 2
           },
           {
            "bin_start": 2.9264,
            "bin_end": 3.4778000000000002,
            "count": 6
           },
           {
            "bin_start": 3.4778000000000002,
            "bin_end": 4.0291999999999994,
            "count": 7
           },
           {
            "bin_start": 4.0291999999999994,
            "bin_end": 4.5806000000000004,
            "count": 22
           },
           {
            "bin_start": 4.5806000000000004,
            "bin_end": 5.132,
            "count": 23
           },
           {
            "bin_start": 5.132,
            "bin_end": 5.6834,
            "count": 32
           },
           {
            "bin_start": 5.6834,
            "bin_end": 6.2348,
            "count": 33
           },
           {
            "bin_start": 6.2348,
            "bin_end": 6.7862,
            "count": 20
           },
           {
            "bin_start": 6.7862,
            "bin_end": 7.3376,
            "count": 15
           },
           {
            "bin_start": 7.3376,
            "bin_end": 7.889,
            "count": 6
           }
          ]
         }
        },
        {
         "name": "_deepnote_index_column",
         "dtype": "int64"
        }
       ],
       "rows": [
        {
         "Entity": "Colombia",
         "Latest Happiness Year": 2020,
         "LifeSatisfaction": 5.709,
         "_deepnote_index_column": 30
        },
        {
         "Entity": "Comoros",
         "Latest Happiness Year": 2019,
         "LifeSatisfaction": 4.609,
         "_deepnote_index_column": 31
        },
        {
         "Entity": "Costa Rica",
         "Latest Happiness Year": 2019,
         "LifeSatisfaction": 6.998,
         "_deepnote_index_column": 32
        },
        {
         "Entity": "Cote d'Ivoire",
         "Latest Happiness Year": 2020,
         "LifeSatisfaction": 5.257,
         "_deepnote_index_column": 33
        },
        {
         "Entity": "Croatia",
         "Latest Happiness Year": 2020,
         "LifeSatisfaction": 6.508,
         "_deepnote_index_column": 34
        },
        {
         "Entity": "Cuba",
         "Latest Happiness Year": 2006,
         "LifeSatisfaction": 5.418,
         "_deepnote_index_column": 35
        },
        {
         "Entity": "Cyprus",
         "Latest Happiness Year": 2020,
         "LifeSatisfaction": 6.26,
         "_deepnote_index_column": 36
        },
        {
         "Entity": "Czech Republic",
         "Latest Happiness Year": 2020,
         "LifeSatisfaction": 6.897,
         "_deepnote_index_column": 37
        },
        {
         "Entity": "Democratic Republic of Congo",
         "Latest Happiness Year": 2017,
         "LifeSatisfaction": 4.311,
         "_deepnote_index_column": 38
        },
        {
         "Entity": "Denmark",
         "Latest Happiness Year": 2020,
         "LifeSatisfaction": 7.515,
         "_deepnote_index_column": 39
        }
       ]
      },
      "text/plain": "          Entity  Latest Happiness Year  LifeSatisfaction\n0    Afghanistan                   2019             2.375\n1        Albania                   2020             5.365\n2        Algeria                   2019             4.745\n3         Angola                   2014             3.795\n4      Argentina                   2020             5.901\n..           ...                    ...               ...\n161    Venezuela                   2020             4.574\n162      Vietnam                   2019             5.467\n163        Yemen                   2019             4.197\n164       Zambia                   2020             4.838\n165     Zimbabwe                   2020             3.160\n\n[166 rows x 3 columns]",
      "text/html": "<div>\n<style scoped>\n    .dataframe tbody tr th:only-of-type {\n        vertical-align: middle;\n    }\n\n    .dataframe tbody tr th {\n        vertical-align: top;\n    }\n\n    .dataframe thead th {\n        text-align: right;\n    }\n</style>\n<table border=\"1\" class=\"dataframe\">\n  <thead>\n    <tr style=\"text-align: right;\">\n      <th></th>\n      <th>Entity</th>\n      <th>Latest Happiness Year</th>\n      <th>LifeSatisfaction</th>\n    </tr>\n  </thead>\n  <tbody>\n    <tr>\n      <th>0</th>\n      <td>Afghanistan</td>\n      <td>2019</td>\n      <td>2.375</td>\n    </tr>\n    <tr>\n      <th>1</th>\n      <td>Albania</td>\n      <td>2020</td>\n      <td>5.365</td>\n    </tr>\n    <tr>\n      <th>2</th>\n      <td>Algeria</td>\n      <td>2019</td>\n      <td>4.745</td>\n    </tr>\n    <tr>\n      <th>3</th>\n      <td>Angola</td>\n      <td>2014</td>\n      <td>3.795</td>\n    </tr>\n    <tr>\n      <th>4</th>\n      <td>Argentina</td>\n      <td>2020</td>\n      <td>5.901</td>\n    </tr>\n    <tr>\n      <th>...</th>\n      <td>...</td>\n      <td>...</td>\n      <td>...</td>\n    </tr>\n    <tr>\n      <th>161</th>\n      <td>Venezuela</td>\n      <td>2020</td>\n      <td>4.574</td>\n    </tr>\n    <tr>\n      <th>162</th>\n      <td>Vietnam</td>\n      <td>2019</td>\n      <td>5.467</td>\n    </tr>\n    <tr>\n      <th>163</th>\n      <td>Yemen</td>\n      <td>2019</td>\n      <td>4.197</td>\n    </tr>\n    <tr>\n      <th>164</th>\n      <td>Zambia</td>\n      <td>2020</td>\n      <td>4.838</td>\n    </tr>\n    <tr>\n      <th>165</th>\n      <td>Zimbabwe</td>\n      <td>2020</td>\n      <td>3.160</td>\n    </tr>\n  </tbody>\n</table>\n<p>166 rows × 3 columns</p>\n</div>"
     },
     "metadata": {}
    }
   ],
   "execution_count": null
  },
  {
   "cell_type": "markdown",
   "source": "The output indicates out SQL query was successful. We now have only the latest life satisfaction data for each country.",
   "metadata": {
    "cell_id": "67e836ff6af94fbc9083cf025eb9f60c",
    "tags": [],
    "deepnote_app_coordinates": {
     "x": 0,
     "y": 78,
     "w": 12,
     "h": 5
    },
    "deepnote_cell_type": "markdown",
    "deepnote_cell_height": 52.390625
   }
  },
  {
   "cell_type": "markdown",
   "source": "## Merge Datasets Together",
   "metadata": {
    "cell_id": "1b95f497d9c940528b317074a16c112c",
    "tags": [],
    "deepnote_app_coordinates": {
     "x": 0,
     "y": 84,
     "w": 12,
     "h": 5
    },
    "deepnote_cell_type": "markdown",
    "deepnote_cell_height": 70
   }
  },
  {
   "cell_type": "markdown",
   "source": "Now we can merge the two datasets on the country columns. In the index of economic freedom, the country column is titled `Country Name`. In the life satisfaction data, the country column is called `Entity`.",
   "metadata": {
    "cell_id": "f3cf734becaa4cffafbb033f67d0bef9",
    "tags": [],
    "deepnote_app_coordinates": {
     "x": 0,
     "y": 90,
     "w": 12,
     "h": 5
    },
    "owner_user_id": "a32774df-b602-43aa-903c-95015262ffc2",
    "deepnote_cell_type": "markdown",
    "deepnote_cell_height": 144.78125
   }
  },
  {
   "cell_type": "code",
   "metadata": {
    "cell_id": "37b8248ce6a94fbfad10c9d701b0e318",
    "tags": [],
    "deepnote_to_be_reexecuted": false,
    "source_hash": "3abe2de0",
    "execution_start": 1651266853460,
    "execution_millis": 155,
    "deepnote_table_state": {
     "pageSize": 10,
     "pageIndex": 0,
     "filters": [],
     "sortBy": []
    },
    "deepnote_table_loading": false,
    "deepnote_table_invalid": false,
    "deepnote_app_coordinates": {
     "x": 0,
     "y": 96,
     "w": 12,
     "h": 5
    },
    "deepnote_cell_type": "code",
    "deepnote_cell_height": 689
   },
   "source": "#We will use an inner join on Country Name and Entity\nfull_data = index_of_economic_freedom.merge(latest_happiness, left_on='Country Name', right_on='Entity', how='inner')\nfull_data.drop('Entity', axis=1, inplace=True) #Since we have Country Name, Entity is redundant. We can drop it\nfull_data = full_data.dropna() #For for the analysis we do later, we also cant have missing data\nfull_data",
   "outputs": [
    {
     "output_type": "execute_result",
     "execution_count": 5,
     "data": {
      "application/vnd.deepnote.dataframe.v3+json": {
       "column_count": 35,
       "row_count": 151,
       "columns": [
        {
         "name": "CountryID",
         "dtype": "int64",
         "stats": {
          "unique_count": 151,
          "nan_count": 0,
          "min": "2",
          "max": "183",
          "histogram": [
           {
            "bin_start": 2,
            "bin_end": 20.1,
            "count": 17
           },
           {
            "bin_start": 20.1,
            "bin_end": 38.2,
            "count": 16
           },
           {
            "bin_start": 38.2,
            "bin_end": 56.300000000000004,
            "count": 13
           },
           {
            "bin_start": 56.300000000000004,
            "bin_end": 74.4,
            "count": 16
           },
           {
            "bin_start": 74.4,
            "bin_end": 92.5,
            "count": 15
           },
           {
            "bin_start": 92.5,
            "bin_end": 110.60000000000001,
            "count": 15
           },
           {
            "bin_start": 110.60000000000001,
            "bin_end": 128.70000000000002,
            "count": 16
           },
           {
            "bin_start": 128.70000000000002,
            "bin_end": 146.8,
            "count": 13
           },
           {
            "bin_start": 146.8,
            "bin_end": 164.9,
            "count": 14
           },
           {
            "bin_start": 164.9,
            "bin_end": 183,
            "count": 16
           }
          ]
         }
        },
        {
         "name": "Country Name",
         "dtype": "object",
         "stats": {
          "unique_count": 151,
          "nan_count": 0,
          "categories": [
           {
            "name": "Albania",
            "count": 1
           },
           {
            "name": "Algeria",
            "count": 1
           },
           {
            "name": "149 others",
            "count": 149
           }
          ]
         }
        },
        {
         "name": "WEBNAME",
         "dtype": "object",
         "stats": {
          "unique_count": 151,
          "nan_count": 0,
          "categories": [
           {
            "name": "Albania",
            "count": 1
           },
           {
            "name": "Algeria",
            "count": 1
           },
           {
            "name": "149 others",
            "count": 149
           }
          ]
         }
        },
        {
         "name": "Region",
         "dtype": "object",
         "stats": {
          "unique_count": 5,
          "nan_count": 0,
          "categories": [
           {
            "name": "Europe",
            "count": 44
           },
           {
            "name": "Sub-Saharan Africa",
            "count": 41
           },
           {
            "name": "3 others",
            "count": 66
           }
          ]
         }
        },
        {
         "name": "World Rank",
         "dtype": "float64",
         "stats": {
          "unique_count": 151,
          "nan_count": 0,
          "min": "1.0",
          "max": "176.0",
          "histogram": [
           {
            "bin_start": 1,
            "bin_end": 18.5,
            "count": 17
           },
           {
            "bin_start": 18.5,
            "bin_end": 36,
            "count": 16
           },
           {
            "bin_start": 36,
            "bin_end": 53.5,
            "count": 15
           },
           {
            "bin_start": 53.5,
            "bin_end": 71,
            "count": 14
           },
           {
            "bin_start": 71,
            "bin_end": 88.5,
            "count": 12
           },
           {
            "bin_start": 88.5,
            "bin_end": 106,
            "count": 16
           },
           {
            "bin_start": 106,
            "bin_end": 123.5,
            "count": 15
           },
           {
            "bin_start": 123.5,
            "bin_end": 141,
            "count": 16
           },
           {
            "bin_start": 141,
            "bin_end": 158.5,
            "count": 17
           },
           {
            "bin_start": 158.5,
            "bin_end": 176,
            "count": 13
           }
          ]
         }
        },
        {
         "name": "Region Rank",
         "dtype": "float64",
         "stats": {
          "unique_count": 47,
          "nan_count": 0,
          "min": "1.0",
          "max": "47.0",
          "histogram": [
           {
            "bin_start": 1,
            "bin_end": 5.6,
            "count": 21
           },
           {
            "bin_start": 5.6,
            "bin_end": 10.2,
            "count": 20
           },
           {
            "bin_start": 10.2,
            "bin_end": 14.799999999999999,
            "count": 18
           },
           {
            "bin_start": 14.799999999999999,
            "bin_end": 19.4,
            "count": 18
           },
           {
            "bin_start": 19.4,
            "bin_end": 24,
            "count": 13
           },
           {
            "bin_start": 24,
            "bin_end": 28.599999999999998,
            "count": 18
           },
           {
            "bin_start": 28.599999999999998,
            "bin_end": 33.199999999999996,
            "count": 17
           },
           {
            "bin_start": 33.199999999999996,
            "bin_end": 37.8,
            "count": 11
           },
           {
            "bin_start": 37.8,
            "bin_end": 42.4,
            "count": 8
           },
           {
            "bin_start": 42.4,
            "bin_end": 47,
            "count": 7
           }
          ]
         }
        },
        {
         "name": "2022 Score",
         "dtype": "float64",
         "stats": {
          "unique_count": 128,
          "nan_count": 0,
          "min": "24.8",
          "max": "84.4",
          "histogram": [
           {
            "bin_start": 24.8,
            "bin_end": 30.76,
            "count": 1
           },
           {
            "bin_start": 30.76,
            "bin_end": 36.72,
            "count": 2
           },
           {
            "bin_start": 36.72,
            "bin_end": 42.68000000000001,
            "count": 2
           },
           {
            "bin_start": 42.68000000000001,
            "bin_end": 48.64,
            "count": 12
           },
           {
            "bin_start": 48.64,
            "bin_end": 54.60000000000001,
            "count": 29
           },
           {
            "bin_start": 54.60000000000001,
            "bin_end": 60.56,
            "count": 33
           },
           {
            "bin_start": 60.56,
            "bin_end": 66.52000000000001,
            "count": 27
           },
           {
            "bin_start": 66.52000000000001,
            "bin_end": 72.48,
            "count": 22
           },
           {
            "bin_start": 72.48,
            "bin_end": 78.44000000000001,
            "count": 16
           },
           {
            "bin_start": 78.44000000000001,
            "bin_end": 84.4,
            "count": 7
           }
          ]
         }
        },
        {
         "name": "Property Rights",
         "dtype": "float64",
         "stats": {
          "unique_count": 137,
          "nan_count": 0,
          "min": "0.2",
          "max": "100.0",
          "histogram": [
           {
            "bin_start": 0.2,
            "bin_end": 10.18,
            "count": 2
           },
           {
            "bin_start": 10.18,
            "bin_end": 20.16,
            "count": 4
           },
           {
            "bin_start": 20.16,
            "bin_end": 30.14,
            "count": 14
           },
           {
            "bin_start": 30.14,
            "bin_end": 40.120000000000005,
            "count": 26
           },
           {
            "bin_start": 40.120000000000005,
            "bin_end": 50.10000000000001,
            "count": 31
           },
           {
            "bin_start": 50.10000000000001,
            "bin_end": 60.080000000000005,
            "count": 17
           },
           {
            "bin_start": 60.080000000000005,
            "bin_end": 70.06,
            "count": 13
           },
           {
            "bin_start": 70.06,
            "bin_end": 80.04,
            "count": 7
           },
           {
            "bin_start": 80.04,
            "bin_end": 90.02000000000001,
            "count": 17
           },
           {
            "bin_start": 90.02000000000001,
            "bin_end": 100,
            "count": 20
           }
          ]
         }
        },
        {
         "name": "Judical Effectiveness",
         "dtype": "float64",
         "stats": {
          "unique_count": 138,
          "nan_count": 0,
          "min": "4.6",
          "max": "98.0",
          "histogram": [
           {
            "bin_start": 4.6,
            "bin_end": 13.94,
            "count": 12
           },
           {
            "bin_start": 13.94,
            "bin_end": 23.28,
            "count": 11
           },
           {
            "bin_start": 23.28,
            "bin_end": 32.62,
            "count": 23
           },
           {
            "bin_start": 32.62,
            "bin_end": 41.96,
            "count": 25
           },
           {
            "bin_start": 41.96,
            "bin_end": 51.300000000000004,
            "count": 18
           },
           {
            "bin_start": 51.300000000000004,
            "bin_end": 60.64,
            "count": 15
           },
           {
            "bin_start": 60.64,
            "bin_end": 69.97999999999999,
            "count": 8
           },
           {
            "bin_start": 69.97999999999999,
            "bin_end": 79.32,
            "count": 11
           },
           {
            "bin_start": 79.32,
            "bin_end": 88.66,
            "count": 6
           },
           {
            "bin_start": 88.66,
            "bin_end": 98,
            "count": 22
           }
          ]
         }
        },
        {
         "name": "Government Integrity",
         "dtype": "float64",
         "stats": {
          "unique_count": 139,
          "nan_count": 0,
          "min": "7.1",
          "max": "99.5",
          "histogram": [
           {
            "bin_start": 7.1,
            "bin_end": 16.34,
            "count": 9
           },
           {
            "bin_start": 16.34,
            "bin_end": 25.58,
            "count": 20
           },
           {
            "bin_start": 25.58,
            "bin_end": 34.82,
            "count": 29
           },
           {
            "bin_start": 34.82,
            "bin_end": 44.06,
            "count": 30
           },
           {
            "bin_start": 44.06,
            "bin_end": 53.300000000000004,
            "count": 17
           },
           {
            "bin_start": 53.300000000000004,
            "bin_end": 62.54,
            "count": 12
           },
           {
            "bin_start": 62.54,
            "bin_end": 71.78,
            "count": 10
           },
           {
            "bin_start": 71.78,
            "bin_end": 81.02,
            "count": 6
           },
           {
            "bin_start": 81.02,
            "bin_end": 90.25999999999999,
            "count": 10
           },
           {
            "bin_start": 90.25999999999999,
            "bin_end": 99.5,
            "count": 8
           }
          ]
         }
        },
        {
         "name": "Tax Burden",
         "dtype": "float64",
         "stats": {
          "unique_count": 130,
          "nan_count": 0,
          "min": "42.3",
          "max": "100.0",
          "histogram": [
           {
            "bin_start": 42.3,
            "bin_end": 48.07,
            "count": 4
           },
           {
            "bin_start": 48.07,
            "bin_end": 53.839999999999996,
            "count": 3
           },
           {
            "bin_start": 53.839999999999996,
            "bin_end": 59.61,
            "count": 3
           },
           {
            "bin_start": 59.61,
            "bin_end": 65.38,
            "count": 11
           },
           {
            "bin_start": 65.38,
            "bin_end": 71.15,
            "count": 17
           },
           {
            "bin_start": 71.15,
            "bin_end": 76.92,
            "count": 25
           },
           {
            "bin_start": 76.92,
            "bin_end": 82.69,
            "count": 34
           },
           {
            "bin_start": 82.69,
            "bin_end": 88.46000000000001,
            "count": 22
           },
           {
            "bin_start": 88.46000000000001,
            "bin_end": 94.23,
            "count": 20
           },
           {
            "bin_start": 94.23,
            "bin_end": 100,
            "count": 12
           }
          ]
         }
        },
        {
         "name": "Gov't Spending",
         "dtype": "float64",
         "stats": {
          "unique_count": 139,
          "nan_count": 0,
          "min": "0.5",
          "max": "97.0",
          "histogram": [
           {
            "bin_start": 0.5,
            "bin_end": 10.15,
            "count": 4
           },
           {
            "bin_start": 10.15,
            "bin_end": 19.8,
            "count": 3
           },
           {
            "bin_start": 19.8,
            "bin_end": 29.450000000000003,
            "count": 5
           },
           {
            "bin_start": 29.450000000000003,
            "bin_end": 39.1,
            "count": 7
           },
           {
            "bin_start": 39.1,
            "bin_end": 48.75,
            "count": 14
           },
           {
            "bin_start": 48.75,
            "bin_end": 58.400000000000006,
            "count": 13
           },
           {
            "bin_start": 58.400000000000006,
            "bin_end": 68.05,
            "count": 20
           },
           {
            "bin_start": 68.05,
            "bin_end": 77.7,
            "count": 26
           },
           {
            "bin_start": 77.7,
            "bin_end": 87.35000000000001,
            "count": 31
           },
           {
            "bin_start": 87.35000000000001,
            "bin_end": 97,
            "count": 28
           }
          ]
         }
        },
        {
         "name": "Fiscal Health",
         "dtype": "float64",
         "stats": {
          "unique_count": 128,
          "nan_count": 0,
          "min": "0.0",
          "max": "99.7",
          "histogram": [
           {
            "bin_start": 0,
            "bin_end": 9.97,
            "count": 17
           },
           {
            "bin_start": 9.97,
            "bin_end": 19.94,
            "count": 14
           },
           {
            "bin_start": 19.94,
            "bin_end": 29.910000000000004,
            "count": 6
           },
           {
            "bin_start": 29.910000000000004,
            "bin_end": 39.88,
            "count": 3
           },
           {
            "bin_start": 39.88,
            "bin_end": 49.85,
            "count": 5
           },
           {
            "bin_start": 49.85,
            "bin_end": 59.82000000000001,
            "count": 14
           },
           {
            "bin_start": 59.82000000000001,
            "bin_end": 69.79,
            "count": 12
           },
           {
            "bin_start": 69.79,
            "bin_end": 79.76,
            "count": 25
           },
           {
            "bin_start": 79.76,
            "bin_end": 89.73,
            "count": 22
           },
           {
            "bin_start": 89.73,
            "bin_end": 99.7,
            "count": 33
           }
          ]
         }
        },
        {
         "name": "Business Freedom",
         "dtype": "float64",
         "stats": {
          "unique_count": 133,
          "nan_count": 0,
          "min": "25.0",
          "max": "91.4",
          "histogram": [
           {
            "bin_start": 25,
            "bin_end": 31.64,
            "count": 7
           },
           {
            "bin_start": 31.64,
            "bin_end": 38.28,
            "count": 11
           },
           {
            "bin_start": 38.28,
            "bin_end": 44.92,
            "count": 8
           },
           {
            "bin_start": 44.92,
            "bin_end": 51.56,
            "count": 14
           },
           {
            "bin_start": 51.56,
            "bin_end": 58.2,
            "count": 20
           },
           {
            "bin_start": 58.2,
            "bin_end": 64.84,
            "count": 26
           },
           {
            "bin_start": 64.84,
            "bin_end": 71.48,
            "count": 20
           },
           {
            "bin_start": 71.48,
            "bin_end": 78.12,
            "count": 17
           },
           {
            "bin_start": 78.12,
            "bin_end": 84.76,
            "count": 17
           },
           {
            "bin_start": 84.76,
            "bin_end": 91.4,
            "count": 11
           }
          ]
         }
        },
        {
         "name": "Labor Freedom",
         "dtype": "float64",
         "stats": {
          "unique_count": 121,
          "nan_count": 0,
          "min": "30.7",
          "max": "78.4",
          "histogram": [
           {
            "bin_start": 30.7,
            "bin_end": 35.47,
            "count": 3
           },
           {
            "bin_start": 35.47,
            "bin_end": 40.24,
            "count": 7
           },
           {
            "bin_start": 40.24,
            "bin_end": 45.010000000000005,
            "count": 9
           },
           {
            "bin_start": 45.010000000000005,
            "bin_end": 49.78,
            "count": 16
           },
           {
            "bin_start": 49.78,
            "bin_end": 54.55,
            "count": 24
           },
           {
            "bin_start": 54.55,
            "bin_end": 59.32000000000001,
            "count": 40
           },
           {
            "bin_start": 59.32000000000001,
            "bin_end": 64.09,
            "count": 28
           },
           {
            "bin_start": 64.09,
            "bin_end": 68.86,
            "count": 16
           },
           {
            "bin_start": 68.86,
            "bin_end": 73.63000000000001,
            "count": 5
           },
           {
            "bin_start": 73.63000000000001,
            "bin_end": 78.4,
            "count": 3
           }
          ]
         }
        },
        {
         "name": "Monetary Freedom",
         "dtype": "float64",
         "stats": {
          "unique_count": 116,
          "nan_count": 0,
          "min": "0.0",
          "max": "87.1",
          "histogram": [
           {
            "bin_start": 0,
            "bin_end": 8.709999999999999,
            "count": 2
           },
           {
            "bin_start": 8.709999999999999,
            "bin_end": 17.419999999999998,
            "count": 1
           },
           {
            "bin_start": 17.419999999999998,
            "bin_end": 26.129999999999995,
            "count": 0
           },
           {
            "bin_start": 26.129999999999995,
            "bin_end": 34.839999999999996,
            "count": 0
           },
           {
            "bin_start": 34.839999999999996,
            "bin_end": 43.55,
            "count": 3
           },
           {
            "bin_start": 43.55,
            "bin_end": 52.25999999999999,
            "count": 0
           },
           {
            "bin_start": 52.25999999999999,
            "bin_end": 60.96999999999999,
            "count": 3
           },
           {
            "bin_start": 60.96999999999999,
            "bin_end": 69.67999999999999,
            "count": 16
           },
           {
            "bin_start": 69.67999999999999,
            "bin_end": 78.38999999999999,
            "count": 58
           },
           {
            "bin_start": 78.38999999999999,
            "bin_end": 87.1,
            "count": 68
           }
          ]
         }
        },
        {
         "name": "Trade Freedom",
         "dtype": "float64",
         "stats": {
          "unique_count": 94,
          "nan_count": 0,
          "min": "0.0",
          "max": "95.0",
          "histogram": [
           {
            "bin_start": 0,
            "bin_end": 9.5,
            "count": 1
           },
           {
            "bin_start": 9.5,
            "bin_end": 19,
            "count": 0
           },
           {
            "bin_start": 19,
            "bin_end": 28.5,
            "count": 1
           },
           {
            "bin_start": 28.5,
            "bin_end": 38,
            "count": 0
           },
           {
            "bin_start": 38,
            "bin_end": 47.5,
            "count": 4
           },
           {
            "bin_start": 47.5,
            "bin_end": 57,
            "count": 9
           },
           {
            "bin_start": 57,
            "bin_end": 66.5,
            "count": 33
           },
           {
            "bin_start": 66.5,
            "bin_end": 76,
            "count": 46
           },
           {
            "bin_start": 76,
            "bin_end": 85.5,
            "count": 51
           },
           {
            "bin_start": 85.5,
            "bin_end": 95,
            "count": 6
           }
          ]
         }
        },
        {
         "name": "Investment Freedom ",
         "dtype": "float64",
         "stats": {
          "unique_count": 20,
          "nan_count": 0,
          "min": "0.0",
          "max": "95.0",
          "histogram": [
           {
            "bin_start": 0,
            "bin_end": 9.5,
            "count": 3
           },
           {
            "bin_start": 9.5,
            "bin_end": 19,
            "count": 3
           },
           {
            "bin_start": 19,
            "bin_end": 28.5,
            "count": 4
           },
           {
            "bin_start": 28.5,
            "bin_end": 38,
            "count": 14
           },
           {
            "bin_start": 38,
            "bin_end": 47.5,
            "count": 10
           },
           {
            "bin_start": 47.5,
            "bin_end": 57,
            "count": 29
           },
           {
            "bin_start": 57,
            "bin_end": 66.5,
            "count": 30
           },
           {
            "bin_start": 66.5,
            "bin_end": 76,
            "count": 30
           },
           {
            "bin_start": 76,
            "bin_end": 85.5,
            "count": 23
           },
           {
            "bin_start": 85.5,
            "bin_end": 95,
            "count": 5
           }
          ]
         }
        },
        {
         "name": "Financial Freedom",
         "dtype": "float64",
         "stats": {
          "unique_count": 9,
          "nan_count": 0,
          "min": "10.0",
          "max": "90.0",
          "histogram": [
           {
            "bin_start": 10,
            "bin_end": 18,
            "count": 4
           },
           {
            "bin_start": 18,
            "bin_end": 26,
            "count": 8
           },
           {
            "bin_start": 26,
            "bin_end": 34,
            "count": 17
           },
           {
            "bin_start": 34,
            "bin_end": 42,
            "count": 23
           },
           {
            "bin_start": 42,
            "bin_end": 50,
            "count": 0
           },
           {
            "bin_start": 50,
            "bin_end": 58,
            "count": 36
           },
           {
            "bin_start": 58,
            "bin_end": 66,
            "count": 27
           },
           {
            "bin_start": 66,
            "bin_end": 74,
            "count": 22
           },
           {
            "bin_start": 74,
            "bin_end": 82,
            "count": 12
           },
           {
            "bin_start": 82,
            "bin_end": 90,
            "count": 2
           }
          ]
         }
        },
        {
         "name": "Tariff Rate (%)",
         "dtype": "float64",
         "stats": {
          "unique_count": 90,
          "nan_count": 0,
          "min": "0.0",
          "max": "67.7",
          "histogram": [
           {
            "bin_start": 0,
            "bin_end": 6.7700000000000005,
            "count": 80
           },
           {
            "bin_start": 6.7700000000000005,
            "bin_end": 13.540000000000001,
            "count": 56
           },
           {
            "bin_start": 13.540000000000001,
            "bin_end": 20.310000000000002,
            "count": 11
           },
           {
            "bin_start": 20.310000000000002,
            "bin_end": 27.080000000000002,
            "count": 3
           },
           {
            "bin_start": 27.080000000000002,
            "bin_end": 33.85,
            "count": 0
           },
           {
            "bin_start": 33.85,
            "bin_end": 40.620000000000005,
            "count": 0
           },
           {
            "bin_start": 40.620000000000005,
            "bin_end": 47.39,
            "count": 0
           },
           {
            "bin_start": 47.39,
            "bin_end": 54.160000000000004,
            "count": 0
           },
           {
            "bin_start": 54.160000000000004,
            "bin_end": 60.93000000000001,
            "count": 0
           },
           {
            "bin_start": 60.93000000000001,
            "bin_end": 67.7,
            "count": 1
           }
          ]
         }
        },
        {
         "name": "Income Tax Rate (%)",
         "dtype": "float64",
         "stats": {
          "unique_count": 50,
          "nan_count": 0,
          "min": "0.0",
          "max": "60.0",
          "histogram": [
           {
            "bin_start": 0,
            "bin_end": 6,
            "count": 7
           },
           {
            "bin_start": 6,
            "bin_end": 12,
            "count": 12
           },
           {
            "bin_start": 12,
            "bin_end": 18,
            "count": 9
           },
           {
            "bin_start": 18,
            "bin_end": 24,
            "count": 13
           },
           {
            "bin_start": 24,
            "bin_end": 30,
            "count": 19
           },
           {
            "bin_start": 30,
            "bin_end": 36,
            "count": 47
           },
           {
            "bin_start": 36,
            "bin_end": 42,
            "count": 19
           },
           {
            "bin_start": 42,
            "bin_end": 48,
            "count": 13
           },
           {
            "bin_start": 48,
            "bin_end": 54,
            "count": 8
           },
           {
            "bin_start": 54,
            "bin_end": 60,
            "count": 4
           }
          ]
         }
        },
        {
         "name": "Corporate Tax Rate (%)",
         "dtype": "float64",
         "stats": {
          "unique_count": 41,
          "nan_count": 0,
          "min": "0.0",
          "max": "50.0",
          "histogram": [
           {
            "bin_start": 0,
            "bin_end": 5,
            "count": 5
           },
           {
            "bin_start": 5,
            "bin_end": 10,
            "count": 3
           },
           {
            "bin_start": 10,
            "bin_end": 15,
            "count": 8
           },
           {
            "bin_start": 15,
            "bin_end": 20,
            "count": 23
           },
           {
            "bin_start": 20,
            "bin_end": 25,
            "count": 32
           },
           {
            "bin_start": 25,
            "bin_end": 30,
            "count": 38
           },
           {
            "bin_start": 30,
            "bin_end": 35,
            "count": 33
           },
           {
            "bin_start": 35,
            "bin_end": 40,
            "count": 6
           },
           {
            "bin_start": 40,
            "bin_end": 45,
            "count": 1
           },
           {
            "bin_start": 45,
            "bin_end": 50,
            "count": 2
           }
          ]
         }
        },
        {
         "name": "Tax Burden % of GDP",
         "dtype": "float64",
         "stats": {
          "unique_count": 127,
          "nan_count": 0,
          "min": "1.0",
          "max": "46.3",
          "histogram": [
           {
            "bin_start": 1,
            "bin_end": 5.529999999999999,
            "count": 4
           },
           {
            "bin_start": 5.529999999999999,
            "bin_end": 10.059999999999999,
            "count": 15
           },
           {
            "bin_start": 10.059999999999999,
            "bin_end": 14.589999999999998,
            "count": 27
           },
           {
            "bin_start": 14.589999999999998,
            "bin_end": 19.119999999999997,
            "count": 34
           },
           {
            "bin_start": 19.119999999999997,
            "bin_end": 23.65,
            "count": 22
           },
           {
            "bin_start": 23.65,
            "bin_end": 28.179999999999996,
            "count": 10
           },
           {
            "bin_start": 28.179999999999996,
            "bin_end": 32.709999999999994,
            "count": 14
           },
           {
            "bin_start": 32.709999999999994,
            "bin_end": 37.239999999999995,
            "count": 11
           },
           {
            "bin_start": 37.239999999999995,
            "bin_end": 41.769999999999996,
            "count": 7
           },
           {
            "bin_start": 41.769999999999996,
            "bin_end": 46.3,
            "count": 7
           }
          ]
         }
        },
        {
         "name": "Gov't Expenditure % of GDP ",
         "dtype": "float64",
         "stats": {
          "unique_count": 126,
          "nan_count": 0,
          "min": "10.1",
          "max": "57.6",
          "histogram": [
           {
            "bin_start": 10.1,
            "bin_end": 14.85,
            "count": 5
           },
           {
            "bin_start": 14.85,
            "bin_end": 19.6,
            "count": 19
           },
           {
            "bin_start": 19.6,
            "bin_end": 24.35,
            "count": 24
           },
           {
            "bin_start": 24.35,
            "bin_end": 29.1,
            "count": 19
           },
           {
            "bin_start": 29.1,
            "bin_end": 33.85,
            "count": 25
           },
           {
            "bin_start": 33.85,
            "bin_end": 38.6,
            "count": 17
           },
           {
            "bin_start": 38.6,
            "bin_end": 43.35,
            "count": 17
           },
           {
            "bin_start": 43.35,
            "bin_end": 48.1,
            "count": 12
           },
           {
            "bin_start": 48.1,
            "bin_end": 52.85,
            "count": 8
           },
           {
            "bin_start": 52.85,
            "bin_end": 57.6,
            "count": 5
           }
          ]
         }
        },
        {
         "name": "Population (Millions)",
         "dtype": "float64",
         "stats": {
          "unique_count": 125,
          "nan_count": 0,
          "min": "0.4",
          "max": "1402.1",
          "histogram": [
           {
            "bin_start": 0.4,
            "bin_end": 140.57,
            "count": 142
           },
           {
            "bin_start": 140.57,
            "bin_end": 280.73999999999995,
            "count": 6
           },
           {
            "bin_start": 280.73999999999995,
            "bin_end": 420.90999999999997,
            "count": 1
           },
           {
            "bin_start": 420.90999999999997,
            "bin_end": 561.0799999999999,
            "count": 0
           },
           {
            "bin_start": 561.0799999999999,
            "bin_end": 701.2499999999999,
            "count": 0
           },
           {
            "bin_start": 701.2499999999999,
            "bin_end": 841.42,
            "count": 0
           },
           {
            "bin_start": 841.42,
            "bin_end": 981.5899999999999,
            "count": 0
           },
           {
            "bin_start": 981.5899999999999,
            "bin_end": 1121.76,
            "count": 0
           },
           {
            "bin_start": 1121.76,
            "bin_end": 1261.93,
            "count": 0
           },
           {
            "bin_start": 1261.93,
            "bin_end": 1402.1,
            "count": 2
           }
          ]
         }
        },
        {
         "name": "GDP (Billions, PPP)",
         "dtype": "float64",
         "stats": {
          "unique_count": 147,
          "nan_count": 0,
          "min": "2.5",
          "max": "24142.8",
          "histogram": [
           {
            "bin_start": 2.5,
            "bin_end": 2416.5299999999997,
            "count": 138
           },
           {
            "bin_start": 2416.5299999999997,
            "bin_end": 4830.5599999999995,
            "count": 9
           },
           {
            "bin_start": 4830.5599999999995,
            "bin_end": 7244.589999999999,
            "count": 1
           },
           {
            "bin_start": 7244.589999999999,
            "bin_end": 9658.619999999999,
            "count": 1
           },
           {
            "bin_start": 9658.619999999999,
            "bin_end": 12072.649999999998,
            "count": 0
           },
           {
            "bin_start": 12072.649999999998,
            "bin_end": 14486.679999999998,
            "count": 0
           },
           {
            "bin_start": 14486.679999999998,
            "bin_end": 16900.71,
            "count": 0
           },
           {
            "bin_start": 16900.71,
            "bin_end": 19314.739999999998,
            "count": 0
           },
           {
            "bin_start": 19314.739999999998,
            "bin_end": 21728.769999999997,
            "count": 1
           },
           {
            "bin_start": 21728.769999999997,
            "bin_end": 24142.8,
            "count": 1
           }
          ]
         }
        },
        {
         "name": "GDP Growth Rate (%)",
         "dtype": "float64",
         "stats": {
          "unique_count": 98,
          "nan_count": 0,
          "min": "-32.2",
          "max": "43.4",
          "histogram": [
           {
            "bin_start": -32.2,
            "bin_end": -24.640000000000004,
            "count": 3
           },
           {
            "bin_start": -24.640000000000004,
            "bin_end": -17.080000000000005,
            "count": 1
           },
           {
            "bin_start": -17.080000000000005,
            "bin_end": -9.520000000000003,
            "count": 9
           },
           {
            "bin_start": -9.520000000000003,
            "bin_end": -1.9600000000000044,
            "count": 92
           },
           {
            "bin_start": -1.9600000000000044,
            "bin_end": 5.599999999999994,
            "count": 44
           },
           {
            "bin_start": 5.599999999999994,
            "bin_end": 13.159999999999997,
            "count": 1
           },
           {
            "bin_start": 13.159999999999997,
            "bin_end": 20.71999999999999,
            "count": 0
           },
           {
            "bin_start": 20.71999999999999,
            "bin_end": 28.279999999999994,
            "count": 0
           },
           {
            "bin_start": 28.279999999999994,
            "bin_end": 35.83999999999999,
            "count": 0
           },
           {
            "bin_start": 35.83999999999999,
            "bin_end": 43.4,
            "count": 1
           }
          ]
         }
        },
        {
         "name": "5 Year GDP Growth Rate (%)",
         "dtype": "float64",
         "stats": {
          "unique_count": 77,
          "nan_count": 0,
          "min": "-23.5",
          "max": "12.1",
          "histogram": [
           {
            "bin_start": -23.5,
            "bin_end": -19.94,
            "count": 1
           },
           {
            "bin_start": -19.94,
            "bin_end": -16.38,
            "count": 0
           },
           {
            "bin_start": -16.38,
            "bin_end": -12.82,
            "count": 0
           },
           {
            "bin_start": -12.82,
            "bin_end": -9.26,
            "count": 0
           },
           {
            "bin_start": -9.26,
            "bin_end": -5.699999999999999,
            "count": 2
           },
           {
            "bin_start": -5.699999999999999,
            "bin_end": -2.1400000000000006,
            "count": 3
           },
           {
            "bin_start": -2.1400000000000006,
            "bin_end": 1.4200000000000017,
            "count": 65
           },
           {
            "bin_start": 1.4200000000000017,
            "bin_end": 4.98,
            "count": 62
           },
           {
            "bin_start": 4.98,
            "bin_end": 8.54,
            "count": 17
           },
           {
            "bin_start": 8.54,
            "bin_end": 12.1,
            "count": 1
           }
          ]
         }
        },
        {
         "name": "GDP per Capita (PPP)",
         "dtype": "float64",
         "stats": {
          "unique_count": 151,
          "nan_count": 0,
          "min": "760.0",
          "max": "118002.0",
          "histogram": [
           {
            "bin_start": 760,
            "bin_end": 12484.2,
            "count": 68
           },
           {
            "bin_start": 12484.2,
            "bin_end": 24208.4,
            "count": 33
           },
           {
            "bin_start": 24208.4,
            "bin_end": 35932.600000000006,
            "count": 15
           },
           {
            "bin_start": 35932.600000000006,
            "bin_end": 47656.8,
            "count": 16
           },
           {
            "bin_start": 47656.8,
            "bin_end": 59381,
            "count": 12
           },
           {
            "bin_start": 59381,
            "bin_end": 71105.20000000001,
            "count": 2
           },
           {
            "bin_start": 71105.20000000001,
            "bin_end": 82829.40000000001,
            "count": 1
           },
           {
            "bin_start": 82829.40000000001,
            "bin_end": 94553.6,
            "count": 2
           },
           {
            "bin_start": 94553.6,
            "bin_end": 106277.8,
            "count": 1
           },
           {
            "bin_start": 106277.8,
            "bin_end": 118002,
            "count": 1
           }
          ]
         }
        },
        {
         "name": "Unemployment (%)",
         "dtype": "float64",
         "stats": {
          "unique_count": 93,
          "nan_count": 0,
          "min": "0.3",
          "max": "28.7",
          "histogram": [
           {
            "bin_start": 0.3,
            "bin_end": 3.1399999999999997,
            "count": 16
           },
           {
            "bin_start": 3.1399999999999997,
            "bin_end": 5.9799999999999995,
            "count": 53
           },
           {
            "bin_start": 5.9799999999999995,
            "bin_end": 8.82,
            "count": 38
           },
           {
            "bin_start": 8.82,
            "bin_end": 11.66,
            "count": 17
           },
           {
            "bin_start": 11.66,
            "bin_end": 14.5,
            "count": 8
           },
           {
            "bin_start": 14.5,
            "bin_end": 17.34,
            "count": 9
           },
           {
            "bin_start": 17.34,
            "bin_end": 20.18,
            "count": 4
           },
           {
            "bin_start": 20.18,
            "bin_end": 23.02,
            "count": 3
           },
           {
            "bin_start": 23.02,
            "bin_end": 25.86,
            "count": 2
           },
           {
            "bin_start": 25.86,
            "bin_end": 28.7,
            "count": 1
           }
          ]
         }
        },
        {
         "name": "Inflation (%)",
         "dtype": "float64",
         "stats": {
          "unique_count": 88,
          "nan_count": 0,
          "min": "-2.7",
          "max": "2355.1",
          "histogram": [
           {
            "bin_start": -2.7,
            "bin_end": 233.07999999999998,
            "count": 149
           },
           {
            "bin_start": 233.07999999999998,
            "bin_end": 468.85999999999996,
            "count": 0
           },
           {
            "bin_start": 468.85999999999996,
            "bin_end": 704.6399999999999,
            "count": 1
           },
           {
            "bin_start": 704.6399999999999,
            "bin_end": 940.4199999999998,
            "count": 0
           },
           {
            "bin_start": 940.4199999999998,
            "bin_end": 1176.1999999999998,
            "count": 0
           },
           {
            "bin_start": 1176.1999999999998,
            "bin_end": 1411.9799999999998,
            "count": 0
           },
           {
            "bin_start": 1411.9799999999998,
            "bin_end": 1647.7599999999998,
            "count": 0
           },
           {
            "bin_start": 1647.7599999999998,
            "bin_end": 1883.5399999999997,
            "count": 0
           },
           {
            "bin_start": 1883.5399999999997,
            "bin_end": 2119.3199999999997,
            "count": 0
           },
           {
            "bin_start": 2119.3199999999997,
            "bin_end": 2355.1,
            "count": 1
           }
          ]
         }
        },
        {
         "name": "FDI Inflow (Millions)",
         "dtype": "float64",
         "stats": {
          "unique_count": 149,
          "nan_count": 0,
          "min": "-115300.0",
          "max": "156321.0",
          "histogram": [
           {
            "bin_start": -115300,
            "bin_end": -88137.9,
            "count": 1
           },
           {
            "bin_start": -88137.9,
            "bin_end": -60975.8,
            "count": 0
           },
           {
            "bin_start": -60975.8,
            "bin_end": -33813.70000000001,
            "count": 1
           },
           {
            "bin_start": -33813.70000000001,
            "bin_end": -6651.600000000006,
            "count": 1
           },
           {
            "bin_start": -6651.600000000006,
            "bin_end": 20510.5,
            "count": 136
           },
           {
            "bin_start": 20510.5,
            "bin_end": 47672.59999999998,
            "count": 7
           },
           {
            "bin_start": 47672.59999999998,
            "bin_end": 74834.69999999998,
            "count": 2
           },
           {
            "bin_start": 74834.69999999998,
            "bin_end": 101996.79999999999,
            "count": 1
           },
           {
            "bin_start": 101996.79999999999,
            "bin_end": 129158.9,
            "count": 0
           },
           {
            "bin_start": 129158.9,
            "bin_end": 156321,
            "count": 2
           }
          ]
         }
        },
        {
         "name": "Public Debt (% of GDP)",
         "dtype": "float64",
         "stats": {
          "unique_count": 138,
          "nan_count": 0,
          "min": "11.5",
          "max": "304.1",
          "histogram": [
           {
            "bin_start": 11.5,
            "bin_end": 40.760000000000005,
            "count": 29
           },
           {
            "bin_start": 40.760000000000005,
            "bin_end": 70.02000000000001,
            "count": 68
           },
           {
            "bin_start": 70.02000000000001,
            "bin_end": 99.28,
            "count": 26
           },
           {
            "bin_start": 99.28,
            "bin_end": 128.54000000000002,
            "count": 18
           },
           {
            "bin_start": 128.54000000000002,
            "bin_end": 157.8,
            "count": 5
           },
           {
            "bin_start": 157.8,
            "bin_end": 187.06,
            "count": 1
           },
           {
            "bin_start": 187.06,
            "bin_end": 216.32000000000002,
            "count": 1
           },
           {
            "bin_start": 216.32000000000002,
            "bin_end": 245.58,
            "count": 0
           },
           {
            "bin_start": 245.58,
            "bin_end": 274.84000000000003,
            "count": 2
           },
           {
            "bin_start": 274.84000000000003,
            "bin_end": 304.1,
            "count": 1
           }
          ]
         }
        },
        {
         "name": "Latest Happiness Year",
         "dtype": "int64",
         "stats": {
          "unique_count": 9,
          "nan_count": 0,
          "min": "2007",
          "max": "2020",
          "histogram": [
           {
            "bin_start": 2007,
            "bin_end": 2008.3,
            "count": 1
           },
           {
            "bin_start": 2008.3,
            "bin_end": 2009.6,
            "count": 0
           },
           {
            "bin_start": 2009.6,
            "bin_end": 2010.9,
            "count": 0
           },
           {
            "bin_start": 2010.9,
            "bin_end": 2012.2,
            "count": 3
           },
           {
            "bin_start": 2012.2,
            "bin_end": 2013.5,
            "count": 0
           },
           {
            "bin_start": 2013.5,
            "bin_end": 2014.8,
            "count": 3
           },
           {
            "bin_start": 2014.8,
            "bin_end": 2016.1,
            "count": 2
           },
           {
            "bin_start": 2016.1,
            "bin_end": 2017.4,
            "count": 3
           },
           {
            "bin_start": 2017.4,
            "bin_end": 2018.7,
            "count": 3
           },
           {
            "bin_start": 2018.7,
            "bin_end": 2020,
            "count": 136
           }
          ]
         }
        },
        {
         "name": "LifeSatisfaction",
         "dtype": "float64",
         "stats": {
          "unique_count": 151,
          "nan_count": 0,
          "min": "3.16",
          "max": "7.889",
          "histogram": [
           {
            "bin_start": 3.16,
            "bin_end": 3.6329000000000002,
            "count": 7
           },
           {
            "bin_start": 3.6329000000000002,
            "bin_end": 4.1058,
            "count": 6
           },
           {
            "bin_start": 4.1058,
            "bin_end": 4.5786999999999995,
            "count": 18
           },
           {
            "bin_start": 4.5786999999999995,
            "bin_end": 5.0516000000000005,
            "count": 15
           },
           {
            "bin_start": 5.0516000000000005,
            "bin_end": 5.5245,
            "count": 30
           },
           {
            "bin_start": 5.5245,
            "bin_end": 5.9974,
            "count": 17
           },
           {
            "bin_start": 5.9974,
            "bin_end": 6.4703,
            "count": 31
           },
           {
            "bin_start": 6.4703,
            "bin_end": 6.9432,
            "count": 10
           },
           {
            "bin_start": 6.9432,
            "bin_end": 7.4161,
            "count": 12
           },
           {
            "bin_start": 7.4161,
            "bin_end": 7.889,
            "count": 5
           }
          ]
         }
        },
        {
         "name": "_deepnote_index_column",
         "dtype": "int64"
        }
       ],
       "rows": [
        {
         "CountryID": 2,
         "Country Name": "Albania",
         "WEBNAME": "Albania",
         "Region": "Europe",
         "World Rank": 50,
         "Region Rank": 30,
         "2022 Score": 66.6,
         "Property Rights": 55.5,
         "Judical Effectiveness": 49.8,
         "Government Integrity": 35.6,
         "Tax Burden": 89.1,
         "Gov't Spending": 72.1,
         "Fiscal Health": 70.6,
         "Business Freedom": 70.7,
         "Labor Freedom": 51.1,
         "Monetary Freedom": 82,
         "Trade Freedom": 82.6,
         "Investment Freedom ": 70,
         "Financial Freedom": 70,
         "Tariff Rate (%)": 3.7,
         "Income Tax Rate (%)": 23,
         "Corporate Tax Rate (%)": 15,
         "Tax Burden % of GDP": 18.3,
         "Gov't Expenditure % of GDP ": 30.5,
         "Population (Millions)": 2.8,
         "GDP (Billions, PPP)": 40.7,
         "GDP Growth Rate (%)": -3.5,
         "5 Year GDP Growth Rate (%)": 2,
         "GDP per Capita (PPP)": 14218,
         "Unemployment (%)": 11.7,
         "Inflation (%)": 1.6,
         "FDI Inflow (Millions)": 1107,
         "Public Debt (% of GDP)": 76,
         "Latest Happiness Year": 2020,
         "LifeSatisfaction": 5.365,
         "_deepnote_index_column": 1
        },
        {
         "CountryID": 3,
         "Country Name": "Algeria",
         "WEBNAME": "Algeria",
         "Region": "Middle East and North Africa",
         "World Rank": 167,
         "Region Rank": 13,
         "2022 Score": 45.8,
         "Property Rights": 27.9,
         "Judical Effectiveness": 29.7,
         "Government Integrity": 30.1,
         "Tax Burden": 67.2,
         "Gov't Spending": 57.1,
         "Fiscal Health": 38.6,
         "Business Freedom": 50,
         "Labor Freedom": 51.5,
         "Monetary Freedom": 80.1,
         "Trade Freedom": 57.4,
         "Investment Freedom ": 30,
         "Financial Freedom": 30,
         "Tariff Rate (%)": 13.8,
         "Income Tax Rate (%)": 35,
         "Corporate Tax Rate (%)": 26,
         "Tax Burden % of GDP": 37.2,
         "Gov't Expenditure % of GDP ": 37.8,
         "Population (Millions)": 43.9,
         "GDP (Billions, PPP)": 491.5,
         "GDP Growth Rate (%)": -6,
         "5 Year GDP Growth Rate (%)": 0.1,
         "GDP per Capita (PPP)": 11112,
         "Unemployment (%)": 12.8,
         "Inflation (%)": 2.4,
         "FDI Inflow (Millions)": 1125,
         "Public Debt (% of GDP)": 53.1,
         "Latest Happiness Year": 2019,
         "LifeSatisfaction": 4.745,
         "_deepnote_index_column": 2
        },
        {
         "CountryID": 4,
         "Country Name": "Angola",
         "WEBNAME": "Angola",
         "Region": "Sub-Saharan Africa",
         "World Rank": 139,
         "Region Rank": 29,
         "2022 Score": 52.6,
         "Property Rights": 39.8,
         "Judical Effectiveness": 25.3,
         "Government Integrity": 20.6,
         "Tax Burden": 86.6,
         "Gov't Spending": 86.4,
         "Fiscal Health": 80,
         "Business Freedom": 37.6,
         "Labor Freedom": 53.9,
         "Monetary Freedom": 61.2,
         "Trade Freedom": 70,
         "Investment Freedom ": 30,
         "Financial Freedom": 40,
         "Tariff Rate (%)": 7.5,
         "Income Tax Rate (%)": 25,
         "Corporate Tax Rate (%)": 25,
         "Tax Burden % of GDP": 9.4,
         "Gov't Expenditure % of GDP ": 21.3,
         "Population (Millions)": 32.9,
         "GDP (Billions, PPP)": 215.1,
         "GDP Growth Rate (%)": -4,
         "5 Year GDP Growth Rate (%)": -1.9,
         "GDP per Capita (PPP)": 6932,
         "Unemployment (%)": 7.7,
         "Inflation (%)": 22.3,
         "FDI Inflow (Millions)": -1866,
         "Public Debt (% of GDP)": 127.1,
         "Latest Happiness Year": 2014,
         "LifeSatisfaction": 3.795,
         "_deepnote_index_column": 3
        },
        {
         "CountryID": 5,
         "Country Name": "Argentina",
         "WEBNAME": "Argentina",
         "Region": "Americas",
         "World Rank": 144,
         "Region Rank": 27,
         "2022 Score": 50.1,
         "Property Rights": 35.1,
         "Judical Effectiveness": 57.9,
         "Government Integrity": 45.1,
         "Tax Burden": 73.3,
         "Gov't Spending": 53,
         "Fiscal Health": 16.8,
         "Business Freedom": 55.1,
         "Labor Freedom": 51,
         "Monetary Freedom": 37.9,
         "Trade Freedom": 60.6,
         "Investment Freedom ": 55,
         "Financial Freedom": 60,
         "Tariff Rate (%)": 12.2,
         "Income Tax Rate (%)": 35,
         "Corporate Tax Rate (%)": 25,
         "Tax Burden % of GDP": 28.6,
         "Gov't Expenditure % of GDP ": 39.6,
         "Population (Millions)": 45.4,
         "GDP (Billions, PPP)": 941.8,
         "GDP Growth Rate (%)": -10,
         "5 Year GDP Growth Rate (%)": -2.8,
         "GDP per Capita (PPP)": 20751,
         "Unemployment (%)": 11.7,
         "Inflation (%)": 42,
         "FDI Inflow (Millions)": 4123,
         "Public Debt (% of GDP)": 103,
         "Latest Happiness Year": 2020,
         "LifeSatisfaction": 5.901,
         "_deepnote_index_column": 4
        },
        {
         "CountryID": 6,
         "Country Name": "Armenia",
         "WEBNAME": "Armenia",
         "Region": "Europe",
         "World Rank": 58,
         "Region Rank": 34,
         "2022 Score": 65.3,
         "Property Rights": 50.4,
         "Judical Effectiveness": 33.1,
         "Government Integrity": 50.8,
         "Tax Burden": 86.9,
         "Gov't Spending": 78.9,
         "Fiscal Health": 75.5,
         "Business Freedom": 64.9,
         "Labor Freedom": 47.2,
         "Monetary Freedom": 77.5,
         "Trade Freedom": 73.6,
         "Investment Freedom ": 75,
         "Financial Freedom": 70,
         "Tariff Rate (%)": 5.7,
         "Income Tax Rate (%)": 22,
         "Corporate Tax Rate (%)": 18,
         "Tax Burden % of GDP": 22.5,
         "Gov't Expenditure % of GDP ": 26.5,
         "Population (Millions)": 3,
         "GDP (Billions, PPP)": 39.4,
         "GDP Growth Rate (%)": -7.6,
         "5 Year GDP Growth Rate (%)": 2.6,
         "GDP per Capita (PPP)": 13261,
         "Unemployment (%)": 20.2,
         "Inflation (%)": 1.2,
         "FDI Inflow (Millions)": 117,
         "Public Debt (% of GDP)": 62.8,
         "Latest Happiness Year": 2019,
         "LifeSatisfaction": 5.488,
         "_deepnote_index_column": 5
        },
        {
         "CountryID": 7,
         "Country Name": "Australia",
         "WEBNAME": "Australia",
         "Region": "Asia-Pacific",
         "World Rank": 12,
         "Region Rank": 4,
         "2022 Score": 77.7,
         "Property Rights": 91.7,
         "Judical Effectiveness": 95.2,
         "Government Integrity": 87,
         "Tax Burden": 62.5,
         "Gov't Spending": 51.6,
         "Fiscal Health": 52,
         "Business Freedom": 84.6,
         "Labor Freedom": 64.2,
         "Monetary Freedom": 83.2,
         "Trade Freedom": 90,
         "Investment Freedom ": 80,
         "Financial Freedom": 90,
         "Tariff Rate (%)": 2.5,
         "Income Tax Rate (%)": 45,
         "Corporate Tax Rate (%)": 30,
         "Tax Burden % of GDP": 28.7,
         "Gov't Expenditure % of GDP ": 40.2,
         "Population (Millions)": 25.7,
         "GDP (Billions, PPP)": 1329.9,
         "GDP Growth Rate (%)": -2.4,
         "5 Year GDP Growth Rate (%)": 1.5,
         "GDP per Capita (PPP)": 51680,
         "Unemployment (%)": 6.6,
         "Inflation (%)": 0.9,
         "FDI Inflow (Millions)": 20146,
         "Public Debt (% of GDP)": 63.1,
         "Latest Happiness Year": 2020,
         "LifeSatisfaction": 7.137,
         "_deepnote_index_column": 6
        },
        {
         "CountryID": 8,
         "Country Name": "Austria",
         "WEBNAME": "Austria",
         "Region": "Europe",
         "World Rank": 22,
         "Region Rank": 15,
         "2022 Score": 73.8,
         "Property Rights": 98.4,
         "Judical Effectiveness": 94.6,
         "Government Integrity": 82.9,
         "Tax Burden": 45.5,
         "Gov't Spending": 20.3,
         "Fiscal Health": 71.7,
         "Business Freedom": 82.3,
         "Labor Freedom": 78.4,
         "Monetary Freedom": 82.3,
         "Trade Freedom": 79.2,
         "Investment Freedom ": 80,
         "Financial Freedom": 70,
         "Tariff Rate (%)": 2.9,
         "Income Tax Rate (%)": 55,
         "Corporate Tax Rate (%)": 25,
         "Tax Burden % of GDP": 42.4,
         "Gov't Expenditure % of GDP ": 51.6,
         "Population (Millions)": 8.9,
         "GDP (Billions, PPP)": 491.5,
         "GDP Growth Rate (%)": -6.6,
         "5 Year GDP Growth Rate (%)": 0.4,
         "GDP per Capita (PPP)": 55218,
         "Unemployment (%)": 5.8,
         "Inflation (%)": 1.4,
         "FDI Inflow (Millions)": -17340,
         "Public Debt (% of GDP)": 85.2,
         "Latest Happiness Year": 2020,
         "LifeSatisfaction": 7.213,
         "_deepnote_index_column": 7
        },
        {
         "CountryID": 9,
         "Country Name": "Azerbaijan",
         "WEBNAME": "Azerbaijan",
         "Region": "Europe",
         "World Rank": 75,
         "Region Rank": 37,
         "2022 Score": 61.6,
         "Property Rights": 53.6,
         "Judical Effectiveness": 15.9,
         "Government Integrity": 28.6,
         "Tax Burden": 87.7,
         "Gov't Spending": 62.7,
         "Fiscal Health": 99.1,
         "Business Freedom": 64.6,
         "Labor Freedom": 55.9,
         "Monetary Freedom": 74.5,
         "Trade Freedom": 66.6,
         "Investment Freedom ": 70,
         "Financial Freedom": 60,
         "Tariff Rate (%)": 9.2,
         "Income Tax Rate (%)": 25,
         "Corporate Tax Rate (%)": 20,
         "Tax Burden % of GDP": 14.3,
         "Gov't Expenditure % of GDP ": 35.3,
         "Population (Millions)": 10.1,
         "GDP (Billions, PPP)": 145.8,
         "GDP Growth Rate (%)": -4.3,
         "5 Year GDP Growth Rate (%)": -0.7,
         "GDP per Capita (PPP)": 14431,
         "Unemployment (%)": 6.3,
         "Inflation (%)": 2.8,
         "FDI Inflow (Millions)": 507,
         "Public Debt (% of GDP)": 21.4,
         "Latest Happiness Year": 2019,
         "LifeSatisfaction": 5.173,
         "_deepnote_index_column": 8
        },
        {
         "CountryID": 11,
         "Country Name": "Bahrain",
         "WEBNAME": "Bahrain",
         "Region": "Middle East and North Africa",
         "World Rank": 74,
         "Region Rank": 4,
         "2022 Score": 62,
         "Property Rights": 65.9,
         "Judical Effectiveness": 27.4,
         "Government Integrity": 41.6,
         "Tax Burden": 99.9,
         "Gov't Spending": 65.5,
         "Fiscal Health": 0,
         "Business Freedom": 60.2,
         "Labor Freedom": 54.9,
         "Monetary Freedom": 81.1,
         "Trade Freedom": 83,
         "Investment Freedom ": 85,
         "Financial Freedom": 80,
         "Tariff Rate (%)": 6,
         "Income Tax Rate (%)": 0,
         "Corporate Tax Rate (%)": 0,
         "Tax Burden % of GDP": 3,
         "Gov't Expenditure % of GDP ": 33.9,
         "Population (Millions)": 1.7,
         "GDP (Billions, PPP)": 73.8,
         "GDP Growth Rate (%)": -5.4,
         "5 Year GDP Growth Rate (%)": 1.2,
         "GDP per Capita (PPP)": 48766,
         "Unemployment (%)": 4.1,
         "Inflation (%)": -2.3,
         "FDI Inflow (Millions)": 1007,
         "Public Debt (% of GDP)": 132.9,
         "Latest Happiness Year": 2020,
         "LifeSatisfaction": 6.173,
         "_deepnote_index_column": 9
        },
        {
         "CountryID": 12,
         "Country Name": "Bangladesh",
         "WEBNAME": "Bangladesh",
         "Region": "Asia-Pacific",
         "World Rank": 137,
         "Region Rank": 29,
         "2022 Score": 52.7,
         "Property Rights": 36.3,
         "Judical Effectiveness": 28.1,
         "Government Integrity": 22.2,
         "Tax Burden": 82.6,
         "Gov't Spending": 93.2,
         "Fiscal Health": 54,
         "Business Freedom": 55.6,
         "Labor Freedom": 36.6,
         "Monetary Freedom": 70,
         "Trade Freedom": 63.8,
         "Investment Freedom ": 50,
         "Financial Freedom": 40,
         "Tariff Rate (%)": 10.6,
         "Income Tax Rate (%)": 25,
         "Corporate Tax Rate (%)": 32.5,
         "Tax Burden % of GDP": 7.7,
         "Gov't Expenditure % of GDP ": 15,
         "Population (Millions)": 164.7,
         "GDP (Billions, PPP)": 874,
         "GDP Growth Rate (%)": 3.8,
         "5 Year GDP Growth Rate (%)": 6.8,
         "GDP per Capita (PPP)": 5307,
         "Unemployment (%)": 5.3,
         "Inflation (%)": 5.6,
         "FDI Inflow (Millions)": 2564,
         "Public Debt (% of GDP)": 38.9,
         "Latest Happiness Year": 2020,
         "LifeSatisfaction": 5.28,
         "_deepnote_index_column": 10
        }
       ]
      },
      "text/plain": "     CountryID Country Name     WEBNAME                        Region  \\\n1            2      Albania     Albania                        Europe   \n2            3      Algeria     Algeria  Middle East and North Africa   \n3            4       Angola      Angola            Sub-Saharan Africa   \n4            5    Argentina   Argentina                      Americas   \n5            6      Armenia     Armenia                        Europe   \n..         ...          ...         ...                           ...   \n153        177   Uzbekistan  Uzbekistan                  Asia-Pacific   \n154        179    Venezuela   Venezuela                      Americas   \n155        180      Vietnam     Vietnam                  Asia-Pacific   \n157        182       Zambia      Zambia            Sub-Saharan Africa   \n158        183     Zimbabwe    Zimbabwe            Sub-Saharan Africa   \n\n     World Rank  Region Rank  2022 Score  Property Rights  \\\n1          50.0         30.0        66.6             55.5   \n2         167.0         13.0        45.8             27.9   \n3         139.0         29.0        52.6             39.8   \n4         144.0         27.0        50.1             35.1   \n5          58.0         34.0        65.3             50.4   \n..          ...          ...         ...              ...   \n153       117.0         25.0        55.7             31.6   \n154       176.0         32.0        24.8              0.2   \n155        84.0         18.0        60.6             49.6   \n157       154.0         36.0        48.7             38.3   \n158       173.0         46.0        33.1             20.8   \n\n     Judical Effectiveness  Government Integrity  ...  GDP (Billions, PPP)  \\\n1                     49.8                  35.6  ...                 40.7   \n2                     29.7                  30.1  ...                491.5   \n3                     25.3                  20.6  ...                215.1   \n4                     57.9                  45.1  ...                941.8   \n5                     33.1                  50.8  ...                 39.4   \n..                     ...                   ...  ...                  ...   \n153                   13.1                  23.8  ...                252.6   \n154                    4.6                   7.1  ...                144.7   \n155                   33.8                  33.6  ...               1058.7   \n157                   45.2                  30.8  ...                 63.1   \n158                   16.3                  20.6  ...                 39.8   \n\n     GDP Growth Rate (%)  5 Year GDP Growth Rate (%)  GDP per Capita (PPP)  \\\n1                   -3.5                         2.0               14218.0   \n2                   -6.0                         0.1               11112.0   \n3                   -4.0                        -1.9                6932.0   \n4                  -10.0                        -2.8               20751.0   \n5                   -7.6                         2.6               13261.0   \n..                   ...                         ...                   ...   \n153                  1.6                         4.7                7449.0   \n154                -30.0                       -23.5                5178.0   \n155                  2.9                         6.1               10869.0   \n157                 -3.5                         1.9                3342.0   \n158                 -8.0                        -1.3                2622.0   \n\n     Unemployment (%)  Inflation (%)  FDI Inflow (Millions)  \\\n1                11.7            1.6                 1107.0   \n2                12.8            2.4                 1125.0   \n3                 7.7           22.3                -1866.0   \n4                11.7           42.0                 4123.0   \n5                20.2            1.2                  117.0   \n..                ...            ...                    ...   \n153               6.0           12.9                 1726.0   \n154               9.1         2355.1                  959.0   \n155               2.3            3.2                15800.0   \n157              12.2           16.4                  234.0   \n158               5.7          557.2                  194.0   \n\n     Public Debt (% of GDP)  Latest Happiness Year  LifeSatisfaction  \n1                      76.0                   2020             5.365  \n2                      53.1                   2019             4.745  \n3                     127.1                   2014             3.795  \n4                     103.0                   2020             5.901  \n5                      62.8                   2019             5.488  \n..                      ...                    ...               ...  \n153                    37.9                   2019             6.154  \n154                   304.1                   2020             4.574  \n155                    46.6                   2019             5.467  \n157                   117.8                   2020             4.838  \n158                    88.9                   2020             3.160  \n\n[151 rows x 35 columns]",
      "text/html": "<div>\n<style scoped>\n    .dataframe tbody tr th:only-of-type {\n        vertical-align: middle;\n    }\n\n    .dataframe tbody tr th {\n        vertical-align: top;\n    }\n\n    .dataframe thead th {\n        text-align: right;\n    }\n</style>\n<table border=\"1\" class=\"dataframe\">\n  <thead>\n    <tr style=\"text-align: right;\">\n      <th></th>\n      <th>CountryID</th>\n      <th>Country Name</th>\n      <th>WEBNAME</th>\n      <th>Region</th>\n      <th>World Rank</th>\n      <th>Region Rank</th>\n      <th>2022 Score</th>\n      <th>Property Rights</th>\n      <th>Judical Effectiveness</th>\n      <th>Government Integrity</th>\n      <th>...</th>\n      <th>GDP (Billions, PPP)</th>\n      <th>GDP Growth Rate (%)</th>\n      <th>5 Year GDP Growth Rate (%)</th>\n      <th>GDP per Capita (PPP)</th>\n      <th>Unemployment (%)</th>\n      <th>Inflation (%)</th>\n      <th>FDI Inflow (Millions)</th>\n      <th>Public Debt (% of GDP)</th>\n      <th>Latest Happiness Year</th>\n      <th>LifeSatisfaction</th>\n    </tr>\n  </thead>\n  <tbody>\n    <tr>\n      <th>1</th>\n      <td>2</td>\n      <td>Albania</td>\n      <td>Albania</td>\n      <td>Europe</td>\n      <td>50.0</td>\n      <td>30.0</td>\n      <td>66.6</td>\n      <td>55.5</td>\n      <td>49.8</td>\n      <td>35.6</td>\n      <td>...</td>\n      <td>40.7</td>\n      <td>-3.5</td>\n      <td>2.0</td>\n      <td>14218.0</td>\n      <td>11.7</td>\n      <td>1.6</td>\n      <td>1107.0</td>\n      <td>76.0</td>\n      <td>2020</td>\n      <td>5.365</td>\n    </tr>\n    <tr>\n      <th>2</th>\n      <td>3</td>\n      <td>Algeria</td>\n      <td>Algeria</td>\n      <td>Middle East and North Africa</td>\n      <td>167.0</td>\n      <td>13.0</td>\n      <td>45.8</td>\n      <td>27.9</td>\n      <td>29.7</td>\n      <td>30.1</td>\n      <td>...</td>\n      <td>491.5</td>\n      <td>-6.0</td>\n      <td>0.1</td>\n      <td>11112.0</td>\n      <td>12.8</td>\n      <td>2.4</td>\n      <td>1125.0</td>\n      <td>53.1</td>\n      <td>2019</td>\n      <td>4.745</td>\n    </tr>\n    <tr>\n      <th>3</th>\n      <td>4</td>\n      <td>Angola</td>\n      <td>Angola</td>\n      <td>Sub-Saharan Africa</td>\n      <td>139.0</td>\n      <td>29.0</td>\n      <td>52.6</td>\n      <td>39.8</td>\n      <td>25.3</td>\n      <td>20.6</td>\n      <td>...</td>\n      <td>215.1</td>\n      <td>-4.0</td>\n      <td>-1.9</td>\n      <td>6932.0</td>\n      <td>7.7</td>\n      <td>22.3</td>\n      <td>-1866.0</td>\n      <td>127.1</td>\n      <td>2014</td>\n      <td>3.795</td>\n    </tr>\n    <tr>\n      <th>4</th>\n      <td>5</td>\n      <td>Argentina</td>\n      <td>Argentina</td>\n      <td>Americas</td>\n      <td>144.0</td>\n      <td>27.0</td>\n      <td>50.1</td>\n      <td>35.1</td>\n      <td>57.9</td>\n      <td>45.1</td>\n      <td>...</td>\n      <td>941.8</td>\n      <td>-10.0</td>\n      <td>-2.8</td>\n      <td>20751.0</td>\n      <td>11.7</td>\n      <td>42.0</td>\n      <td>4123.0</td>\n      <td>103.0</td>\n      <td>2020</td>\n      <td>5.901</td>\n    </tr>\n    <tr>\n      <th>5</th>\n      <td>6</td>\n      <td>Armenia</td>\n      <td>Armenia</td>\n      <td>Europe</td>\n      <td>58.0</td>\n      <td>34.0</td>\n      <td>65.3</td>\n      <td>50.4</td>\n      <td>33.1</td>\n      <td>50.8</td>\n      <td>...</td>\n      <td>39.4</td>\n      <td>-7.6</td>\n      <td>2.6</td>\n      <td>13261.0</td>\n      <td>20.2</td>\n      <td>1.2</td>\n      <td>117.0</td>\n      <td>62.8</td>\n      <td>2019</td>\n      <td>5.488</td>\n    </tr>\n    <tr>\n      <th>...</th>\n      <td>...</td>\n      <td>...</td>\n      <td>...</td>\n      <td>...</td>\n      <td>...</td>\n      <td>...</td>\n      <td>...</td>\n      <td>...</td>\n      <td>...</td>\n      <td>...</td>\n      <td>...</td>\n      <td>...</td>\n      <td>...</td>\n      <td>...</td>\n      <td>...</td>\n      <td>...</td>\n      <td>...</td>\n      <td>...</td>\n      <td>...</td>\n      <td>...</td>\n      <td>...</td>\n    </tr>\n    <tr>\n      <th>153</th>\n      <td>177</td>\n      <td>Uzbekistan</td>\n      <td>Uzbekistan</td>\n      <td>Asia-Pacific</td>\n      <td>117.0</td>\n      <td>25.0</td>\n      <td>55.7</td>\n      <td>31.6</td>\n      <td>13.1</td>\n      <td>23.8</td>\n      <td>...</td>\n      <td>252.6</td>\n      <td>1.6</td>\n      <td>4.7</td>\n      <td>7449.0</td>\n      <td>6.0</td>\n      <td>12.9</td>\n      <td>1726.0</td>\n      <td>37.9</td>\n      <td>2019</td>\n      <td>6.154</td>\n    </tr>\n    <tr>\n      <th>154</th>\n      <td>179</td>\n      <td>Venezuela</td>\n      <td>Venezuela</td>\n      <td>Americas</td>\n      <td>176.0</td>\n      <td>32.0</td>\n      <td>24.8</td>\n      <td>0.2</td>\n      <td>4.6</td>\n      <td>7.1</td>\n      <td>...</td>\n      <td>144.7</td>\n      <td>-30.0</td>\n      <td>-23.5</td>\n      <td>5178.0</td>\n      <td>9.1</td>\n      <td>2355.1</td>\n      <td>959.0</td>\n      <td>304.1</td>\n      <td>2020</td>\n      <td>4.574</td>\n    </tr>\n    <tr>\n      <th>155</th>\n      <td>180</td>\n      <td>Vietnam</td>\n      <td>Vietnam</td>\n      <td>Asia-Pacific</td>\n      <td>84.0</td>\n      <td>18.0</td>\n      <td>60.6</td>\n      <td>49.6</td>\n      <td>33.8</td>\n      <td>33.6</td>\n      <td>...</td>\n      <td>1058.7</td>\n      <td>2.9</td>\n      <td>6.1</td>\n      <td>10869.0</td>\n      <td>2.3</td>\n      <td>3.2</td>\n      <td>15800.0</td>\n      <td>46.6</td>\n      <td>2019</td>\n      <td>5.467</td>\n    </tr>\n    <tr>\n      <th>157</th>\n      <td>182</td>\n      <td>Zambia</td>\n      <td>Zambia</td>\n      <td>Sub-Saharan Africa</td>\n      <td>154.0</td>\n      <td>36.0</td>\n      <td>48.7</td>\n      <td>38.3</td>\n      <td>45.2</td>\n      <td>30.8</td>\n      <td>...</td>\n      <td>63.1</td>\n      <td>-3.5</td>\n      <td>1.9</td>\n      <td>3342.0</td>\n      <td>12.2</td>\n      <td>16.4</td>\n      <td>234.0</td>\n      <td>117.8</td>\n      <td>2020</td>\n      <td>4.838</td>\n    </tr>\n    <tr>\n      <th>158</th>\n      <td>183</td>\n      <td>Zimbabwe</td>\n      <td>Zimbabwe</td>\n      <td>Sub-Saharan Africa</td>\n      <td>173.0</td>\n      <td>46.0</td>\n      <td>33.1</td>\n      <td>20.8</td>\n      <td>16.3</td>\n      <td>20.6</td>\n      <td>...</td>\n      <td>39.8</td>\n      <td>-8.0</td>\n      <td>-1.3</td>\n      <td>2622.0</td>\n      <td>5.7</td>\n      <td>557.2</td>\n      <td>194.0</td>\n      <td>88.9</td>\n      <td>2020</td>\n      <td>3.160</td>\n    </tr>\n  </tbody>\n</table>\n<p>151 rows × 35 columns</p>\n</div>"
     },
     "metadata": {}
    }
   ],
   "execution_count": null
  },
  {
   "cell_type": "markdown",
   "source": "As the output indicates, the merge was successful. Our life satisfaction data is now in the same dataframe as our index of economic freedom data.",
   "metadata": {
    "cell_id": "cd34529259624d8c8858310ab8803de1",
    "tags": [],
    "deepnote_app_coordinates": {
     "x": 0,
     "y": 102,
     "w": 12,
     "h": 5
    },
    "deepnote_cell_type": "markdown",
    "deepnote_cell_height": 74.78125
   }
  },
  {
   "cell_type": "markdown",
   "source": "Later on, we will seperately analyze some of this data using a Streamlit dashboard. We still have more analysis to do in this notebook, so we will save our current dataframe as a CSV file and analyze that CSV file with Streamlit.",
   "metadata": {
    "cell_id": "c10b929ae2e8456dbc062cef3d869af0",
    "tags": [],
    "deepnote_app_coordinates": {
     "x": 0,
     "y": 108,
     "w": 12,
     "h": 5
    },
    "deepnote_cell_type": "markdown",
    "deepnote_cell_height": 74.78125
   }
  },
  {
   "cell_type": "code",
   "metadata": {
    "cell_id": "be69069399eb45bea318d685b0a43765",
    "tags": [],
    "deepnote_to_be_reexecuted": false,
    "source_hash": "8e187ac8",
    "execution_start": 1651266853614,
    "execution_millis": 3,
    "deepnote_app_coordinates": {
     "x": 0,
     "y": 114,
     "w": 12,
     "h": 5
    },
    "deepnote_cell_type": "code",
    "deepnote_cell_height": 81
   },
   "source": "full_data.to_csv(\"happiness_and_economic_freedom.csv\")",
   "outputs": [],
   "execution_count": null
  },
  {
   "cell_type": "markdown",
   "source": "No output indicates that the CSV was created successfully. It can be found in the Files pane on the right side of the screen.",
   "metadata": {
    "cell_id": "aad56129df18482ca26ebb5ae244ebf7",
    "tags": [],
    "deepnote_app_coordinates": {
     "x": 0,
     "y": 120,
     "w": 12,
     "h": 5
    },
    "deepnote_cell_type": "markdown",
    "deepnote_cell_height": 52.390625
   }
  },
  {
   "cell_type": "markdown",
   "source": "## Examining Economic Freedom Correlation with Life Satisfaction",
   "metadata": {
    "cell_id": "fbb211e65f184f4e9fcfdd2abd169b23",
    "tags": [],
    "deepnote_app_coordinates": {
     "x": 0,
     "y": 126,
     "w": 12,
     "h": 5
    },
    "deepnote_cell_type": "markdown",
    "deepnote_cell_height": 110
   }
  },
  {
   "cell_type": "markdown",
   "source": "We want to see how life satisfaction within a country correlates with economic freedom. ",
   "metadata": {
    "cell_id": "82d0f1c2f8334312acdfa215a62b9130",
    "tags": [],
    "deepnote_app_coordinates": {
     "x": 0,
     "y": 132,
     "w": 12,
     "h": 5
    },
    "deepnote_cell_type": "markdown",
    "deepnote_cell_height": 52.390625
   }
  },
  {
   "cell_type": "code",
   "metadata": {
    "cell_id": "111c3da0f30f463898569d4e354fede2",
    "tags": [],
    "deepnote_to_be_reexecuted": false,
    "source_hash": "5a91f659",
    "execution_start": 1651266853627,
    "execution_millis": 1,
    "deepnote_app_coordinates": {
     "x": 0,
     "y": 138,
     "w": 12,
     "h": 5
    },
    "deepnote_cell_type": "code",
    "deepnote_cell_height": 136.1875,
    "deepnote_output_heights": [
     21.1875
    ]
   },
   "source": "economic_freedom_life_satisfaction_correlation = full_data['2022 Score'].corr(full_data['LifeSatisfaction'])\neconomic_freedom_life_satisfaction_correlation",
   "outputs": [
    {
     "output_type": "execute_result",
     "execution_count": 7,
     "data": {
      "text/plain": "0.7255356795479755"
     },
     "metadata": {}
    }
   ],
   "execution_count": null
  },
  {
   "cell_type": "markdown",
   "source": "The correlation coefficient 0.726 indicates there is a strong correlation between economic freedom and life satisfaction.",
   "metadata": {
    "cell_id": "3421596694bc4ff08dd8c5ee24cb4ba8",
    "tags": [],
    "deepnote_app_coordinates": {
     "x": 0,
     "y": 144,
     "w": 12,
     "h": 5
    },
    "deepnote_cell_type": "markdown",
    "deepnote_cell_height": 52.390625
   }
  },
  {
   "cell_type": "markdown",
   "source": "The Heritage Foundation scores economic freedom based on many different factors. Some of those factors may skew the correlation between economic freedom and life satisfaction. Let's look at how the individual factors that make up economic freedom correlate with life satisfaction.",
   "metadata": {
    "cell_id": "4114bb2e3aa6466daa702e7e414edb60",
    "tags": [],
    "deepnote_app_coordinates": {
     "x": 0,
     "y": 150,
     "w": 12,
     "h": 5
    },
    "deepnote_cell_type": "markdown",
    "deepnote_cell_height": 97.171875
   }
  },
  {
   "cell_type": "code",
   "metadata": {
    "cell_id": "d19d688aa2e04e009ed7c37383cb2961",
    "tags": [],
    "deepnote_to_be_reexecuted": false,
    "source_hash": "79ea65c0",
    "execution_start": 1651266853656,
    "execution_millis": 3,
    "deepnote_table_state": {
     "pageSize": 10,
     "pageIndex": 1,
     "filters": [],
     "sortBy": []
    },
    "deepnote_table_loading": false,
    "deepnote_table_invalid": false,
    "deepnote_app_coordinates": {
     "x": 0,
     "y": 156,
     "w": 12,
     "h": 5
    },
    "deepnote_cell_type": "code",
    "deepnote_cell_height": 726
   },
   "source": "economic_freedom_variables = full_data.iloc[:, 7:33] #The individual variables start with Property Rights in column 7 and end with Public debt in column 32 \nlife_satisfaction = full_data.iloc[:,34] #Life satiscation is the final column of the full_data dataframe\n\ncorrelation = economic_freedom_variables.corrwith(life_satisfaction)\n\n#We willsort the correlations so its easier to see how the variables comapre to one another\ncorrelation = correlation.to_frame('Life Satisfaction').sort_values(by='Life Satisfaction',ascending=False)\ncorrelation #Display the dataframe",
   "outputs": [
    {
     "output_type": "execute_result",
     "execution_count": 8,
     "data": {
      "application/vnd.deepnote.dataframe.v3+json": {
       "column_count": 1,
       "row_count": 26,
       "columns": [
        {
         "name": "Life Satisfaction",
         "dtype": "float64",
         "stats": {
          "unique_count": 26,
          "nan_count": 0,
          "min": "-0.5712868541321812",
          "max": "0.7949119801327637",
          "histogram": [
           {
            "bin_start": -0.5712868541321812,
            "bin_end": -0.43466697070568666,
            "count": 2
           },
           {
            "bin_start": -0.43466697070568666,
            "bin_end": -0.29804708727919216,
            "count": 1
           },
           {
            "bin_start": -0.29804708727919216,
            "bin_end": -0.16142720385269765,
            "count": 1
           },
           {
            "bin_start": -0.16142720385269765,
            "bin_end": -0.02480732042620315,
            "count": 5
           },
           {
            "bin_start": -0.02480732042620315,
            "bin_end": 0.1118125630002913,
            "count": 3
           },
           {
            "bin_start": 0.1118125630002913,
            "bin_end": 0.24843244642678586,
            "count": 2
           },
           {
            "bin_start": 0.24843244642678586,
            "bin_end": 0.3850523298532804,
            "count": 0
           },
           {
            "bin_start": 0.3850523298532804,
            "bin_end": 0.5216722132797749,
            "count": 2
           },
           {
            "bin_start": 0.5216722132797749,
            "bin_end": 0.6582920967062693,
            "count": 5
           },
           {
            "bin_start": 0.6582920967062693,
            "bin_end": 0.7949119801327637,
            "count": 5
           }
          ]
         }
        },
        {
         "name": "_deepnote_index_column",
         "dtype": "object"
        }
       ],
       "rows": [
        {
         "Life Satisfaction": 0.4631464738267712,
         "_deepnote_index_column": "Labor Freedom"
        },
        {
         "Life Satisfaction": 0.4326841552316087,
         "_deepnote_index_column": "Monetary Freedom"
        },
        {
         "Life Satisfaction": 0.1711612982798197,
         "_deepnote_index_column": "Fiscal Health"
        },
        {
         "Life Satisfaction": 0.136614680337062,
         "_deepnote_index_column": "GDP (Billions, PPP)"
        },
        {
         "Life Satisfaction": 0.10799546647346313,
         "_deepnote_index_column": "FDI Inflow (Millions)"
        },
        {
         "Life Satisfaction": 0.04196282746654111,
         "_deepnote_index_column": "Income Tax Rate (%)"
        },
        {
         "Life Satisfaction": 0.0000616742806986993,
         "_deepnote_index_column": "Public Debt (% of GDP)"
        },
        {
         "Life Satisfaction": -0.06408309618710316,
         "_deepnote_index_column": "5 Year GDP Growth Rate (%)"
        },
        {
         "Life Satisfaction": -0.065161398403664,
         "_deepnote_index_column": "Population (Millions)"
        },
        {
         "Life Satisfaction": -0.07049438112336565,
         "_deepnote_index_column": "GDP Growth Rate (%)"
        }
       ]
      },
      "text/plain": "                             Life Satisfaction\nBusiness Freedom                      0.794912\nGDP per Capita (PPP)                  0.741844\nGovernment Integrity                  0.715500\nProperty Rights                       0.711234\nJudical Effectiveness                 0.676020\nTrade Freedom                         0.638791\nFinancial Freedom                     0.628647\nTax Burden % of GDP                   0.582470\nGov't Expenditure % of GDP            0.577644\nInvestment Freedom                    0.554894\nLabor Freedom                         0.463146\nMonetary Freedom                      0.432684\nFiscal Health                         0.171161\nGDP (Billions, PPP)                   0.136615\nFDI Inflow (Millions)                 0.107995\nIncome Tax Rate (%)                   0.041963\nPublic Debt (% of GDP)                0.000062\n5 Year GDP Growth Rate (%)           -0.064083\nPopulation (Millions)                -0.065161\nGDP Growth Rate (%)                  -0.070494\nUnemployment (%)                     -0.138319\nInflation (%)                        -0.138426\nTax Burden                           -0.225925\nCorporate Tax Rate (%)               -0.334811\nGov't Spending                       -0.564429\nTariff Rate (%)                      -0.571287",
      "text/html": "<div>\n<style scoped>\n    .dataframe tbody tr th:only-of-type {\n        vertical-align: middle;\n    }\n\n    .dataframe tbody tr th {\n        vertical-align: top;\n    }\n\n    .dataframe thead th {\n        text-align: right;\n    }\n</style>\n<table border=\"1\" class=\"dataframe\">\n  <thead>\n    <tr style=\"text-align: right;\">\n      <th></th>\n      <th>Life Satisfaction</th>\n    </tr>\n  </thead>\n  <tbody>\n    <tr>\n      <th>Business Freedom</th>\n      <td>0.794912</td>\n    </tr>\n    <tr>\n      <th>GDP per Capita (PPP)</th>\n      <td>0.741844</td>\n    </tr>\n    <tr>\n      <th>Government Integrity</th>\n      <td>0.715500</td>\n    </tr>\n    <tr>\n      <th>Property Rights</th>\n      <td>0.711234</td>\n    </tr>\n    <tr>\n      <th>Judical Effectiveness</th>\n      <td>0.676020</td>\n    </tr>\n    <tr>\n      <th>Trade Freedom</th>\n      <td>0.638791</td>\n    </tr>\n    <tr>\n      <th>Financial Freedom</th>\n      <td>0.628647</td>\n    </tr>\n    <tr>\n      <th>Tax Burden % of GDP</th>\n      <td>0.582470</td>\n    </tr>\n    <tr>\n      <th>Gov't Expenditure % of GDP</th>\n      <td>0.577644</td>\n    </tr>\n    <tr>\n      <th>Investment Freedom</th>\n      <td>0.554894</td>\n    </tr>\n    <tr>\n      <th>Labor Freedom</th>\n      <td>0.463146</td>\n    </tr>\n    <tr>\n      <th>Monetary Freedom</th>\n      <td>0.432684</td>\n    </tr>\n    <tr>\n      <th>Fiscal Health</th>\n      <td>0.171161</td>\n    </tr>\n    <tr>\n      <th>GDP (Billions, PPP)</th>\n      <td>0.136615</td>\n    </tr>\n    <tr>\n      <th>FDI Inflow (Millions)</th>\n      <td>0.107995</td>\n    </tr>\n    <tr>\n      <th>Income Tax Rate (%)</th>\n      <td>0.041963</td>\n    </tr>\n    <tr>\n      <th>Public Debt (% of GDP)</th>\n      <td>0.000062</td>\n    </tr>\n    <tr>\n      <th>5 Year GDP Growth Rate (%)</th>\n      <td>-0.064083</td>\n    </tr>\n    <tr>\n      <th>Population (Millions)</th>\n      <td>-0.065161</td>\n    </tr>\n    <tr>\n      <th>GDP Growth Rate (%)</th>\n      <td>-0.070494</td>\n    </tr>\n    <tr>\n      <th>Unemployment (%)</th>\n      <td>-0.138319</td>\n    </tr>\n    <tr>\n      <th>Inflation (%)</th>\n      <td>-0.138426</td>\n    </tr>\n    <tr>\n      <th>Tax Burden</th>\n      <td>-0.225925</td>\n    </tr>\n    <tr>\n      <th>Corporate Tax Rate (%)</th>\n      <td>-0.334811</td>\n    </tr>\n    <tr>\n      <th>Gov't Spending</th>\n      <td>-0.564429</td>\n    </tr>\n    <tr>\n      <th>Tariff Rate (%)</th>\n      <td>-0.571287</td>\n    </tr>\n  </tbody>\n</table>\n</div>"
     },
     "metadata": {}
    }
   ],
   "execution_count": null
  },
  {
   "cell_type": "markdown",
   "source": "From the output, we can see that some variables correlate positively with life satisfaction, and some correlate negatively. For example, the correlation coefficient of `Life Satisfaction` and `Business Freedom` is extremely high (0.795), whereas the correlation coefficient of `Tarrif Rate (%)` and `Life Satisfaction` (-0.57) indicates a moderate negative correlation. Other variables, such as `Public Debt (% of GDP)` do not correlate with `Life Satisfaction`. The correlation coefficient of `Public Debt (% of GDP)` and `Life Satisfaction` is 0.00006.",
   "metadata": {
    "cell_id": "fc6cbad84d7a430d8c39a619ec064548",
    "tags": [],
    "deepnote_app_coordinates": {
     "x": 0,
     "y": 162,
     "w": 12,
     "h": 5
    },
    "deepnote_cell_type": "markdown",
    "deepnote_cell_height": 141.953125
   }
  },
  {
   "cell_type": "markdown",
   "source": "To visualize the correlation coefficients and make them easier to quickly comprehend, we can use a heatmap.",
   "metadata": {
    "cell_id": "8b38410fcb7d4d70823c6e960d7bdde1",
    "tags": [],
    "deepnote_app_coordinates": {
     "x": 0,
     "y": 168,
     "w": 12,
     "h": 5
    },
    "deepnote_cell_type": "markdown",
    "deepnote_cell_height": 52.390625
   }
  },
  {
   "cell_type": "code",
   "metadata": {
    "cell_id": "63eb72d4d146406b9438ae26dee93671",
    "tags": [],
    "deepnote_to_be_reexecuted": false,
    "source_hash": "43119c16",
    "execution_start": 1651266853664,
    "execution_millis": 548,
    "deepnote_app_coordinates": {
     "x": 0,
     "y": 174,
     "w": 12,
     "h": 5
    },
    "deepnote_cell_type": "code",
    "deepnote_cell_height": 707.1875,
    "deepnote_output_heights": [
     21.1875,
     522
    ]
   },
   "source": "plt.figure(figsize=(12, 9)) #The default figure size is not large enough to display every correlation, so we increase the size here\ncorrelation_heatmap=sns.heatmap(correlation)\ncorrelation_heatmap",
   "outputs": [
    {
     "output_type": "execute_result",
     "execution_count": 9,
     "data": {
      "text/plain": "<AxesSubplot:>"
     },
     "metadata": {}
    },
    {
     "data": {
      "text/plain": "<Figure size 864x648 with 2 Axes>",
      "image/png": "[encoded data removed]"
     },
     "metadata": {
      "needs_background": "light",
      "image/png": {
       "width": 789,
       "height": 520
      }
     },
     "output_type": "display_data"
    }
   ],
   "execution_count": null
  },
  {
   "cell_type": "markdown",
   "source": "Dark purple and black indicate a negative correlation where as light orange indicates a positive correlation. Bright red indicates a very weak correlation (if any at all). There seems to be slightly more economic freedom variables that correlate positively with life satisfaction than variables that correlate negatively.  ",
   "metadata": {
    "cell_id": "2da0ed72dc964a7eb544fd9cb718bf68",
    "tags": [],
    "deepnote_app_coordinates": {
     "x": 0,
     "y": 180,
     "w": 12,
     "h": 5
    },
    "deepnote_cell_type": "markdown",
    "deepnote_cell_height": 97.171875
   }
  },
  {
   "cell_type": "markdown",
   "source": "# Regression Model",
   "metadata": {
    "cell_id": "97251c82f2054edf87fd230cd07f0535",
    "tags": [],
    "deepnote_app_coordinates": {
     "x": 0,
     "y": 186,
     "w": 12,
     "h": 5
    },
    "deepnote_cell_type": "markdown",
    "deepnote_cell_height": 82
   }
  },
  {
   "cell_type": "markdown",
   "source": "For the challenging step of our project, we decided to make a regression model to predict life satisfaction. Due to multicollinearity, we were not able to add every single variable in the index of economic freedom to the regression model. We werent sure what variables were the best to use, so we started out using stepwise regression to help us find the best variables. The function below, forward_selected, was written by Aaron and Trevor from PlanSpace https://planspace.org/20150423-forward_selection_with_statsmodels/",
   "metadata": {
    "cell_id": "304ba11234094f20a4cf585967b8941e",
    "tags": [],
    "deepnote_app_coordinates": {
     "x": 0,
     "y": 192,
     "w": 12,
     "h": 5
    },
    "deepnote_cell_type": "markdown",
    "deepnote_cell_height": 141.953125
   }
  },
  {
   "cell_type": "code",
   "metadata": {
    "cell_id": "dc6f4300ecd942fdae85bb30c77a158f",
    "tags": [],
    "deepnote_to_be_reexecuted": false,
    "source_hash": "2ab324b4",
    "execution_start": 1651266854215,
    "execution_millis": 2,
    "deepnote_app_coordinates": {
     "x": 0,
     "y": 198,
     "w": 12,
     "h": 5
    },
    "deepnote_cell_type": "code",
    "deepnote_cell_height": 729
   },
   "source": "def forward_selected(data, response):\n    \"\"\"Linear model designed by forward selection.\n\n    Parameters:\n    -----------\n    data : pandas DataFrame with all possible predictors and response\n\n    response: string, name of response column in data\n\n    Returns:\n    --------\n    model: an \"optimal\" fitted statsmodels linear model\n           with an intercept\n           selected by forward selection\n           evaluated by adjusted R-squared\n    \"\"\"\n    remaining = set(data.columns)\n    remaining.remove(response)\n    selected = []\n    current_score, best_new_score = 0.0, 0.0\n    while remaining and current_score == best_new_score:\n        scores_with_candidates = []\n        for candidate in remaining:\n            formula = \"{} ~ {} + 1\".format(response,\n                                           ' + '.join(selected + [candidate]))\n            score = smf.ols(formula, data).fit().rsquared_adj\n            scores_with_candidates.append((score, candidate))\n        scores_with_candidates.sort()\n        best_new_score, best_candidate = scores_with_candidates.pop()\n        if current_score < best_new_score:\n            remaining.remove(best_candidate)\n            selected.append(best_candidate)\n            current_score = best_new_score\n    formula = \"{} ~ {} + 1\".format(response,\n                                   ' + '.join(selected))\n    model = smf.ols(formula, data).fit()\n    return model",
   "outputs": [],
   "execution_count": null
  },
  {
   "cell_type": "markdown",
   "source": "No output indicates that Aaron and Trevor's function was created successfully.",
   "metadata": {
    "cell_id": "b414f34959ef499397ecf9117135a7fa",
    "tags": [],
    "deepnote_app_coordinates": {
     "x": 0,
     "y": 204,
     "w": 12,
     "h": 5
    },
    "deepnote_cell_type": "markdown",
    "deepnote_cell_height": 52.390625
   }
  },
  {
   "cell_type": "markdown",
   "source": "Before we use the forward_selected function, we have to remove the columns from our dataframe that we don't want included in our regression model. These columns are `CountryID`, `WEBNAME`, `Region`, `World Rank`, `Region Rank`, and `Latest Happiness Year`. The function also does not work with special characters and numbers in column names, so we need to replace special characters and numbers.",
   "metadata": {
    "cell_id": "1cc143387dfc4aea9cade9a076dbb178",
    "tags": [],
    "deepnote_app_coordinates": {
     "x": 0,
     "y": 210,
     "w": 12,
     "h": 5
    },
    "deepnote_cell_type": "markdown",
    "deepnote_cell_height": 119.5625
   }
  },
  {
   "cell_type": "code",
   "metadata": {
    "cell_id": "877493df19844eba98a36d6d13497964",
    "tags": [],
    "deepnote_to_be_reexecuted": false,
    "source_hash": "9698f668",
    "execution_start": 1651266854218,
    "execution_millis": 146,
    "deepnote_app_coordinates": {
     "x": 0,
     "y": 216,
     "w": 12,
     "h": 5
    },
    "deepnote_cell_type": "code",
    "deepnote_cell_height": 1015.75
   },
   "source": "#Remove columns we don't want in our regression model\nfull_data_clean = full_data.drop(full_data[['CountryID', 'WEBNAME', 'Region', 'World Rank', 'Region Rank', 'Latest Happiness Year']], axis = 1)\nfull_data_clean = full_data_clean.set_index('Country Name') #Set the index as country name so Country Name is not included as a variable in the regression model\n\n#Replace all special characters with spaces (except for %, which we replace with 'Pct')\nfull_data_clean.columns = full_data_clean.columns.str.replace(' ', '')\nfull_data_clean.columns = full_data_clean.columns.str.replace('\\'', '')\nfull_data_clean.columns = full_data_clean.columns.str.replace('%', 'Pct')\nfull_data_clean.columns = full_data_clean.columns.str.replace('(', '')\nfull_data_clean.columns = full_data_clean.columns.str.replace(')', '')\nfull_data_clean.columns = full_data_clean.columns.str.replace(',', '')\n\n#Replace all numbers with words\nfull_data_clean.columns = full_data_clean.columns.str.replace('2022', 'TwentyTwentyTwo')\nfull_data_clean.columns = full_data_clean.columns.str.replace('5', 'Five')\n\nfull_data_clean",
   "outputs": [
    {
     "name": "stderr",
     "text": "/shared-libs/python3.7/py-core/lib/python3.7/site-packages/ipykernel_launcher.py:9: FutureWarning: The default value of regex will change from True to False in a future version. In addition, single character regular expressions will*not* be treated as literal strings when regex=True.\n  if __name__ == '__main__':\n/shared-libs/python3.7/py-core/lib/python3.7/site-packages/ipykernel_launcher.py:10: FutureWarning: The default value of regex will change from True to False in a future version. In addition, single character regular expressions will*not* be treated as literal strings when regex=True.\n  # Remove the CWD from sys.path while we load stuff.\n",
     "output_type": "stream"
    },
    {
     "output_type": "execute_result",
     "execution_count": 11,
     "data": {
      "application/vnd.deepnote.dataframe.v3+json": {
       "column_count": 28,
       "row_count": 151,
       "columns": [
        {
         "name": "TwentyTwentyTwoScore",
         "dtype": "float64",
         "stats": {
          "unique_count": 128,
          "nan_count": 0,
          "min": "24.8",
          "max": "84.4",
          "histogram": [
           {
            "bin_start": 24.8,
            "bin_end": 30.76,
            "count": 1
           },
           {
            "bin_start": 30.76,
            "bin_end": 36.72,
            "count": 2
           },
           {
            "bin_start": 36.72,
            "bin_end": 42.68000000000001,
            "count": 2
           },
           {
            "bin_start": 42.68000000000001,
            "bin_end": 48.64,
            "count": 12
           },
           {
            "bin_start": 48.64,
            "bin_end": 54.60000000000001,
            "count": 29
           },
           {
            "bin_start": 54.60000000000001,
            "bin_end": 60.56,
            "count": 33
           },
           {
            "bin_start": 60.56,
            "bin_end": 66.52000000000001,
            "count": 27
           },
           {
            "bin_start": 66.52000000000001,
            "bin_end": 72.48,
            "count": 22
           },
           {
            "bin_start": 72.48,
            "bin_end": 78.44000000000001,
            "count": 16
           },
           {
            "bin_start": 78.44000000000001,
            "bin_end": 84.4,
            "count": 7
           }
          ]
         }
        },
        {
         "name": "PropertyRights",
         "dtype": "float64",
         "stats": {
          "unique_count": 137,
          "nan_count": 0,
          "min": "0.2",
          "max": "100.0",
          "histogram": [
           {
            "bin_start": 0.2,
            "bin_end": 10.18,
            "count": 2
           },
           {
            "bin_start": 10.18,
            "bin_end": 20.16,
            "count": 4
           },
           {
            "bin_start": 20.16,
            "bin_end": 30.14,
            "count": 14
           },
           {
            "bin_start": 30.14,
            "bin_end": 40.120000000000005,
            "count": 26
           },
           {
            "bin_start": 40.120000000000005,
            "bin_end": 50.10000000000001,
            "count": 31
           },
           {
            "bin_start": 50.10000000000001,
            "bin_end": 60.080000000000005,
            "count": 17
           },
           {
            "bin_start": 60.080000000000005,
            "bin_end": 70.06,
            "count": 13
           },
           {
            "bin_start": 70.06,
            "bin_end": 80.04,
            "count": 7
           },
           {
            "bin_start": 80.04,
            "bin_end": 90.02000000000001,
            "count": 17
           },
           {
            "bin_start": 90.02000000000001,
            "bin_end": 100,
            "count": 20
           }
          ]
         }
        },
        {
         "name": "JudicalEffectiveness",
         "dtype": "float64",
         "stats": {
          "unique_count": 138,
          "nan_count": 0,
          "min": "4.6",
          "max": "98.0",
          "histogram": [
           {
            "bin_start": 4.6,
            "bin_end": 13.94,
            "count": 12
           },
           {
            "bin_start": 13.94,
            "bin_end": 23.28,
            "count": 11
           },
           {
            "bin_start": 23.28,
            "bin_end": 32.62,
            "count": 23
           },
           {
            "bin_start": 32.62,
            "bin_end": 41.96,
            "count": 25
           },
           {
            "bin_start": 41.96,
            "bin_end": 51.300000000000004,
            "count": 18
           },
           {
            "bin_start": 51.300000000000004,
            "bin_end": 60.64,
            "count": 15
           },
           {
            "bin_start": 60.64,
            "bin_end": 69.97999999999999,
            "count": 8
           },
           {
            "bin_start": 69.97999999999999,
            "bin_end": 79.32,
            "count": 11
           },
           {
            "bin_start": 79.32,
            "bin_end": 88.66,
            "count": 6
           },
           {
            "bin_start": 88.66,
            "bin_end": 98,
            "count": 22
           }
          ]
         }
        },
        {
         "name": "GovernmentIntegrity",
         "dtype": "float64",
         "stats": {
          "unique_count": 139,
          "nan_count": 0,
          "min": "7.1",
          "max": "99.5",
          "histogram": [
           {
            "bin_start": 7.1,
            "bin_end": 16.34,
            "count": 9
           },
           {
            "bin_start": 16.34,
            "bin_end": 25.58,
            "count": 20
           },
           {
            "bin_start": 25.58,
            "bin_end": 34.82,
            "count": 29
           },
           {
            "bin_start": 34.82,
            "bin_end": 44.06,
            "count": 30
           },
           {
            "bin_start": 44.06,
            "bin_end": 53.300000000000004,
            "count": 17
           },
           {
            "bin_start": 53.300000000000004,
            "bin_end": 62.54,
            "count": 12
           },
           {
            "bin_start": 62.54,
            "bin_end": 71.78,
            "count": 10
           },
           {
            "bin_start": 71.78,
            "bin_end": 81.02,
            "count": 6
           },
           {
            "bin_start": 81.02,
            "bin_end": 90.25999999999999,
            "count": 10
           },
           {
            "bin_start": 90.25999999999999,
            "bin_end": 99.5,
            "count": 8
           }
          ]
         }
        },
        {
         "name": "TaxBurden",
         "dtype": "float64",
         "stats": {
          "unique_count": 130,
          "nan_count": 0,
          "min": "42.3",
          "max": "100.0",
          "histogram": [
           {
            "bin_start": 42.3,
            "bin_end": 48.07,
            "count": 4
           },
           {
            "bin_start": 48.07,
            "bin_end": 53.839999999999996,
            "count": 3
           },
           {
            "bin_start": 53.839999999999996,
            "bin_end": 59.61,
            "count": 3
           },
           {
            "bin_start": 59.61,
            "bin_end": 65.38,
            "count": 11
           },
           {
            "bin_start": 65.38,
            "bin_end": 71.15,
            "count": 17
           },
           {
            "bin_start": 71.15,
            "bin_end": 76.92,
            "count": 25
           },
           {
            "bin_start": 76.92,
            "bin_end": 82.69,
            "count": 34
           },
           {
            "bin_start": 82.69,
            "bin_end": 88.46000000000001,
            "count": 22
           },
           {
            "bin_start": 88.46000000000001,
            "bin_end": 94.23,
            "count": 20
           },
           {
            "bin_start": 94.23,
            "bin_end": 100,
            "count": 12
           }
          ]
         }
        },
        {
         "name": "GovtSpending",
         "dtype": "float64",
         "stats": {
          "unique_count": 139,
          "nan_count": 0,
          "min": "0.5",
          "max": "97.0",
          "histogram": [
           {
            "bin_start": 0.5,
            "bin_end": 10.15,
            "count": 4
           },
           {
            "bin_start": 10.15,
            "bin_end": 19.8,
            "count": 3
           },
           {
            "bin_start": 19.8,
            "bin_end": 29.450000000000003,
            "count": 5
           },
           {
            "bin_start": 29.450000000000003,
            "bin_end": 39.1,
            "count": 7
           },
           {
            "bin_start": 39.1,
            "bin_end": 48.75,
            "count": 14
           },
           {
            "bin_start": 48.75,
            "bin_end": 58.400000000000006,
            "count": 13
           },
           {
            "bin_start": 58.400000000000006,
            "bin_end": 68.05,
            "count": 20
           },
           {
            "bin_start": 68.05,
            "bin_end": 77.7,
            "count": 26
           },
           {
            "bin_start": 77.7,
            "bin_end": 87.35000000000001,
            "count": 31
           },
           {
            "bin_start": 87.35000000000001,
            "bin_end": 97,
            "count": 28
           }
          ]
         }
        },
        {
         "name": "FiscalHealth",
         "dtype": "float64",
         "stats": {
          "unique_count": 128,
          "nan_count": 0,
          "min": "0.0",
          "max": "99.7",
          "histogram": [
           {
            "bin_start": 0,
            "bin_end": 9.97,
            "count": 17
           },
           {
            "bin_start": 9.97,
            "bin_end": 19.94,
            "count": 14
           },
           {
            "bin_start": 19.94,
            "bin_end": 29.910000000000004,
            "count": 6
           },
           {
            "bin_start": 29.910000000000004,
            "bin_end": 39.88,
            "count": 3
           },
           {
            "bin_start": 39.88,
            "bin_end": 49.85,
            "count": 5
           },
           {
            "bin_start": 49.85,
            "bin_end": 59.82000000000001,
            "count": 14
           },
           {
            "bin_start": 59.82000000000001,
            "bin_end": 69.79,
            "count": 12
           },
           {
            "bin_start": 69.79,
            "bin_end": 79.76,
            "count": 25
           },
           {
            "bin_start": 79.76,
            "bin_end": 89.73,
            "count": 22
           },
           {
            "bin_start": 89.73,
            "bin_end": 99.7,
            "count": 33
           }
          ]
         }
        },
        {
         "name": "BusinessFreedom",
         "dtype": "float64",
         "stats": {
          "unique_count": 133,
          "nan_count": 0,
          "min": "25.0",
          "max": "91.4",
          "histogram": [
           {
            "bin_start": 25,
            "bin_end": 31.64,
            "count": 7
           },
           {
            "bin_start": 31.64,
            "bin_end": 38.28,
            "count": 11
           },
           {
            "bin_start": 38.28,
            "bin_end": 44.92,
            "count": 8
           },
           {
            "bin_start": 44.92,
            "bin_end": 51.56,
            "count": 14
           },
           {
            "bin_start": 51.56,
            "bin_end": 58.2,
            "count": 20
           },
           {
            "bin_start": 58.2,
            "bin_end": 64.84,
            "count": 26
           },
           {
            "bin_start": 64.84,
            "bin_end": 71.48,
            "count": 20
           },
           {
            "bin_start": 71.48,
            "bin_end": 78.12,
            "count": 17
           },
           {
            "bin_start": 78.12,
            "bin_end": 84.76,
            "count": 17
           },
           {
            "bin_start": 84.76,
            "bin_end": 91.4,
            "count": 11
           }
          ]
         }
        },
        {
         "name": "LaborFreedom",
         "dtype": "float64",
         "stats": {
          "unique_count": 121,
          "nan_count": 0,
          "min": "30.7",
          "max": "78.4",
          "histogram": [
           {
            "bin_start": 30.7,
            "bin_end": 35.47,
            "count": 3
           },
           {
            "bin_start": 35.47,
            "bin_end": 40.24,
            "count": 7
           },
           {
            "bin_start": 40.24,
            "bin_end": 45.010000000000005,
            "count": 9
           },
           {
            "bin_start": 45.010000000000005,
            "bin_end": 49.78,
            "count": 16
           },
           {
            "bin_start": 49.78,
            "bin_end": 54.55,
            "count": 24
           },
           {
            "bin_start": 54.55,
            "bin_end": 59.32000000000001,
            "count": 40
           },
           {
            "bin_start": 59.32000000000001,
            "bin_end": 64.09,
            "count": 28
           },
           {
            "bin_start": 64.09,
            "bin_end": 68.86,
            "count": 16
           },
           {
            "bin_start": 68.86,
            "bin_end": 73.63000000000001,
            "count": 5
           },
           {
            "bin_start": 73.63000000000001,
            "bin_end": 78.4,
            "count": 3
           }
          ]
         }
        },
        {
         "name": "MonetaryFreedom",
         "dtype": "float64",
         "stats": {
          "unique_count": 116,
          "nan_count": 0,
          "min": "0.0",
          "max": "87.1",
          "histogram": [
           {
            "bin_start": 0,
            "bin_end": 8.709999999999999,
            "count": 2
           },
           {
            "bin_start": 8.709999999999999,
            "bin_end": 17.419999999999998,
            "count": 1
           },
           {
            "bin_start": 17.419999999999998,
            "bin_end": 26.129999999999995,
            "count": 0
           },
           {
            "bin_start": 26.129999999999995,
            "bin_end": 34.839999999999996,
            "count": 0
           },
           {
            "bin_start": 34.839999999999996,
            "bin_end": 43.55,
            "count": 3
           },
           {
            "bin_start": 43.55,
            "bin_end": 52.25999999999999,
            "count": 0
           },
           {
            "bin_start": 52.25999999999999,
            "bin_end": 60.96999999999999,
            "count": 3
           },
           {
            "bin_start": 60.96999999999999,
            "bin_end": 69.67999999999999,
            "count": 16
           },
           {
            "bin_start": 69.67999999999999,
            "bin_end": 78.38999999999999,
            "count": 58
           },
           {
            "bin_start": 78.38999999999999,
            "bin_end": 87.1,
            "count": 68
           }
          ]
         }
        },
        {
         "name": "TradeFreedom",
         "dtype": "float64",
         "stats": {
          "unique_count": 94,
          "nan_count": 0,
          "min": "0.0",
          "max": "95.0",
          "histogram": [
           {
            "bin_start": 0,
            "bin_end": 9.5,
            "count": 1
           },
           {
            "bin_start": 9.5,
            "bin_end": 19,
            "count": 0
           },
           {
            "bin_start": 19,
            "bin_end": 28.5,
            "count": 1
           },
           {
            "bin_start": 28.5,
            "bin_end": 38,
            "count": 0
           },
           {
            "bin_start": 38,
            "bin_end": 47.5,
            "count": 4
           },
           {
            "bin_start": 47.5,
            "bin_end": 57,
            "count": 9
           },
           {
            "bin_start": 57,
            "bin_end": 66.5,
            "count": 33
           },
           {
            "bin_start": 66.5,
            "bin_end": 76,
            "count": 46
           },
           {
            "bin_start": 76,
            "bin_end": 85.5,
            "count": 51
           },
           {
            "bin_start": 85.5,
            "bin_end": 95,
            "count": 6
           }
          ]
         }
        },
        {
         "name": "InvestmentFreedom",
         "dtype": "float64",
         "stats": {
          "unique_count": 20,
          "nan_count": 0,
          "min": "0.0",
          "max": "95.0",
          "histogram": [
           {
            "bin_start": 0,
            "bin_end": 9.5,
            "count": 3
           },
           {
            "bin_start": 9.5,
            "bin_end": 19,
            "count": 3
           },
           {
            "bin_start": 19,
            "bin_end": 28.5,
            "count": 4
           },
           {
            "bin_start": 28.5,
            "bin_end": 38,
            "count": 14
           },
           {
            "bin_start": 38,
            "bin_end": 47.5,
            "count": 10
           },
           {
            "bin_start": 47.5,
            "bin_end": 57,
            "count": 29
           },
           {
            "bin_start": 57,
            "bin_end": 66.5,
            "count": 30
           },
           {
            "bin_start": 66.5,
            "bin_end": 76,
            "count": 30
           },
           {
            "bin_start": 76,
            "bin_end": 85.5,
            "count": 23
           },
           {
            "bin_start": 85.5,
            "bin_end": 95,
            "count": 5
           }
          ]
         }
        },
        {
         "name": "FinancialFreedom",
         "dtype": "float64",
         "stats": {
          "unique_count": 9,
          "nan_count": 0,
          "min": "10.0",
          "max": "90.0",
          "histogram": [
           {
            "bin_start": 10,
            "bin_end": 18,
            "count": 4
           },
           {
            "bin_start": 18,
            "bin_end": 26,
            "count": 8
           },
           {
            "bin_start": 26,
            "bin_end": 34,
            "count": 17
           },
           {
            "bin_start": 34,
            "bin_end": 42,
            "count": 23
           },
           {
            "bin_start": 42,
            "bin_end": 50,
            "count": 0
           },
           {
            "bin_start": 50,
            "bin_end": 58,
            "count": 36
           },
           {
            "bin_start": 58,
            "bin_end": 66,
            "count": 27
           },
           {
            "bin_start": 66,
            "bin_end": 74,
            "count": 22
           },
           {
            "bin_start": 74,
            "bin_end": 82,
            "count": 12
           },
           {
            "bin_start": 82,
            "bin_end": 90,
            "count": 2
           }
          ]
         }
        },
        {
         "name": "TariffRatePct",
         "dtype": "float64",
         "stats": {
          "unique_count": 90,
          "nan_count": 0,
          "min": "0.0",
          "max": "67.7",
          "histogram": [
           {
            "bin_start": 0,
            "bin_end": 6.7700000000000005,
            "count": 80
           },
           {
            "bin_start": 6.7700000000000005,
            "bin_end": 13.540000000000001,
            "count": 56
           },
           {
            "bin_start": 13.540000000000001,
            "bin_end": 20.310000000000002,
            "count": 11
           },
           {
            "bin_start": 20.310000000000002,
            "bin_end": 27.080000000000002,
            "count": 3
           },
           {
            "bin_start": 27.080000000000002,
            "bin_end": 33.85,
            "count": 0
           },
           {
            "bin_start": 33.85,
            "bin_end": 40.620000000000005,
            "count": 0
           },
           {
            "bin_start": 40.620000000000005,
            "bin_end": 47.39,
            "count": 0
           },
           {
            "bin_start": 47.39,
            "bin_end": 54.160000000000004,
            "count": 0
           },
           {
            "bin_start": 54.160000000000004,
            "bin_end": 60.93000000000001,
            "count": 0
           },
           {
            "bin_start": 60.93000000000001,
            "bin_end": 67.7,
            "count": 1
           }
          ]
         }
        },
        {
         "name": "IncomeTaxRatePct",
         "dtype": "float64",
         "stats": {
          "unique_count": 50,
          "nan_count": 0,
          "min": "0.0",
          "max": "60.0",
          "histogram": [
           {
            "bin_start": 0,
            "bin_end": 6,
            "count": 7
           },
           {
            "bin_start": 6,
            "bin_end": 12,
            "count": 12
           },
           {
            "bin_start": 12,
            "bin_end": 18,
            "count": 9
           },
           {
            "bin_start": 18,
            "bin_end": 24,
            "count": 13
           },
           {
            "bin_start": 24,
            "bin_end": 30,
            "count": 19
           },
           {
            "bin_start": 30,
            "bin_end": 36,
            "count": 47
           },
           {
            "bin_start": 36,
            "bin_end": 42,
            "count": 19
           },
           {
            "bin_start": 42,
            "bin_end": 48,
            "count": 13
           },
           {
            "bin_start": 48,
            "bin_end": 54,
            "count": 8
           },
           {
            "bin_start": 54,
            "bin_end": 60,
            "count": 4
           }
          ]
         }
        },
        {
         "name": "CorporateTaxRatePct",
         "dtype": "float64",
         "stats": {
          "unique_count": 41,
          "nan_count": 0,
          "min": "0.0",
          "max": "50.0",
          "histogram": [
           {
            "bin_start": 0,
            "bin_end": 5,
            "count": 5
           },
           {
            "bin_start": 5,
            "bin_end": 10,
            "count": 3
           },
           {
            "bin_start": 10,
            "bin_end": 15,
            "count": 8
           },
           {
            "bin_start": 15,
            "bin_end": 20,
            "count": 23
           },
           {
            "bin_start": 20,
            "bin_end": 25,
            "count": 32
           },
           {
            "bin_start": 25,
            "bin_end": 30,
            "count": 38
           },
           {
            "bin_start": 30,
            "bin_end": 35,
            "count": 33
           },
           {
            "bin_start": 35,
            "bin_end": 40,
            "count": 6
           },
           {
            "bin_start": 40,
            "bin_end": 45,
            "count": 1
           },
           {
            "bin_start": 45,
            "bin_end": 50,
            "count": 2
           }
          ]
         }
        },
        {
         "name": "TaxBurdenPctofGDP",
         "dtype": "float64",
         "stats": {
          "unique_count": 127,
          "nan_count": 0,
          "min": "1.0",
          "max": "46.3",
          "histogram": [
           {
            "bin_start": 1,
            "bin_end": 5.529999999999999,
            "count": 4
           },
           {
            "bin_start": 5.529999999999999,
            "bin_end": 10.059999999999999,
            "count": 15
           },
           {
            "bin_start": 10.059999999999999,
            "bin_end": 14.589999999999998,
            "count": 27
           },
           {
            "bin_start": 14.589999999999998,
            "bin_end": 19.119999999999997,
            "count": 34
           },
           {
            "bin_start": 19.119999999999997,
            "bin_end": 23.65,
            "count": 22
           },
           {
            "bin_start": 23.65,
            "bin_end": 28.179999999999996,
            "count": 10
           },
           {
            "bin_start": 28.179999999999996,
            "bin_end": 32.709999999999994,
            "count": 14
           },
           {
            "bin_start": 32.709999999999994,
            "bin_end": 37.239999999999995,
            "count": 11
           },
           {
            "bin_start": 37.239999999999995,
            "bin_end": 41.769999999999996,
            "count": 7
           },
           {
            "bin_start": 41.769999999999996,
            "bin_end": 46.3,
            "count": 7
           }
          ]
         }
        },
        {
         "name": "GovtExpenditurePctofGDP",
         "dtype": "float64",
         "stats": {
          "unique_count": 126,
          "nan_count": 0,
          "min": "10.1",
          "max": "57.6",
          "histogram": [
           {
            "bin_start": 10.1,
            "bin_end": 14.85,
            "count": 5
           },
           {
            "bin_start": 14.85,
            "bin_end": 19.6,
            "count": 19
           },
           {
            "bin_start": 19.6,
            "bin_end": 24.35,
            "count": 24
           },
           {
            "bin_start": 24.35,
            "bin_end": 29.1,
            "count": 19
           },
           {
            "bin_start": 29.1,
            "bin_end": 33.85,
            "count": 25
           },
           {
            "bin_start": 33.85,
            "bin_end": 38.6,
            "count": 17
           },
           {
            "bin_start": 38.6,
            "bin_end": 43.35,
            "count": 17
           },
           {
            "bin_start": 43.35,
            "bin_end": 48.1,
            "count": 12
           },
           {
            "bin_start": 48.1,
            "bin_end": 52.85,
            "count": 8
           },
           {
            "bin_start": 52.85,
            "bin_end": 57.6,
            "count": 5
           }
          ]
         }
        },
        {
         "name": "PopulationMillions",
         "dtype": "float64",
         "stats": {
          "unique_count": 125,
          "nan_count": 0,
          "min": "0.4",
          "max": "1402.1",
          "histogram": [
           {
            "bin_start": 0.4,
            "bin_end": 140.57,
            "count": 142
           },
           {
            "bin_start": 140.57,
            "bin_end": 280.73999999999995,
            "count": 6
           },
           {
            "bin_start": 280.73999999999995,
            "bin_end": 420.90999999999997,
            "count": 1
           },
           {
            "bin_start": 420.90999999999997,
            "bin_end": 561.0799999999999,
            "count": 0
           },
           {
            "bin_start": 561.0799999999999,
            "bin_end": 701.2499999999999,
            "count": 0
           },
           {
            "bin_start": 701.2499999999999,
            "bin_end": 841.42,
            "count": 0
           },
           {
            "bin_start": 841.42,
            "bin_end": 981.5899999999999,
            "count": 0
           },
           {
            "bin_start": 981.5899999999999,
            "bin_end": 1121.76,
            "count": 0
           },
           {
            "bin_start": 1121.76,
            "bin_end": 1261.93,
            "count": 0
           },
           {
            "bin_start": 1261.93,
            "bin_end": 1402.1,
            "count": 2
           }
          ]
         }
        },
        {
         "name": "GDPBillionsPPP",
         "dtype": "float64",
         "stats": {
          "unique_count": 147,
          "nan_count": 0,
          "min": "2.5",
          "max": "24142.8",
          "histogram": [
           {
            "bin_start": 2.5,
            "bin_end": 2416.5299999999997,
            "count": 138
           },
           {
            "bin_start": 2416.5299999999997,
            "bin_end": 4830.5599999999995,
            "count": 9
           },
           {
            "bin_start": 4830.5599999999995,
            "bin_end": 7244.589999999999,
            "count": 1
           },
           {
            "bin_start": 7244.589999999999,
            "bin_end": 9658.619999999999,
            "count": 1
           },
           {
            "bin_start": 9658.619999999999,
            "bin_end": 12072.649999999998,
            "count": 0
           },
           {
            "bin_start": 12072.649999999998,
            "bin_end": 14486.679999999998,
            "count": 0
           },
           {
            "bin_start": 14486.679999999998,
            "bin_end": 16900.71,
            "count": 0
           },
           {
            "bin_start": 16900.71,
            "bin_end": 19314.739999999998,
            "count": 0
           },
           {
            "bin_start": 19314.739999999998,
            "bin_end": 21728.769999999997,
            "count": 1
           },
           {
            "bin_start": 21728.769999999997,
            "bin_end": 24142.8,
            "count": 1
           }
          ]
         }
        },
        {
         "name": "GDPGrowthRatePct",
         "dtype": "float64",
         "stats": {
          "unique_count": 98,
          "nan_count": 0,
          "min": "-32.2",
          "max": "43.4",
          "histogram": [
           {
            "bin_start": -32.2,
            "bin_end": -24.640000000000004,
            "count": 3
           },
           {
            "bin_start": -24.640000000000004,
            "bin_end": -17.080000000000005,
            "count": 1
           },
           {
            "bin_start": -17.080000000000005,
            "bin_end": -9.520000000000003,
            "count": 9
           },
           {
            "bin_start": -9.520000000000003,
            "bin_end": -1.9600000000000044,
            "count": 92
           },
           {
            "bin_start": -1.9600000000000044,
            "bin_end": 5.599999999999994,
            "count": 44
           },
           {
            "bin_start": 5.599999999999994,
            "bin_end": 13.159999999999997,
            "count": 1
           },
           {
            "bin_start": 13.159999999999997,
            "bin_end": 20.71999999999999,
            "count": 0
           },
           {
            "bin_start": 20.71999999999999,
            "bin_end": 28.279999999999994,
            "count": 0
           },
           {
            "bin_start": 28.279999999999994,
            "bin_end": 35.83999999999999,
            "count": 0
           },
           {
            "bin_start": 35.83999999999999,
            "bin_end": 43.4,
            "count": 1
           }
          ]
         }
        },
        {
         "name": "FiveYearGDPGrowthRatePct",
         "dtype": "float64",
         "stats": {
          "unique_count": 77,
          "nan_count": 0,
          "min": "-23.5",
          "max": "12.1",
          "histogram": [
           {
            "bin_start": -23.5,
            "bin_end": -19.94,
            "count": 1
           },
           {
            "bin_start": -19.94,
            "bin_end": -16.38,
            "count": 0
           },
           {
            "bin_start": -16.38,
            "bin_end": -12.82,
            "count": 0
           },
           {
            "bin_start": -12.82,
            "bin_end": -9.26,
            "count": 0
           },
           {
            "bin_start": -9.26,
            "bin_end": -5.699999999999999,
            "count": 2
           },
           {
            "bin_start": -5.699999999999999,
            "bin_end": -2.1400000000000006,
            "count": 3
           },
           {
            "bin_start": -2.1400000000000006,
            "bin_end": 1.4200000000000017,
            "count": 65
           },
           {
            "bin_start": 1.4200000000000017,
            "bin_end": 4.98,
            "count": 62
           },
           {
            "bin_start": 4.98,
            "bin_end": 8.54,
            "count": 17
           },
           {
            "bin_start": 8.54,
            "bin_end": 12.1,
            "count": 1
           }
          ]
         }
        },
        {
         "name": "GDPperCapitaPPP",
         "dtype": "float64",
         "stats": {
          "unique_count": 151,
          "nan_count": 0,
          "min": "760.0",
          "max": "118002.0",
          "histogram": [
           {
            "bin_start": 760,
            "bin_end": 12484.2,
            "count": 68
           },
           {
            "bin_start": 12484.2,
            "bin_end": 24208.4,
            "count": 33
           },
           {
            "bin_start": 24208.4,
            "bin_end": 35932.600000000006,
            "count": 15
           },
           {
            "bin_start": 35932.600000000006,
            "bin_end": 47656.8,
            "count": 16
           },
           {
            "bin_start": 47656.8,
            "bin_end": 59381,
            "count": 12
           },
           {
            "bin_start": 59381,
            "bin_end": 71105.20000000001,
            "count": 2
           },
           {
            "bin_start": 71105.20000000001,
            "bin_end": 82829.40000000001,
            "count": 1
           },
           {
            "bin_start": 82829.40000000001,
            "bin_end": 94553.6,
            "count": 2
           },
           {
            "bin_start": 94553.6,
            "bin_end": 106277.8,
            "count": 1
           },
           {
            "bin_start": 106277.8,
            "bin_end": 118002,
            "count": 1
           }
          ]
         }
        },
        {
         "name": "UnemploymentPct",
         "dtype": "float64",
         "stats": {
          "unique_count": 93,
          "nan_count": 0,
          "min": "0.3",
          "max": "28.7",
          "histogram": [
           {
            "bin_start": 0.3,
            "bin_end": 3.1399999999999997,
            "count": 16
           },
           {
            "bin_start": 3.1399999999999997,
            "bin_end": 5.9799999999999995,
            "count": 53
           },
           {
            "bin_start": 5.9799999999999995,
            "bin_end": 8.82,
            "count": 38
           },
           {
            "bin_start": 8.82,
            "bin_end": 11.66,
            "count": 17
           },
           {
            "bin_start": 11.66,
            "bin_end": 14.5,
            "count": 8
           },
           {
            "bin_start": 14.5,
            "bin_end": 17.34,
            "count": 9
           },
           {
            "bin_start": 17.34,
            "bin_end": 20.18,
            "count": 4
           },
           {
            "bin_start": 20.18,
            "bin_end": 23.02,
            "count": 3
           },
           {
            "bin_start": 23.02,
            "bin_end": 25.86,
            "count": 2
           },
           {
            "bin_start": 25.86,
            "bin_end": 28.7,
            "count": 1
           }
          ]
         }
        },
        {
         "name": "InflationPct",
         "dtype": "float64",
         "stats": {
          "unique_count": 88,
          "nan_count": 0,
          "min": "-2.7",
          "max": "2355.1",
          "histogram": [
           {
            "bin_start": -2.7,
            "bin_end": 233.07999999999998,
            "count": 149
           },
           {
            "bin_start": 233.07999999999998,
            "bin_end": 468.85999999999996,
            "count": 0
           },
           {
            "bin_start": 468.85999999999996,
            "bin_end": 704.6399999999999,
            "count": 1
           },
           {
            "bin_start": 704.6399999999999,
            "bin_end": 940.4199999999998,
            "count": 0
           },
           {
            "bin_start": 940.4199999999998,
            "bin_end": 1176.1999999999998,
            "count": 0
           },
           {
            "bin_start": 1176.1999999999998,
            "bin_end": 1411.9799999999998,
            "count": 0
           },
           {
            "bin_start": 1411.9799999999998,
            "bin_end": 1647.7599999999998,
            "count": 0
           },
           {
            "bin_start": 1647.7599999999998,
            "bin_end": 1883.5399999999997,
            "count": 0
           },
           {
            "bin_start": 1883.5399999999997,
            "bin_end": 2119.3199999999997,
            "count": 0
           },
           {
            "bin_start": 2119.3199999999997,
            "bin_end": 2355.1,
            "count": 1
           }
          ]
         }
        },
        {
         "name": "FDIInflowMillions",
         "dtype": "float64",
         "stats": {
          "unique_count": 149,
          "nan_count": 0,
          "min": "-115300.0",
          "max": "156321.0",
          "histogram": [
           {
            "bin_start": -115300,
            "bin_end": -88137.9,
            "count": 1
           },
           {
            "bin_start": -88137.9,
            "bin_end": -60975.8,
            "count": 0
           },
           {
            "bin_start": -60975.8,
            "bin_end": -33813.70000000001,
            "count": 1
           },
           {
            "bin_start": -33813.70000000001,
            "bin_end": -6651.600000000006,
            "count": 1
           },
           {
            "bin_start": -6651.600000000006,
            "bin_end": 20510.5,
            "count": 136
           },
           {
            "bin_start": 20510.5,
            "bin_end": 47672.59999999998,
            "count": 7
           },
           {
            "bin_start": 47672.59999999998,
            "bin_end": 74834.69999999998,
            "count": 2
           },
           {
            "bin_start": 74834.69999999998,
            "bin_end": 101996.79999999999,
            "count": 1
           },
           {
            "bin_start": 101996.79999999999,
            "bin_end": 129158.9,
            "count": 0
           },
           {
            "bin_start": 129158.9,
            "bin_end": 156321,
            "count": 2
           }
          ]
         }
        },
        {
         "name": "PublicDebtPctofGDP",
         "dtype": "float64",
         "stats": {
          "unique_count": 138,
          "nan_count": 0,
          "min": "11.5",
          "max": "304.1",
          "histogram": [
           {
            "bin_start": 11.5,
            "bin_end": 40.760000000000005,
            "count": 29
           },
           {
            "bin_start": 40.760000000000005,
            "bin_end": 70.02000000000001,
            "count": 68
           },
           {
            "bin_start": 70.02000000000001,
            "bin_end": 99.28,
            "count": 26
           },
           {
            "bin_start": 99.28,
            "bin_end": 128.54000000000002,
            "count": 18
           },
           {
            "bin_start": 128.54000000000002,
            "bin_end": 157.8,
            "count": 5
           },
           {
            "bin_start": 157.8,
            "bin_end": 187.06,
            "count": 1
           },
           {
            "bin_start": 187.06,
            "bin_end": 216.32000000000002,
            "count": 1
           },
           {
            "bin_start": 216.32000000000002,
            "bin_end": 245.58,
            "count": 0
           },
           {
            "bin_start": 245.58,
            "bin_end": 274.84000000000003,
            "count": 2
           },
           {
            "bin_start": 274.84000000000003,
            "bin_end": 304.1,
            "count": 1
           }
          ]
         }
        },
        {
         "name": "LifeSatisfaction",
         "dtype": "float64",
         "stats": {
          "unique_count": 151,
          "nan_count": 0,
          "min": "3.16",
          "max": "7.889",
          "histogram": [
           {
            "bin_start": 3.16,
            "bin_end": 3.6329000000000002,
            "count": 7
           },
           {
            "bin_start": 3.6329000000000002,
            "bin_end": 4.1058,
            "count": 6
           },
           {
            "bin_start": 4.1058,
            "bin_end": 4.5786999999999995,
            "count": 18
           },
           {
            "bin_start": 4.5786999999999995,
            "bin_end": 5.0516000000000005,
            "count": 15
           },
           {
            "bin_start": 5.0516000000000005,
            "bin_end": 5.5245,
            "count": 30
           },
           {
            "bin_start": 5.5245,
            "bin_end": 5.9974,
            "count": 17
           },
           {
            "bin_start": 5.9974,
            "bin_end": 6.4703,
            "count": 31
           },
           {
            "bin_start": 6.4703,
            "bin_end": 6.9432,
            "count": 10
           },
           {
            "bin_start": 6.9432,
            "bin_end": 7.4161,
            "count": 12
           },
           {
            "bin_start": 7.4161,
            "bin_end": 7.889,
            "count": 5
           }
          ]
         }
        },
        {
         "name": "_deepnote_index_column",
         "dtype": "object"
        }
       ],
       "rows": [
        {
         "TwentyTwentyTwoScore": 66.6,
         "PropertyRights": 55.5,
         "JudicalEffectiveness": 49.8,
         "GovernmentIntegrity": 35.6,
         "TaxBurden": 89.1,
         "GovtSpending": 72.1,
         "FiscalHealth": 70.6,
         "BusinessFreedom": 70.7,
         "LaborFreedom": 51.1,
         "MonetaryFreedom": 82,
         "TradeFreedom": 82.6,
         "InvestmentFreedom": 70,
         "FinancialFreedom": 70,
         "TariffRatePct": 3.7,
         "IncomeTaxRatePct": 23,
         "CorporateTaxRatePct": 15,
         "TaxBurdenPctofGDP": 18.3,
         "GovtExpenditurePctofGDP": 30.5,
         "PopulationMillions": 2.8,
         "GDPBillionsPPP": 40.7,
         "GDPGrowthRatePct": -3.5,
         "FiveYearGDPGrowthRatePct": 2,
         "GDPperCapitaPPP": 14218,
         "UnemploymentPct": 11.7,
         "InflationPct": 1.6,
         "FDIInflowMillions": 1107,
         "PublicDebtPctofGDP": 76,
         "LifeSatisfaction": 5.365,
         "_deepnote_index_column": "Albania"
        },
        {
         "TwentyTwentyTwoScore": 45.8,
         "PropertyRights": 27.9,
         "JudicalEffectiveness": 29.7,
         "GovernmentIntegrity": 30.1,
         "TaxBurden": 67.2,
         "GovtSpending": 57.1,
         "FiscalHealth": 38.6,
         "BusinessFreedom": 50,
         "LaborFreedom": 51.5,
         "MonetaryFreedom": 80.1,
         "TradeFreedom": 57.4,
         "InvestmentFreedom": 30,
         "FinancialFreedom": 30,
         "TariffRatePct": 13.8,
         "IncomeTaxRatePct": 35,
         "CorporateTaxRatePct": 26,
         "TaxBurdenPctofGDP": 37.2,
         "GovtExpenditurePctofGDP": 37.8,
         "PopulationMillions": 43.9,
         "GDPBillionsPPP": 491.5,
         "GDPGrowthRatePct": -6,
         "FiveYearGDPGrowthRatePct": 0.1,
         "GDPperCapitaPPP": 11112,
         "UnemploymentPct": 12.8,
         "InflationPct": 2.4,
         "FDIInflowMillions": 1125,
         "PublicDebtPctofGDP": 53.1,
         "LifeSatisfaction": 4.745,
         "_deepnote_index_column": "Algeria"
        },
        {
         "TwentyTwentyTwoScore": 52.6,
         "PropertyRights": 39.8,
         "JudicalEffectiveness": 25.3,
         "GovernmentIntegrity": 20.6,
         "TaxBurden": 86.6,
         "GovtSpending": 86.4,
         "FiscalHealth": 80,
         "BusinessFreedom": 37.6,
         "LaborFreedom": 53.9,
         "MonetaryFreedom": 61.2,
         "TradeFreedom": 70,
         "InvestmentFreedom": 30,
         "FinancialFreedom": 40,
         "TariffRatePct": 7.5,
         "IncomeTaxRatePct": 25,
         "CorporateTaxRatePct": 25,
         "TaxBurdenPctofGDP": 9.4,
         "GovtExpenditurePctofGDP": 21.3,
         "PopulationMillions": 32.9,
         "GDPBillionsPPP": 215.1,
         "GDPGrowthRatePct": -4,
         "FiveYearGDPGrowthRatePct": -1.9,
         "GDPperCapitaPPP": 6932,
         "UnemploymentPct": 7.7,
         "InflationPct": 22.3,
         "FDIInflowMillions": -1866,
         "PublicDebtPctofGDP": 127.1,
         "LifeSatisfaction": 3.795,
         "_deepnote_index_column": "Angola"
        },
        {
         "TwentyTwentyTwoScore": 50.1,
         "PropertyRights": 35.1,
         "JudicalEffectiveness": 57.9,
         "GovernmentIntegrity": 45.1,
         "TaxBurden": 73.3,
         "GovtSpending": 53,
         "FiscalHealth": 16.8,
         "BusinessFreedom": 55.1,
         "LaborFreedom": 51,
         "MonetaryFreedom": 37.9,
         "TradeFreedom": 60.6,
         "InvestmentFreedom": 55,
         "FinancialFreedom": 60,
         "TariffRatePct": 12.2,
         "IncomeTaxRatePct": 35,
         "CorporateTaxRatePct": 25,
         "TaxBurdenPctofGDP": 28.6,
         "GovtExpenditurePctofGDP": 39.6,
         "PopulationMillions": 45.4,
         "GDPBillionsPPP": 941.8,
         "GDPGrowthRatePct": -10,
         "FiveYearGDPGrowthRatePct": -2.8,
         "GDPperCapitaPPP": 20751,
         "UnemploymentPct": 11.7,
         "InflationPct": 42,
         "FDIInflowMillions": 4123,
         "PublicDebtPctofGDP": 103,
         "LifeSatisfaction": 5.901,
         "_deepnote_index_column": "Argentina"
        },
        {
         "TwentyTwentyTwoScore": 65.3,
         "PropertyRights": 50.4,
         "JudicalEffectiveness": 33.1,
         "GovernmentIntegrity": 50.8,
         "TaxBurden": 86.9,
         "GovtSpending": 78.9,
         "FiscalHealth": 75.5,
         "BusinessFreedom": 64.9,
         "LaborFreedom": 47.2,
         "MonetaryFreedom": 77.5,
         "TradeFreedom": 73.6,
         "InvestmentFreedom": 75,
         "FinancialFreedom": 70,
         "TariffRatePct": 5.7,
         "IncomeTaxRatePct": 22,
         "CorporateTaxRatePct": 18,
         "TaxBurdenPctofGDP": 22.5,
         "GovtExpenditurePctofGDP": 26.5,
         "PopulationMillions": 3,
         "GDPBillionsPPP": 39.4,
         "GDPGrowthRatePct": -7.6,
         "FiveYearGDPGrowthRatePct": 2.6,
         "GDPperCapitaPPP": 13261,
         "UnemploymentPct": 20.2,
         "InflationPct": 1.2,
         "FDIInflowMillions": 117,
         "PublicDebtPctofGDP": 62.8,
         "LifeSatisfaction": 5.488,
         "_deepnote_index_column": "Armenia"
        },
        {
         "TwentyTwentyTwoScore": 77.7,
         "PropertyRights": 91.7,
         "JudicalEffectiveness": 95.2,
         "GovernmentIntegrity": 87,
         "TaxBurden": 62.5,
         "GovtSpending": 51.6,
         "FiscalHealth": 52,
         "BusinessFreedom": 84.6,
         "LaborFreedom": 64.2,
         "MonetaryFreedom": 83.2,
         "TradeFreedom": 90,
         "InvestmentFreedom": 80,
         "FinancialFreedom": 90,
         "TariffRatePct": 2.5,
         "IncomeTaxRatePct": 45,
         "CorporateTaxRatePct": 30,
         "TaxBurdenPctofGDP": 28.7,
         "GovtExpenditurePctofGDP": 40.2,
         "PopulationMillions": 25.7,
         "GDPBillionsPPP": 1329.9,
         "GDPGrowthRatePct": -2.4,
         "FiveYearGDPGrowthRatePct": 1.5,
         "GDPperCapitaPPP": 51680,
         "UnemploymentPct": 6.6,
         "InflationPct": 0.9,
         "FDIInflowMillions": 20146,
         "PublicDebtPctofGDP": 63.1,
         "LifeSatisfaction": 7.137,
         "_deepnote_index_column": "Australia"
        },
        {
         "TwentyTwentyTwoScore": 73.8,
         "PropertyRights": 98.4,
         "JudicalEffectiveness": 94.6,
         "GovernmentIntegrity": 82.9,
         "TaxBurden": 45.5,
         "GovtSpending": 20.3,
         "FiscalHealth": 71.7,
         "BusinessFreedom": 82.3,
         "LaborFreedom": 78.4,
         "MonetaryFreedom": 82.3,
         "TradeFreedom": 79.2,
         "InvestmentFreedom": 80,
         "FinancialFreedom": 70,
         "TariffRatePct": 2.9,
         "IncomeTaxRatePct": 55,
         "CorporateTaxRatePct": 25,
         "TaxBurdenPctofGDP": 42.4,
         "GovtExpenditurePctofGDP": 51.6,
         "PopulationMillions": 8.9,
         "GDPBillionsPPP": 491.5,
         "GDPGrowthRatePct": -6.6,
         "FiveYearGDPGrowthRatePct": 0.4,
         "GDPperCapitaPPP": 55218,
         "UnemploymentPct": 5.8,
         "InflationPct": 1.4,
         "FDIInflowMillions": -17340,
         "PublicDebtPctofGDP": 85.2,
         "LifeSatisfaction": 7.213,
         "_deepnote_index_column": "Austria"
        },
        {
         "TwentyTwentyTwoScore": 61.6,
         "PropertyRights": 53.6,
         "JudicalEffectiveness": 15.9,
         "GovernmentIntegrity": 28.6,
         "TaxBurden": 87.7,
         "GovtSpending": 62.7,
         "FiscalHealth": 99.1,
         "BusinessFreedom": 64.6,
         "LaborFreedom": 55.9,
         "MonetaryFreedom": 74.5,
         "TradeFreedom": 66.6,
         "InvestmentFreedom": 70,
         "FinancialFreedom": 60,
         "TariffRatePct": 9.2,
         "IncomeTaxRatePct": 25,
         "CorporateTaxRatePct": 20,
         "TaxBurdenPctofGDP": 14.3,
         "GovtExpenditurePctofGDP": 35.3,
         "PopulationMillions": 10.1,
         "GDPBillionsPPP": 145.8,
         "GDPGrowthRatePct": -4.3,
         "FiveYearGDPGrowthRatePct": -0.7,
         "GDPperCapitaPPP": 14431,
         "UnemploymentPct": 6.3,
         "InflationPct": 2.8,
         "FDIInflowMillions": 507,
         "PublicDebtPctofGDP": 21.4,
         "LifeSatisfaction": 5.173,
         "_deepnote_index_column": "Azerbaijan"
        },
        {
         "TwentyTwentyTwoScore": 62,
         "PropertyRights": 65.9,
         "JudicalEffectiveness": 27.4,
         "GovernmentIntegrity": 41.6,
         "TaxBurden": 99.9,
         "GovtSpending": 65.5,
         "FiscalHealth": 0,
         "BusinessFreedom": 60.2,
         "LaborFreedom": 54.9,
         "MonetaryFreedom": 81.1,
         "TradeFreedom": 83,
         "InvestmentFreedom": 85,
         "FinancialFreedom": 80,
         "TariffRatePct": 6,
         "IncomeTaxRatePct": 0,
         "CorporateTaxRatePct": 0,
         "TaxBurdenPctofGDP": 3,
         "GovtExpenditurePctofGDP": 33.9,
         "PopulationMillions": 1.7,
         "GDPBillionsPPP": 73.8,
         "GDPGrowthRatePct": -5.4,
         "FiveYearGDPGrowthRatePct": 1.2,
         "GDPperCapitaPPP": 48766,
         "UnemploymentPct": 4.1,
         "InflationPct": -2.3,
         "FDIInflowMillions": 1007,
         "PublicDebtPctofGDP": 132.9,
         "LifeSatisfaction": 6.173,
         "_deepnote_index_column": "Bahrain"
        },
        {
         "TwentyTwentyTwoScore": 52.7,
         "PropertyRights": 36.3,
         "JudicalEffectiveness": 28.1,
         "GovernmentIntegrity": 22.2,
         "TaxBurden": 82.6,
         "GovtSpending": 93.2,
         "FiscalHealth": 54,
         "BusinessFreedom": 55.6,
         "LaborFreedom": 36.6,
         "MonetaryFreedom": 70,
         "TradeFreedom": 63.8,
         "InvestmentFreedom": 50,
         "FinancialFreedom": 40,
         "TariffRatePct": 10.6,
         "IncomeTaxRatePct": 25,
         "CorporateTaxRatePct": 32.5,
         "TaxBurdenPctofGDP": 7.7,
         "GovtExpenditurePctofGDP": 15,
         "PopulationMillions": 164.7,
         "GDPBillionsPPP": 874,
         "GDPGrowthRatePct": 3.8,
         "FiveYearGDPGrowthRatePct": 6.8,
         "GDPperCapitaPPP": 5307,
         "UnemploymentPct": 5.3,
         "InflationPct": 5.6,
         "FDIInflowMillions": 2564,
         "PublicDebtPctofGDP": 38.9,
         "LifeSatisfaction": 5.28,
         "_deepnote_index_column": "Bangladesh"
        }
       ]
      },
      "text/plain": "              TwentyTwentyTwoScore  PropertyRights  JudicalEffectiveness  \\\nCountry Name                                                               \nAlbania                       66.6            55.5                  49.8   \nAlgeria                       45.8            27.9                  29.7   \nAngola                        52.6            39.8                  25.3   \nArgentina                     50.1            35.1                  57.9   \nArmenia                       65.3            50.4                  33.1   \n...                            ...             ...                   ...   \nUzbekistan                    55.7            31.6                  13.1   \nVenezuela                     24.8             0.2                   4.6   \nVietnam                       60.6            49.6                  33.8   \nZambia                        48.7            38.3                  45.2   \nZimbabwe                      33.1            20.8                  16.3   \n\n              GovernmentIntegrity  TaxBurden  GovtSpending  FiscalHealth  \\\nCountry Name                                                               \nAlbania                      35.6       89.1          72.1          70.6   \nAlgeria                      30.1       67.2          57.1          38.6   \nAngola                       20.6       86.6          86.4          80.0   \nArgentina                    45.1       73.3          53.0          16.8   \nArmenia                      50.8       86.9          78.9          75.5   \n...                           ...        ...           ...           ...   \nUzbekistan                   23.8       90.8          78.1          96.6   \nVenezuela                     7.1       74.1          78.3           0.0   \nVietnam                      33.6       80.9          85.5          78.8   \nZambia                       30.8       70.9          73.3           0.0   \nZimbabwe                     20.6       66.1          87.2          79.8   \n\n              BusinessFreedom  LaborFreedom  MonetaryFreedom  ...  \\\nCountry Name                                                  ...   \nAlbania                  70.7          51.1             82.0  ...   \nAlgeria                  50.0          51.5             80.1  ...   \nAngola                   37.6          53.9             61.2  ...   \nArgentina                55.1          51.0             37.9  ...   \nArmenia                  64.9          47.2             77.5  ...   \n...                       ...           ...              ...  ...   \nUzbekistan               59.1          48.0             61.6  ...   \nVenezuela                30.8          37.6              0.0  ...   \nVietnam                  73.6          53.9             68.8  ...   \nZambia                   44.2          41.9             66.4  ...   \nZimbabwe                 36.9          34.9              0.0  ...   \n\n              PopulationMillions  GDPBillionsPPP  GDPGrowthRatePct  \\\nCountry Name                                                         \nAlbania                      2.8            40.7              -3.5   \nAlgeria                     43.9           491.5              -6.0   \nAngola                      32.9           215.1              -4.0   \nArgentina                   45.4           941.8             -10.0   \nArmenia                      3.0            39.4              -7.6   \n...                          ...             ...               ...   \nUzbekistan                  34.2           252.6               1.6   \nVenezuela                   28.4           144.7             -30.0   \nVietnam                     97.3          1058.7               2.9   \nZambia                      18.4            63.1              -3.5   \nZimbabwe                    14.9            39.8              -8.0   \n\n              FiveYearGDPGrowthRatePct  GDPperCapitaPPP  UnemploymentPct  \\\nCountry Name                                                               \nAlbania                            2.0          14218.0             11.7   \nAlgeria                            0.1          11112.0             12.8   \nAngola                            -1.9           6932.0              7.7   \nArgentina                         -2.8          20751.0             11.7   \nArmenia                            2.6          13261.0             20.2   \n...                                ...              ...              ...   \nUzbekistan                         4.7           7449.0              6.0   \nVenezuela                        -23.5           5178.0              9.1   \nVietnam                            6.1          10869.0              2.3   \nZambia                             1.9           3342.0             12.2   \nZimbabwe                          -1.3           2622.0              5.7   \n\n              InflationPct  FDIInflowMillions  PublicDebtPctofGDP  \\\nCountry Name                                                        \nAlbania                1.6             1107.0                76.0   \nAlgeria                2.4             1125.0                53.1   \nAngola                22.3            -1866.0               127.1   \nArgentina             42.0             4123.0               103.0   \nArmenia                1.2              117.0                62.8   \n...                    ...                ...                 ...   \nUzbekistan            12.9             1726.0                37.9   \nVenezuela           2355.1              959.0               304.1   \nVietnam                3.2            15800.0                46.6   \nZambia                16.4              234.0               117.8   \nZimbabwe             557.2              194.0                88.9   \n\n              LifeSatisfaction  \nCountry Name                    \nAlbania                  5.365  \nAlgeria                  4.745  \nAngola                   3.795  \nArgentina                5.901  \nArmenia                  5.488  \n...                        ...  \nUzbekistan               6.154  \nVenezuela                4.574  \nVietnam                  5.467  \nZambia                   4.838  \nZimbabwe                 3.160  \n\n[151 rows x 28 columns]",
      "text/html": "<div>\n<style scoped>\n    .dataframe tbody tr th:only-of-type {\n        vertical-align: middle;\n    }\n\n    .dataframe tbody tr th {\n        vertical-align: top;\n    }\n\n    .dataframe thead th {\n        text-align: right;\n    }\n</style>\n<table border=\"1\" class=\"dataframe\">\n  <thead>\n    <tr style=\"text-align: right;\">\n      <th></th>\n      <th>TwentyTwentyTwoScore</th>\n      <th>PropertyRights</th>\n      <th>JudicalEffectiveness</th>\n      <th>GovernmentIntegrity</th>\n      <th>TaxBurden</th>\n      <th>GovtSpending</th>\n      <th>FiscalHealth</th>\n      <th>BusinessFreedom</th>\n      <th>LaborFreedom</th>\n      <th>MonetaryFreedom</th>\n      <th>...</th>\n      <th>PopulationMillions</th>\n      <th>GDPBillionsPPP</th>\n      <th>GDPGrowthRatePct</th>\n      <th>FiveYearGDPGrowthRatePct</th>\n      <th>GDPperCapitaPPP</th>\n      <th>UnemploymentPct</th>\n      <th>InflationPct</th>\n      <th>FDIInflowMillions</th>\n      <th>PublicDebtPctofGDP</th>\n      <th>LifeSatisfaction</th>\n    </tr>\n    <tr>\n      <th>Country Name</th>\n      <th></th>\n      <th></th>\n      <th></th>\n      <th></th>\n      <th></th>\n      <th></th>\n      <th></th>\n      <th></th>\n      <th></th>\n      <th></th>\n      <th></th>\n      <th></th>\n      <th></th>\n      <th></th>\n      <th></th>\n      <th></th>\n      <th></th>\n      <th></th>\n      <th></th>\n      <th></th>\n      <th></th>\n    </tr>\n  </thead>\n  <tbody>\n    <tr>\n      <th>Albania</th>\n      <td>66.6</td>\n      <td>55.5</td>\n      <td>49.8</td>\n      <td>35.6</td>\n      <td>89.1</td>\n      <td>72.1</td>\n      <td>70.6</td>\n      <td>70.7</td>\n      <td>51.1</td>\n      <td>82.0</td>\n      <td>...</td>\n      <td>2.8</td>\n      <td>40.7</td>\n      <td>-3.5</td>\n      <td>2.0</td>\n      <td>14218.0</td>\n      <td>11.7</td>\n      <td>1.6</td>\n      <td>1107.0</td>\n      <td>76.0</td>\n      <td>5.365</td>\n    </tr>\n    <tr>\n      <th>Algeria</th>\n      <td>45.8</td>\n      <td>27.9</td>\n      <td>29.7</td>\n      <td>30.1</td>\n      <td>67.2</td>\n      <td>57.1</td>\n      <td>38.6</td>\n      <td>50.0</td>\n      <td>51.5</td>\n      <td>80.1</td>\n      <td>...</td>\n      <td>43.9</td>\n      <td>491.5</td>\n      <td>-6.0</td>\n      <td>0.1</td>\n      <td>11112.0</td>\n      <td>12.8</td>\n      <td>2.4</td>\n      <td>1125.0</td>\n      <td>53.1</td>\n      <td>4.745</td>\n    </tr>\n    <tr>\n      <th>Angola</th>\n      <td>52.6</td>\n      <td>39.8</td>\n      <td>25.3</td>\n      <td>20.6</td>\n      <td>86.6</td>\n      <td>86.4</td>\n      <td>80.0</td>\n      <td>37.6</td>\n      <td>53.9</td>\n      <td>61.2</td>\n      <td>...</td>\n      <td>32.9</td>\n      <td>215.1</td>\n      <td>-4.0</td>\n      <td>-1.9</td>\n      <td>6932.0</td>\n      <td>7.7</td>\n      <td>22.3</td>\n      <td>-1866.0</td>\n      <td>127.1</td>\n      <td>3.795</td>\n    </tr>\n    <tr>\n      <th>Argentina</th>\n      <td>50.1</td>\n      <td>35.1</td>\n      <td>57.9</td>\n      <td>45.1</td>\n      <td>73.3</td>\n      <td>53.0</td>\n      <td>16.8</td>\n      <td>55.1</td>\n      <td>51.0</td>\n      <td>37.9</td>\n      <td>...</td>\n      <td>45.4</td>\n      <td>941.8</td>\n      <td>-10.0</td>\n      <td>-2.8</td>\n      <td>20751.0</td>\n      <td>11.7</td>\n      <td>42.0</td>\n      <td>4123.0</td>\n      <td>103.0</td>\n      <td>5.901</td>\n    </tr>\n    <tr>\n      <th>Armenia</th>\n      <td>65.3</td>\n      <td>50.4</td>\n      <td>33.1</td>\n      <td>50.8</td>\n      <td>86.9</td>\n      <td>78.9</td>\n      <td>75.5</td>\n      <td>64.9</td>\n      <td>47.2</td>\n      <td>77.5</td>\n      <td>...</td>\n      <td>3.0</td>\n      <td>39.4</td>\n      <td>-7.6</td>\n      <td>2.6</td>\n      <td>13261.0</td>\n      <td>20.2</td>\n      <td>1.2</td>\n      <td>117.0</td>\n      <td>62.8</td>\n      <td>5.488</td>\n    </tr>\n    <tr>\n      <th>...</th>\n      <td>...</td>\n      <td>...</td>\n      <td>...</td>\n      <td>...</td>\n      <td>...</td>\n      <td>...</td>\n      <td>...</td>\n      <td>...</td>\n      <td>...</td>\n      <td>...</td>\n      <td>...</td>\n      <td>...</td>\n      <td>...</td>\n      <td>...</td>\n      <td>...</td>\n      <td>...</td>\n      <td>...</td>\n      <td>...</td>\n      <td>...</td>\n      <td>...</td>\n      <td>...</td>\n    </tr>\n    <tr>\n      <th>Uzbekistan</th>\n      <td>55.7</td>\n      <td>31.6</td>\n      <td>13.1</td>\n      <td>23.8</td>\n      <td>90.8</td>\n      <td>78.1</td>\n      <td>96.6</td>\n      <td>59.1</td>\n      <td>48.0</td>\n      <td>61.6</td>\n      <td>...</td>\n      <td>34.2</td>\n      <td>252.6</td>\n      <td>1.6</td>\n      <td>4.7</td>\n      <td>7449.0</td>\n      <td>6.0</td>\n      <td>12.9</td>\n      <td>1726.0</td>\n      <td>37.9</td>\n      <td>6.154</td>\n    </tr>\n    <tr>\n      <th>Venezuela</th>\n      <td>24.8</td>\n      <td>0.2</td>\n      <td>4.6</td>\n      <td>7.1</td>\n      <td>74.1</td>\n      <td>78.3</td>\n      <td>0.0</td>\n      <td>30.8</td>\n      <td>37.6</td>\n      <td>0.0</td>\n      <td>...</td>\n      <td>28.4</td>\n      <td>144.7</td>\n      <td>-30.0</td>\n      <td>-23.5</td>\n      <td>5178.0</td>\n      <td>9.1</td>\n      <td>2355.1</td>\n      <td>959.0</td>\n      <td>304.1</td>\n      <td>4.574</td>\n    </tr>\n    <tr>\n      <th>Vietnam</th>\n      <td>60.6</td>\n      <td>49.6</td>\n      <td>33.8</td>\n      <td>33.6</td>\n      <td>80.9</td>\n      <td>85.5</td>\n      <td>78.8</td>\n      <td>73.6</td>\n      <td>53.9</td>\n      <td>68.8</td>\n      <td>...</td>\n      <td>97.3</td>\n      <td>1058.7</td>\n      <td>2.9</td>\n      <td>6.1</td>\n      <td>10869.0</td>\n      <td>2.3</td>\n      <td>3.2</td>\n      <td>15800.0</td>\n      <td>46.6</td>\n      <td>5.467</td>\n    </tr>\n    <tr>\n      <th>Zambia</th>\n      <td>48.7</td>\n      <td>38.3</td>\n      <td>45.2</td>\n      <td>30.8</td>\n      <td>70.9</td>\n      <td>73.3</td>\n      <td>0.0</td>\n      <td>44.2</td>\n      <td>41.9</td>\n      <td>66.4</td>\n      <td>...</td>\n      <td>18.4</td>\n      <td>63.1</td>\n      <td>-3.5</td>\n      <td>1.9</td>\n      <td>3342.0</td>\n      <td>12.2</td>\n      <td>16.4</td>\n      <td>234.0</td>\n      <td>117.8</td>\n      <td>4.838</td>\n    </tr>\n    <tr>\n      <th>Zimbabwe</th>\n      <td>33.1</td>\n      <td>20.8</td>\n      <td>16.3</td>\n      <td>20.6</td>\n      <td>66.1</td>\n      <td>87.2</td>\n      <td>79.8</td>\n      <td>36.9</td>\n      <td>34.9</td>\n      <td>0.0</td>\n      <td>...</td>\n      <td>14.9</td>\n      <td>39.8</td>\n      <td>-8.0</td>\n      <td>-1.3</td>\n      <td>2622.0</td>\n      <td>5.7</td>\n      <td>557.2</td>\n      <td>194.0</td>\n      <td>88.9</td>\n      <td>3.160</td>\n    </tr>\n  </tbody>\n</table>\n<p>151 rows × 28 columns</p>\n</div>"
     },
     "metadata": {}
    }
   ],
   "execution_count": null
  },
  {
   "cell_type": "markdown",
   "source": "As can be seen in the output, we successfully removed the columns we don't need and renamed the columns that needed to be renamed.",
   "metadata": {
    "cell_id": "2f00931d697c4ded8ca47877e16c487c",
    "tags": [],
    "deepnote_app_coordinates": {
     "x": 0,
     "y": 222,
     "w": 12,
     "h": 5
    },
    "deepnote_cell_type": "markdown",
    "deepnote_cell_height": 74.78125
   }
  },
  {
   "cell_type": "markdown",
   "source": "Now we will create a regression model using forward_selected. It returns a statsmodels.formula.api, so to see the results of the model we can print a summary of the model using .summary()",
   "metadata": {
    "cell_id": "d190531085de44698ca21dea377359b3",
    "tags": [],
    "deepnote_app_coordinates": {
     "x": 0,
     "y": 228,
     "w": 12,
     "h": 5
    },
    "deepnote_cell_type": "markdown",
    "deepnote_cell_height": 74.78125
   }
  },
  {
   "cell_type": "code",
   "metadata": {
    "cell_id": "0f3fc31a49ae4d7db0e097828b8d5b4d",
    "tags": [],
    "deepnote_to_be_reexecuted": false,
    "source_hash": "68874f4d",
    "execution_start": 1651266854361,
    "execution_millis": 4114,
    "deepnote_app_coordinates": {
     "x": 0,
     "y": 234,
     "w": 12,
     "h": 5
    },
    "deepnote_cell_type": "code",
    "deepnote_cell_height": 701
   },
   "source": "print(forward_selected(full_data_clean, 'LifeSatisfaction').summary())",
   "outputs": [
    {
     "name": "stdout",
     "text": "                            OLS Regression Results                            \n==============================================================================\nDep. Variable:       LifeSatisfaction   R-squared:                       0.784\nModel:                            OLS   Adj. R-squared:                  0.761\nMethod:                 Least Squares   F-statistic:                     32.76\nDate:                Fri, 29 Apr 2022   Prob (F-statistic):           1.28e-37\nTime:                        21:14:18   Log-Likelihood:                -105.62\nNo. Observations:                 151   AIC:                             243.2\nDf Residuals:                     135   BIC:                             291.5\nDf Model:                          15                                         \nCovariance Type:            nonrobust                                         \n============================================================================================\n                               coef    std err          t      P>|t|      [0.025      0.975]\n--------------------------------------------------------------------------------------------\nIntercept                    7.5784      1.392      5.444      0.000       4.825      10.332\nBusinessFreedom              0.0363      0.006      5.854      0.000       0.024       0.049\nGDPperCapitaPPP           1.092e-05   3.46e-06      3.158      0.002    4.08e-06    1.78e-05\nTariffRatePct               -0.0074      0.018     -0.408      0.684      -0.043       0.029\nTaxBurdenPctofGDP            0.0007      0.009      0.079      0.937      -0.017       0.018\nUnemploymentPct             -0.0354      0.009     -3.844      0.000      -0.054      -0.017\nIncomeTaxRatePct            -0.0394      0.010     -4.029      0.000      -0.059      -0.020\nTaxBurden                   -0.0422      0.013     -3.262      0.001      -0.068      -0.017\nFiveYearGDPGrowthRatePct    -0.0655      0.029     -2.279      0.024      -0.122      -0.009\nPropertyRights              -0.0147      0.005     -2.847      0.005      -0.025      -0.004\nJudicalEffectiveness         0.0080      0.004      1.968      0.051   -4.07e-05       0.016\nPopulationMillions          -0.0008      0.000     -1.796      0.075      -0.002    8.27e-05\nGDPBillionsPPP            3.906e-05    2.7e-05      1.448      0.150   -1.43e-05    9.24e-05\nInflationPct                -0.0005      0.000     -1.424      0.157      -0.001       0.000\nGDPGrowthRatePct             0.0147      0.011      1.359      0.176      -0.007       0.036\nTradeFreedom                 0.0128      0.012      1.071      0.286      -0.011       0.036\n==============================================================================\nOmnibus:                        0.118   Durbin-Watson:                   1.914\nProb(Omnibus):                  0.943   Jarque-Bera (JB):                0.030\nSkew:                           0.034   Prob(JB):                        0.985\nKurtosis:                       3.008   Cond. No.                     1.02e+06\n==============================================================================\n\nNotes:\n[1] Standard Errors assume that the covariance matrix of the errors is correctly specified.\n[2] The condition number is large, 1.02e+06. This might indicate that there are\nstrong multicollinearity or other numerical problems.\n",
     "output_type": "stream"
    }
   ],
   "execution_count": null
  },
  {
   "cell_type": "markdown",
   "source": "Even with stepwise regression, we have too many variables involved. We are having issues with multicollinearity, and some of our coefficients don't make sense. For example, PropertyRights should not have a negative coefficient, as we found earlier that out of all of our variables, PropertyRights has the 4th most positive correlation with life satisfaction.",
   "metadata": {
    "cell_id": "d439eedafda24ffe88e8b3c8f844b5f7",
    "tags": [],
    "deepnote_app_coordinates": {
     "x": 0,
     "y": 240,
     "w": 12,
     "h": 5
    },
    "deepnote_cell_type": "markdown",
    "deepnote_cell_height": 97.171875
   }
  },
  {
   "cell_type": "markdown",
   "source": "### Trim #1",
   "metadata": {
    "cell_id": "d2cd3b8f4bf043119f56ab656f2b9a73",
    "tags": [],
    "deepnote_app_coordinates": {
     "x": 0,
     "y": 246,
     "w": 12,
     "h": 5
    },
    "deepnote_cell_type": "markdown",
    "deepnote_cell_height": 62
   }
  },
  {
   "cell_type": "markdown",
   "source": "To improve our model, we will remove every variables from the dataframe that had a p-value greater than 0.05. These variables are not statistically significant in predicting life satisfaction. Using the remaining set of variables, we will generate futher fine-tuned regression models. We learned to create regession models using the statsmodel package from this article: https://datatofish.com/statsmodels-linear-regression/",
   "metadata": {
    "cell_id": "99b8640fc5694ace9265e495b2ed4d9d",
    "tags": [],
    "deepnote_app_coordinates": {
     "x": 0,
     "y": 252,
     "w": 12,
     "h": 5
    },
    "deepnote_cell_type": "markdown",
    "deepnote_cell_height": 119.5625
   }
  },
  {
   "cell_type": "code",
   "metadata": {
    "cell_id": "6f3e62fb158f4f3c8b9ece68232549f2",
    "tags": [],
    "deepnote_to_be_reexecuted": false,
    "source_hash": "bc22ed24",
    "execution_start": 1651266858424,
    "execution_millis": 60,
    "deepnote_app_coordinates": {
     "x": 0,
     "y": 258,
     "w": 12,
     "h": 5
    },
    "deepnote_cell_type": "code",
    "deepnote_cell_height": 971
   },
   "source": "# Drop columns that still had p-values greater than 0.05\nfull_data_clean_trimmed = full_data_clean.drop(['TariffRatePct', 'TaxBurdenPctofGDP', 'JudicalEffectiveness', 'PopulationMillions', 'GDPBillionsPPP', 'InflationPct', 'GDPGrowthRatePct', 'TradeFreedom'], axis = 1)\n\nregression_columns = full_data_clean_trimmed.columns[:-1] #The final column is Life Satisfaction, our response variable\nX = full_data_clean_trimmed[regression_columns]\nY = full_data_clean_trimmed['LifeSatisfaction']\n\n# with statsmodels\nX = sm.add_constant(X) # adding a constant\n \nmodel = sm.OLS(Y, X).fit()\npredictions = model.predict(X)\n \nprint_model = model.summary()\nprint(print_model)\n",
   "outputs": [
    {
     "name": "stdout",
     "text": "                            OLS Regression Results                            \n==============================================================================\nDep. Variable:       LifeSatisfaction   R-squared:                       0.772\nModel:                            OLS   Adj. R-squared:                  0.739\nMethod:                 Least Squares   F-statistic:                     23.38\nDate:                Fri, 29 Apr 2022   Prob (F-statistic):           3.88e-33\nTime:                        21:14:18   Log-Likelihood:                -109.77\nNo. Observations:                 151   AIC:                             259.5\nDf Residuals:                     131   BIC:                             319.9\nDf Model:                          19                                         \nCovariance Type:            nonrobust                                         \n============================================================================================\n                               coef    std err          t      P>|t|      [0.025      0.975]\n--------------------------------------------------------------------------------------------\nconst                        6.9333      2.046      3.389      0.001       2.886      10.980\nTwentyTwentyTwoScore         0.1382      0.043      3.204      0.002       0.053       0.223\nPropertyRights              -0.0293      0.008     -3.672      0.000      -0.045      -0.014\nGovernmentIntegrity         -0.0102      0.007     -1.384      0.169      -0.025       0.004\nTaxBurden                   -0.0513      0.015     -3.515      0.001      -0.080      -0.022\nGovtSpending                -0.0113      0.013     -0.897      0.371      -0.036       0.014\nFiscalHealth                -0.0100      0.004     -2.581      0.011      -0.018      -0.002\nBusinessFreedom              0.0238      0.008      2.885      0.005       0.007       0.040\nLaborFreedom                -0.0155      0.009     -1.777      0.078      -0.033       0.002\nMonetaryFreedom             -0.0081      0.007     -1.219      0.225      -0.021       0.005\nInvestmentFreedom           -0.0075      0.006     -1.306      0.194      -0.019       0.004\nFinancialFreedom            -0.0154      0.006     -2.370      0.019      -0.028      -0.003\nIncomeTaxRatePct            -0.0395      0.010     -3.778      0.000      -0.060      -0.019\nCorporateTaxRatePct          0.0002      0.010      0.020      0.984      -0.019       0.019\nGovtExpenditurePctofGDP      0.0018      0.026      0.071      0.944      -0.049       0.053\nFiveYearGDPGrowthRatePct    -0.0312      0.019     -1.651      0.101      -0.068       0.006\nGDPperCapitaPPP           1.313e-05   4.19e-06      3.132      0.002    4.84e-06    2.14e-05\nUnemploymentPct             -0.0301      0.010     -3.105      0.002      -0.049      -0.011\nFDIInflowMillions         2.867e-08   2.23e-06      0.013      0.990   -4.38e-06    4.44e-06\nPublicDebtPctofGDP           0.0004      0.001      0.310      0.757      -0.002       0.003\n==============================================================================\nOmnibus:                        0.260   Durbin-Watson:                   1.939\nProb(Omnibus):                  0.878   Jarque-Bera (JB):                0.058\nSkew:                           0.014   Prob(JB):                        0.972\nKurtosis:                       3.092   Cond. No.                     1.53e+06\n==============================================================================\n\nNotes:\n[1] Standard Errors assume that the covariance matrix of the errors is correctly specified.\n[2] The condition number is large, 1.53e+06. This might indicate that there are\nstrong multicollinearity or other numerical problems.\n",
     "output_type": "stream"
    }
   ],
   "execution_count": null
  },
  {
   "cell_type": "markdown",
   "source": "This new model still isn't great. There are too many variables with high p-values, and we still have coefficients that don't make much sense (e.g., Property Rights is still negative.)",
   "metadata": {
    "cell_id": "69e8df41b74c465d9864329732dd7452",
    "tags": [],
    "deepnote_app_coordinates": {
     "x": 0,
     "y": 264,
     "w": 12,
     "h": 5
    },
    "deepnote_cell_type": "markdown",
    "deepnote_cell_height": 74.78125
   }
  },
  {
   "cell_type": "markdown",
   "source": "### Trim #2",
   "metadata": {
    "cell_id": "026a18d0d5cb4621a6ebd69f00095e21",
    "tags": [],
    "deepnote_app_coordinates": {
     "x": 0,
     "y": 270,
     "w": 12,
     "h": 5
    },
    "deepnote_cell_type": "markdown",
    "deepnote_cell_height": 62
   }
  },
  {
   "cell_type": "markdown",
   "source": "This time, let's remove `GovernmentIntegrity`, `GovtSpending`, `LaborFreedom`, `MonetaryFreedom`, `InvestmentFreedom`, `CorporateTaxPct`, `GovtExpenditurePctofGDP`, `FiveYearGDPGrowthRatePct`, `FDIInflowMillions`, and `PublicDeptPctofGDP`. All of these variables have high p-values.",
   "metadata": {
    "cell_id": "c38a1fe94d4c4bb5bec15d77f47dadae",
    "tags": [],
    "deepnote_app_coordinates": {
     "x": 0,
     "y": 276,
     "w": 12,
     "h": 5
    },
    "deepnote_cell_type": "markdown",
    "deepnote_cell_height": 97.171875
   }
  },
  {
   "cell_type": "code",
   "metadata": {
    "cell_id": "46e035fd210e49908da16c5e5d0c9485",
    "tags": [],
    "deepnote_to_be_reexecuted": false,
    "source_hash": "4167d4b5",
    "execution_start": 1651266858471,
    "execution_millis": 3,
    "deepnote_app_coordinates": {
     "x": 0,
     "y": 282,
     "w": 12,
     "h": 5
    },
    "deepnote_cell_type": "code",
    "deepnote_cell_height": 953
   },
   "source": "# Drop columns that still had p-values greater than 0.05\nfull_data_clean_trimmed = full_data_clean_trimmed.drop(['GovernmentIntegrity', 'GovtSpending','LaborFreedom','MonetaryFreedom','InvestmentFreedom','CorporateTaxRatePct', 'GovtExpenditurePctofGDP', 'FiveYearGDPGrowthRatePct','FDIInflowMillions','PublicDebtPctofGDP'], axis = 1)\n\nregression_columns = full_data_clean_trimmed.columns[:-1] #The final column is Life Satisfaction, our response variable\nX = full_data_clean_trimmed[regression_columns]\nY = full_data_clean_trimmed['LifeSatisfaction']\n\n# with statsmodels\nX = sm.add_constant(X) # adding a constant\n \nmodel = sm.OLS(Y, X).fit()\npredictions = model.predict(X)\n \nprint_model = model.summary()\nprint(print_model)",
   "outputs": [
    {
     "name": "stdout",
     "text": "                            OLS Regression Results                            \n==============================================================================\nDep. Variable:       LifeSatisfaction   R-squared:                       0.746\nModel:                            OLS   Adj. R-squared:                  0.730\nMethod:                 Least Squares   F-statistic:                     46.13\nDate:                Fri, 29 Apr 2022   Prob (F-statistic):           9.96e-38\nTime:                        21:14:18   Log-Likelihood:                -117.88\nNo. Observations:                 151   AIC:                             255.8\nDf Residuals:                     141   BIC:                             285.9\nDf Model:                           9                                         \nCovariance Type:            nonrobust                                         \n========================================================================================\n                           coef    std err          t      P>|t|      [0.025      0.975]\n----------------------------------------------------------------------------------------\nconst                    7.9000      1.071      7.373      0.000       5.782      10.018\nTwentyTwentyTwoScore     0.0322      0.018      1.819      0.071      -0.003       0.067\nPropertyRights          -0.0135      0.006     -2.275      0.024      -0.025      -0.002\nTaxBurden               -0.0526      0.010     -5.109      0.000      -0.073      -0.032\nFiscalHealth            -0.0027      0.002     -1.200      0.232      -0.007       0.002\nBusinessFreedom          0.0344      0.006      5.584      0.000       0.022       0.047\nFinancialFreedom        -0.0036      0.005     -0.685      0.495      -0.014       0.007\nIncomeTaxRatePct        -0.0463      0.009     -5.181      0.000      -0.064      -0.029\nGDPperCapitaPPP       1.503e-05    3.4e-06      4.421      0.000    8.31e-06    2.17e-05\nUnemploymentPct         -0.0218      0.009     -2.364      0.019      -0.040      -0.004\n==============================================================================\nOmnibus:                        0.521   Durbin-Watson:                   1.931\nProb(Omnibus):                  0.771   Jarque-Bera (JB):                0.226\nSkew:                          -0.047   Prob(JB):                        0.893\nKurtosis:                       3.164   Cond. No.                     7.43e+05\n==============================================================================\n\nNotes:\n[1] Standard Errors assume that the covariance matrix of the errors is correctly specified.\n[2] The condition number is large, 7.43e+05. This might indicate that there are\nstrong multicollinearity or other numerical problems.\n",
     "output_type": "stream"
    }
   ],
   "execution_count": null
  },
  {
   "cell_type": "markdown",
   "source": "Our model is getting much better, but it's still not perfect. We still have variables with p-values over 0.05.",
   "metadata": {
    "cell_id": "a0df9fd7ade74c68917a0c4791070431",
    "tags": [],
    "deepnote_app_coordinates": {
     "x": 0,
     "y": 288,
     "w": 12,
     "h": 5
    },
    "deepnote_cell_type": "markdown",
    "deepnote_cell_height": 52.390625
   }
  },
  {
   "cell_type": "markdown",
   "source": "### Trim #3",
   "metadata": {
    "cell_id": "e176039c72014053a8925cbb466e7871",
    "tags": [],
    "deepnote_app_coordinates": {
     "x": 0,
     "y": 294,
     "w": 12,
     "h": 5
    },
    "deepnote_cell_type": "markdown",
    "deepnote_cell_height": 62
   }
  },
  {
   "cell_type": "markdown",
   "source": "Let's drop `TwentyTwentyTwoScore`, `FiscalHealth`, and `FinancialFreedom` and see how our new model will look.",
   "metadata": {
    "cell_id": "c873719dc65d44c4bb6dd0ec4f51d326",
    "tags": [],
    "deepnote_app_coordinates": {
     "x": 0,
     "y": 300,
     "w": 12,
     "h": 5
    },
    "deepnote_cell_type": "markdown",
    "deepnote_cell_height": 52.390625
   }
  },
  {
   "cell_type": "code",
   "metadata": {
    "cell_id": "0c35b9973295452e936c2f3cf5a46bd0",
    "tags": [],
    "deepnote_to_be_reexecuted": false,
    "source_hash": "62d6a8",
    "execution_start": 1651266858483,
    "execution_millis": 35,
    "deepnote_app_coordinates": {
     "x": 0,
     "y": 306,
     "w": 12,
     "h": 5
    },
    "deepnote_cell_type": "code",
    "deepnote_cell_height": 989
   },
   "source": "# Drop columns that still had p-values greater than 0.05\nfull_data_clean_trimmed = full_data_clean_trimmed.drop(['TwentyTwentyTwoScore','FiscalHealth','FinancialFreedom'], axis = 1)\n\nregression_columns = full_data_clean_trimmed.columns[:-1] #The final column is Life Satisfaction, our response variable\nX = full_data_clean_trimmed[regression_columns]\nY = full_data_clean_trimmed['LifeSatisfaction']\n\n# with statsmodels\nX = sm.add_constant(X) # adding a constant\n \nmodel = sm.OLS(Y, X).fit()\npredictions = model.predict(X)\n \nprint_model = model.summary()\ncoefficients = model.params[1:]\nprint(print_model)\nprint(coefficients)",
   "outputs": [
    {
     "name": "stdout",
     "text": "                            OLS Regression Results                            \n==============================================================================\nDep. Variable:       LifeSatisfaction   R-squared:                       0.740\nModel:                            OLS   Adj. R-squared:                  0.729\nMethod:                 Least Squares   F-statistic:                     68.19\nDate:                Fri, 29 Apr 2022   Prob (F-statistic):           1.24e-39\nTime:                        21:14:18   Log-Likelihood:                -119.88\nNo. Observations:                 151   AIC:                             253.8\nDf Residuals:                     144   BIC:                             274.9\nDf Model:                           6                                         \nCovariance Type:            nonrobust                                         \n====================================================================================\n                       coef    std err          t      P>|t|      [0.025      0.975]\n------------------------------------------------------------------------------------\nconst                8.1426      1.065      7.649      0.000       6.038      10.247\nPropertyRights      -0.0054      0.004     -1.333      0.185      -0.013       0.003\nTaxBurden           -0.0464      0.010     -4.734      0.000      -0.066      -0.027\nBusinessFreedom      0.0394      0.006      7.166      0.000       0.029       0.050\nIncomeTaxRatePct    -0.0424      0.009     -4.865      0.000      -0.060      -0.025\nGDPperCapitaPPP   1.503e-05   3.37e-06      4.464      0.000    8.37e-06    2.17e-05\nUnemploymentPct     -0.0210      0.009     -2.372      0.019      -0.038      -0.003\n==============================================================================\nOmnibus:                        0.415   Durbin-Watson:                   1.918\nProb(Omnibus):                  0.813   Jarque-Bera (JB):                0.155\nSkew:                          -0.040   Prob(JB):                        0.925\nKurtosis:                       3.135   Cond. No.                     7.36e+05\n==============================================================================\n\nNotes:\n[1] Standard Errors assume that the covariance matrix of the errors is correctly specified.\n[2] The condition number is large, 7.36e+05. This might indicate that there are\nstrong multicollinearity or other numerical problems.\nPropertyRights     -0.005393\nTaxBurden          -0.046410\nBusinessFreedom     0.039422\nIncomeTaxRatePct   -0.042446\nGDPperCapitaPPP     0.000015\nUnemploymentPct    -0.020957\ndtype: float64\n",
     "output_type": "stream"
    }
   ],
   "execution_count": null
  },
  {
   "cell_type": "markdown",
   "source": "Our model is looking much better. It shouldn't need much more trimming. Maybe it could use one more trim.",
   "metadata": {
    "cell_id": "85de7324edaa4aa98fcfbb0d0484a29a",
    "tags": [],
    "deepnote_app_coordinates": {
     "x": 0,
     "y": 312,
     "w": 12,
     "h": 5
    },
    "deepnote_cell_type": "markdown",
    "deepnote_cell_height": 52.390625
   }
  },
  {
   "cell_type": "markdown",
   "source": "### Trim #4",
   "metadata": {
    "cell_id": "969a50dd561d41e5a01990f0f7898cf9",
    "tags": [],
    "deepnote_app_coordinates": {
     "x": 0,
     "y": 318,
     "w": 12,
     "h": 5
    },
    "deepnote_cell_type": "markdown",
    "deepnote_cell_height": 62
   }
  },
  {
   "cell_type": "markdown",
   "source": "`PropertyRights` is the only variable with a high p-value this time. Interestingly, its coefficient is still negative. Let's drop it.",
   "metadata": {
    "cell_id": "f03e8431de874472a5f96245fcb18522",
    "tags": [],
    "deepnote_app_coordinates": {
     "x": 0,
     "y": 324,
     "w": 12,
     "h": 5
    },
    "deepnote_cell_type": "markdown",
    "deepnote_cell_height": 52.390625
   }
  },
  {
   "cell_type": "code",
   "metadata": {
    "cell_id": "bdc4cd8922524bd79129229d39291bd1",
    "tags": [],
    "deepnote_to_be_reexecuted": false,
    "source_hash": "5ad9aa30",
    "execution_start": 1651266858513,
    "execution_millis": 0,
    "deepnote_app_coordinates": {
     "x": 0,
     "y": 330,
     "w": 12,
     "h": 5
    },
    "deepnote_cell_type": "code",
    "deepnote_cell_height": 989
   },
   "source": "# Drop columns that still had p-values greater than 0.05\nfull_data_clean_trimmed = full_data_clean_trimmed.drop(['PropertyRights'], axis = 1)\n\nregression_columns = full_data_clean_trimmed.columns[:-1] #The final column is Life Satisfaction, our response variable\nX = full_data_clean_trimmed[regression_columns]\nY = full_data_clean_trimmed['LifeSatisfaction']\n\n# with statsmodels\nX = sm.add_constant(X) # adding a constant\n \nmodel = sm.OLS(Y, X).fit()\npredictions = model.predict(X)\n \nprint_model = model.summary()\ncoefficients = model.params\nprint(print_model)\nprint(coefficients) #Our final coefficients",
   "outputs": [
    {
     "name": "stdout",
     "text": "                            OLS Regression Results                            \n==============================================================================\nDep. Variable:       LifeSatisfaction   R-squared:                       0.736\nModel:                            OLS   Adj. R-squared:                  0.727\nMethod:                 Least Squares   F-statistic:                     81.04\nDate:                Fri, 29 Apr 2022   Prob (F-statistic):           3.12e-40\nTime:                        21:14:18   Log-Likelihood:                -120.80\nNo. Observations:                 151   AIC:                             253.6\nDf Residuals:                     145   BIC:                             271.7\nDf Model:                           5                                         \nCovariance Type:            nonrobust                                         \n====================================================================================\n                       coef    std err          t      P>|t|      [0.025      0.975]\n------------------------------------------------------------------------------------\nconst                8.0208      1.063      7.542      0.000       5.919      10.123\nTaxBurden           -0.0445      0.010     -4.579      0.000      -0.064      -0.025\nBusinessFreedom      0.0345      0.004      8.411      0.000       0.026       0.043\nIncomeTaxRatePct    -0.0420      0.009     -4.801      0.000      -0.059      -0.025\nGDPperCapitaPPP   1.325e-05    3.1e-06      4.275      0.000    7.13e-06    1.94e-05\nUnemploymentPct     -0.0208      0.009     -2.345      0.020      -0.038      -0.003\n==============================================================================\nOmnibus:                        1.479   Durbin-Watson:                   1.935\nProb(Omnibus):                  0.477   Jarque-Bera (JB):                1.057\nSkew:                          -0.154   Prob(JB):                        0.590\nKurtosis:                       3.269   Cond. No.                     7.33e+05\n==============================================================================\n\nNotes:\n[1] Standard Errors assume that the covariance matrix of the errors is correctly specified.\n[2] The condition number is large, 7.33e+05. This might indicate that there are\nstrong multicollinearity or other numerical problems.\nconst               8.020769\nTaxBurden          -0.044547\nBusinessFreedom     0.034522\nIncomeTaxRatePct   -0.041962\nGDPperCapitaPPP     0.000013\nUnemploymentPct    -0.020772\ndtype: float64\n",
     "output_type": "stream"
    }
   ],
   "execution_count": null
  },
  {
   "cell_type": "markdown",
   "source": "Our final model looks quite good! All of the p-values are very low! Our final coefficients are -0.0445 for `TaxBurdern`, 0.0345 for `BusinessFreedom`, -0.0420 for `IncomeTaxRatePct`, 0.00001325 for `GDPperCapitaPPP`, and -0.0208 for `UnemploymentPct`. Our coefficient of determination (R-squared) is decently high (0.736). \n\nThe condition number indicates that we might still have problems with multicollinearity, but this is not something we can easily avoid with economic variables. Many economic variables are necessairly correlated. For the purposes of this project, we will ignore the multicollinearity. However, a more in-depth analysis of the data would require that the multicollinearity be addressed accounted for.",
   "metadata": {
    "cell_id": "ff967d91128c4c0d83ba719a3efe91fd",
    "tags": [],
    "deepnote_app_coordinates": {
     "x": 0,
     "y": 336,
     "w": 12,
     "h": 5
    },
    "deepnote_cell_type": "markdown",
    "deepnote_cell_height": 200.734375
   }
  },
  {
   "cell_type": "markdown",
   "source": "To test the accuracy of our model, lets predict life satisfaction for each country and compare our predicted values with the known life satisfaction values for each country. We can begin taking a subset of our dataset where we have only the country name, the 5 variables for our model, and life satisfaction.",
   "metadata": {
    "cell_id": "22a69dfcbda64f3da37ab3af02aee507",
    "tags": [],
    "deepnote_app_coordinates": {
     "x": 0,
     "y": 342,
     "w": 12,
     "h": 5
    },
    "deepnote_cell_type": "markdown",
    "deepnote_cell_height": 97.171875
   }
  },
  {
   "cell_type": "code",
   "metadata": {
    "cell_id": "e55ce18bc3dc4bb996cd87a9a13fcf8e",
    "tags": [],
    "deepnote_to_be_reexecuted": false,
    "source_hash": "3f5339fd",
    "execution_start": 1651266858521,
    "execution_millis": 31,
    "deepnote_app_coordinates": {
     "x": 0,
     "y": 348,
     "w": 12,
     "h": 5
    },
    "deepnote_cell_type": "code",
    "deepnote_cell_height": 600
   },
   "source": "full_data_clean_trimmed",
   "outputs": [
    {
     "output_type": "execute_result",
     "execution_count": 17,
     "data": {
      "application/vnd.deepnote.dataframe.v3+json": {
       "column_count": 6,
       "row_count": 151,
       "columns": [
        {
         "name": "TaxBurden",
         "dtype": "float64",
         "stats": {
          "unique_count": 130,
          "nan_count": 0,
          "min": "42.3",
          "max": "100.0",
          "histogram": [
           {
            "bin_start": 42.3,
            "bin_end": 48.07,
            "count": 4
           },
           {
            "bin_start": 48.07,
            "bin_end": 53.839999999999996,
            "count": 3
           },
           {
            "bin_start": 53.839999999999996,
            "bin_end": 59.61,
            "count": 3
           },
           {
            "bin_start": 59.61,
            "bin_end": 65.38,
            "count": 11
           },
           {
            "bin_start": 65.38,
            "bin_end": 71.15,
            "count": 17
           },
           {
            "bin_start": 71.15,
            "bin_end": 76.92,
            "count": 25
           },
           {
            "bin_start": 76.92,
            "bin_end": 82.69,
            "count": 34
           },
           {
            "bin_start": 82.69,
            "bin_end": 88.46000000000001,
            "count": 22
           },
           {
            "bin_start": 88.46000000000001,
            "bin_end": 94.23,
            "count": 20
           },
           {
            "bin_start": 94.23,
            "bin_end": 100,
            "count": 12
           }
          ]
         }
        },
        {
         "name": "BusinessFreedom",
         "dtype": "float64",
         "stats": {
          "unique_count": 133,
          "nan_count": 0,
          "min": "25.0",
          "max": "91.4",
          "histogram": [
           {
            "bin_start": 25,
            "bin_end": 31.64,
            "count": 7
           },
           {
            "bin_start": 31.64,
            "bin_end": 38.28,
            "count": 11
           },
           {
            "bin_start": 38.28,
            "bin_end": 44.92,
            "count": 8
           },
           {
            "bin_start": 44.92,
            "bin_end": 51.56,
            "count": 14
           },
           {
            "bin_start": 51.56,
            "bin_end": 58.2,
            "count": 20
           },
           {
            "bin_start": 58.2,
            "bin_end": 64.84,
            "count": 26
           },
           {
            "bin_start": 64.84,
            "bin_end": 71.48,
            "count": 20
           },
           {
            "bin_start": 71.48,
            "bin_end": 78.12,
            "count": 17
           },
           {
            "bin_start": 78.12,
            "bin_end": 84.76,
            "count": 17
           },
           {
            "bin_start": 84.76,
            "bin_end": 91.4,
            "count": 11
           }
          ]
         }
        },
        {
         "name": "IncomeTaxRatePct",
         "dtype": "float64",
         "stats": {
          "unique_count": 50,
          "nan_count": 0,
          "min": "0.0",
          "max": "60.0",
          "histogram": [
           {
            "bin_start": 0,
            "bin_end": 6,
            "count": 7
           },
           {
            "bin_start": 6,
            "bin_end": 12,
            "count": 12
           },
           {
            "bin_start": 12,
            "bin_end": 18,
            "count": 9
           },
           {
            "bin_start": 18,
            "bin_end": 24,
            "count": 13
           },
           {
            "bin_start": 24,
            "bin_end": 30,
            "count": 19
           },
           {
            "bin_start": 30,
            "bin_end": 36,
            "count": 47
           },
           {
            "bin_start": 36,
            "bin_end": 42,
            "count": 19
           },
           {
            "bin_start": 42,
            "bin_end": 48,
            "count": 13
           },
           {
            "bin_start": 48,
            "bin_end": 54,
            "count": 8
           },
           {
            "bin_start": 54,
            "bin_end": 60,
            "count": 4
           }
          ]
         }
        },
        {
         "name": "GDPperCapitaPPP",
         "dtype": "float64",
         "stats": {
          "unique_count": 151,
          "nan_count": 0,
          "min": "760.0",
          "max": "118002.0",
          "histogram": [
           {
            "bin_start": 760,
            "bin_end": 12484.2,
            "count": 68
           },
           {
            "bin_start": 12484.2,
            "bin_end": 24208.4,
            "count": 33
           },
           {
            "bin_start": 24208.4,
            "bin_end": 35932.600000000006,
            "count": 15
           },
           {
            "bin_start": 35932.600000000006,
            "bin_end": 47656.8,
            "count": 16
           },
           {
            "bin_start": 47656.8,
            "bin_end": 59381,
            "count": 12
           },
           {
            "bin_start": 59381,
            "bin_end": 71105.20000000001,
            "count": 2
           },
           {
            "bin_start": 71105.20000000001,
            "bin_end": 82829.40000000001,
            "count": 1
           },
           {
            "bin_start": 82829.40000000001,
            "bin_end": 94553.6,
            "count": 2
           },
           {
            "bin_start": 94553.6,
            "bin_end": 106277.8,
            "count": 1
           },
           {
            "bin_start": 106277.8,
            "bin_end": 118002,
            "count": 1
           }
          ]
         }
        },
        {
         "name": "UnemploymentPct",
         "dtype": "float64",
         "stats": {
          "unique_count": 93,
          "nan_count": 0,
          "min": "0.3",
          "max": "28.7",
          "histogram": [
           {
            "bin_start": 0.3,
            "bin_end": 3.1399999999999997,
            "count": 16
           },
           {
            "bin_start": 3.1399999999999997,
            "bin_end": 5.9799999999999995,
            "count": 53
           },
           {
            "bin_start": 5.9799999999999995,
            "bin_end": 8.82,
            "count": 38
           },
           {
            "bin_start": 8.82,
            "bin_end": 11.66,
            "count": 17
           },
           {
            "bin_start": 11.66,
            "bin_end": 14.5,
            "count": 8
           },
           {
            "bin_start": 14.5,
            "bin_end": 17.34,
            "count": 9
           },
           {
            "bin_start": 17.34,
            "bin_end": 20.18,
            "count": 4
           },
           {
            "bin_start": 20.18,
            "bin_end": 23.02,
            "count": 3
           },
           {
            "bin_start": 23.02,
            "bin_end": 25.86,
            "count": 2
           },
           {
            "bin_start": 25.86,
            "bin_end": 28.7,
            "count": 1
           }
          ]
         }
        },
        {
         "name": "LifeSatisfaction",
         "dtype": "float64",
         "stats": {
          "unique_count": 151,
          "nan_count": 0,
          "min": "3.16",
          "max": "7.889",
          "histogram": [
           {
            "bin_start": 3.16,
            "bin_end": 3.6329000000000002,
            "count": 7
           },
           {
            "bin_start": 3.6329000000000002,
            "bin_end": 4.1058,
            "count": 6
           },
           {
            "bin_start": 4.1058,
            "bin_end": 4.5786999999999995,
            "count": 18
           },
           {
            "bin_start": 4.5786999999999995,
            "bin_end": 5.0516000000000005,
            "count": 15
           },
           {
            "bin_start": 5.0516000000000005,
            "bin_end": 5.5245,
            "count": 30
           },
           {
            "bin_start": 5.5245,
            "bin_end": 5.9974,
            "count": 17
           },
           {
            "bin_start": 5.9974,
            "bin_end": 6.4703,
            "count": 31
           },
           {
            "bin_start": 6.4703,
            "bin_end": 6.9432,
            "count": 10
           },
           {
            "bin_start": 6.9432,
            "bin_end": 7.4161,
            "count": 12
           },
           {
            "bin_start": 7.4161,
            "bin_end": 7.889,
            "count": 5
           }
          ]
         }
        },
        {
         "name": "_deepnote_index_column",
         "dtype": "object"
        }
       ],
       "rows": [
        {
         "TaxBurden": 89.1,
         "BusinessFreedom": 70.7,
         "IncomeTaxRatePct": 23,
         "GDPperCapitaPPP": 14218,
         "UnemploymentPct": 11.7,
         "LifeSatisfaction": 5.365,
         "_deepnote_index_column": "Albania"
        },
        {
         "TaxBurden": 67.2,
         "BusinessFreedom": 50,
         "IncomeTaxRatePct": 35,
         "GDPperCapitaPPP": 11112,
         "UnemploymentPct": 12.8,
         "LifeSatisfaction": 4.745,
         "_deepnote_index_column": "Algeria"
        },
        {
         "TaxBurden": 86.6,
         "BusinessFreedom": 37.6,
         "IncomeTaxRatePct": 25,
         "GDPperCapitaPPP": 6932,
         "UnemploymentPct": 7.7,
         "LifeSatisfaction": 3.795,
         "_deepnote_index_column": "Angola"
        },
        {
         "TaxBurden": 73.3,
         "BusinessFreedom": 55.1,
         "IncomeTaxRatePct": 35,
         "GDPperCapitaPPP": 20751,
         "UnemploymentPct": 11.7,
         "LifeSatisfaction": 5.901,
         "_deepnote_index_column": "Argentina"
        },
        {
         "TaxBurden": 86.9,
         "BusinessFreedom": 64.9,
         "IncomeTaxRatePct": 22,
         "GDPperCapitaPPP": 13261,
         "UnemploymentPct": 20.2,
         "LifeSatisfaction": 5.488,
         "_deepnote_index_column": "Armenia"
        },
        {
         "TaxBurden": 62.5,
         "BusinessFreedom": 84.6,
         "IncomeTaxRatePct": 45,
         "GDPperCapitaPPP": 51680,
         "UnemploymentPct": 6.6,
         "LifeSatisfaction": 7.137,
         "_deepnote_index_column": "Australia"
        },
        {
         "TaxBurden": 45.5,
         "BusinessFreedom": 82.3,
         "IncomeTaxRatePct": 55,
         "GDPperCapitaPPP": 55218,
         "UnemploymentPct": 5.8,
         "LifeSatisfaction": 7.213,
         "_deepnote_index_column": "Austria"
        },
        {
         "TaxBurden": 87.7,
         "BusinessFreedom": 64.6,
         "IncomeTaxRatePct": 25,
         "GDPperCapitaPPP": 14431,
         "UnemploymentPct": 6.3,
         "LifeSatisfaction": 5.173,
         "_deepnote_index_column": "Azerbaijan"
        },
        {
         "TaxBurden": 99.9,
         "BusinessFreedom": 60.2,
         "IncomeTaxRatePct": 0,
         "GDPperCapitaPPP": 48766,
         "UnemploymentPct": 4.1,
         "LifeSatisfaction": 6.173,
         "_deepnote_index_column": "Bahrain"
        },
        {
         "TaxBurden": 82.6,
         "BusinessFreedom": 55.6,
         "IncomeTaxRatePct": 25,
         "GDPperCapitaPPP": 5307,
         "UnemploymentPct": 5.3,
         "LifeSatisfaction": 5.28,
         "_deepnote_index_column": "Bangladesh"
        }
       ]
      },
      "text/plain": "              TaxBurden  BusinessFreedom  IncomeTaxRatePct  GDPperCapitaPPP  \\\nCountry Name                                                                  \nAlbania            89.1             70.7              23.0          14218.0   \nAlgeria            67.2             50.0              35.0          11112.0   \nAngola             86.6             37.6              25.0           6932.0   \nArgentina          73.3             55.1              35.0          20751.0   \nArmenia            86.9             64.9              22.0          13261.0   \n...                 ...              ...               ...              ...   \nUzbekistan         90.8             59.1              22.0           7449.0   \nVenezuela          74.1             30.8              34.0           5178.0   \nVietnam            80.9             73.6              35.0          10869.0   \nZambia             70.9             44.2              37.5           3342.0   \nZimbabwe           66.1             36.9              51.5           2622.0   \n\n              UnemploymentPct  LifeSatisfaction  \nCountry Name                                     \nAlbania                  11.7             5.365  \nAlgeria                  12.8             4.745  \nAngola                    7.7             3.795  \nArgentina                11.7             5.901  \nArmenia                  20.2             5.488  \n...                       ...               ...  \nUzbekistan                6.0             6.154  \nVenezuela                 9.1             4.574  \nVietnam                   2.3             5.467  \nZambia                   12.2             4.838  \nZimbabwe                  5.7             3.160  \n\n[151 rows x 6 columns]",
      "text/html": "<div>\n<style scoped>\n    .dataframe tbody tr th:only-of-type {\n        vertical-align: middle;\n    }\n\n    .dataframe tbody tr th {\n        vertical-align: top;\n    }\n\n    .dataframe thead th {\n        text-align: right;\n    }\n</style>\n<table border=\"1\" class=\"dataframe\">\n  <thead>\n    <tr style=\"text-align: right;\">\n      <th></th>\n      <th>TaxBurden</th>\n      <th>BusinessFreedom</th>\n      <th>IncomeTaxRatePct</th>\n      <th>GDPperCapitaPPP</th>\n      <th>UnemploymentPct</th>\n      <th>LifeSatisfaction</th>\n    </tr>\n    <tr>\n      <th>Country Name</th>\n      <th></th>\n      <th></th>\n      <th></th>\n      <th></th>\n      <th></th>\n      <th></th>\n    </tr>\n  </thead>\n  <tbody>\n    <tr>\n      <th>Albania</th>\n      <td>89.1</td>\n      <td>70.7</td>\n      <td>23.0</td>\n      <td>14218.0</td>\n      <td>11.7</td>\n      <td>5.365</td>\n    </tr>\n    <tr>\n      <th>Algeria</th>\n      <td>67.2</td>\n      <td>50.0</td>\n      <td>35.0</td>\n      <td>11112.0</td>\n      <td>12.8</td>\n      <td>4.745</td>\n    </tr>\n    <tr>\n      <th>Angola</th>\n      <td>86.6</td>\n      <td>37.6</td>\n      <td>25.0</td>\n      <td>6932.0</td>\n      <td>7.7</td>\n      <td>3.795</td>\n    </tr>\n    <tr>\n      <th>Argentina</th>\n      <td>73.3</td>\n      <td>55.1</td>\n      <td>35.0</td>\n      <td>20751.0</td>\n      <td>11.7</td>\n      <td>5.901</td>\n    </tr>\n    <tr>\n      <th>Armenia</th>\n      <td>86.9</td>\n      <td>64.9</td>\n      <td>22.0</td>\n      <td>13261.0</td>\n      <td>20.2</td>\n      <td>5.488</td>\n    </tr>\n    <tr>\n      <th>...</th>\n      <td>...</td>\n      <td>...</td>\n      <td>...</td>\n      <td>...</td>\n      <td>...</td>\n      <td>...</td>\n    </tr>\n    <tr>\n      <th>Uzbekistan</th>\n      <td>90.8</td>\n      <td>59.1</td>\n      <td>22.0</td>\n      <td>7449.0</td>\n      <td>6.0</td>\n      <td>6.154</td>\n    </tr>\n    <tr>\n      <th>Venezuela</th>\n      <td>74.1</td>\n      <td>30.8</td>\n      <td>34.0</td>\n      <td>5178.0</td>\n      <td>9.1</td>\n      <td>4.574</td>\n    </tr>\n    <tr>\n      <th>Vietnam</th>\n      <td>80.9</td>\n      <td>73.6</td>\n      <td>35.0</td>\n      <td>10869.0</td>\n      <td>2.3</td>\n      <td>5.467</td>\n    </tr>\n    <tr>\n      <th>Zambia</th>\n      <td>70.9</td>\n      <td>44.2</td>\n      <td>37.5</td>\n      <td>3342.0</td>\n      <td>12.2</td>\n      <td>4.838</td>\n    </tr>\n    <tr>\n      <th>Zimbabwe</th>\n      <td>66.1</td>\n      <td>36.9</td>\n      <td>51.5</td>\n      <td>2622.0</td>\n      <td>5.7</td>\n      <td>3.160</td>\n    </tr>\n  </tbody>\n</table>\n<p>151 rows × 6 columns</p>\n</div>"
     },
     "metadata": {}
    }
   ],
   "execution_count": null
  },
  {
   "cell_type": "markdown",
   "source": "The subset of our dataframe looks good. It was created successfully.",
   "metadata": {
    "cell_id": "9948fd60a1ac4d7e8c3b026251c88531",
    "tags": [],
    "deepnote_app_coordinates": {
     "x": 0,
     "y": 354,
     "w": 12,
     "h": 5
    },
    "deepnote_cell_type": "markdown",
    "deepnote_cell_height": 52.390625
   }
  },
  {
   "cell_type": "markdown",
   "source": "We want to add another column to this dataframe with predicted life satisfaction values. The first step is to create a function that will predict life satisfaction for a given country and return the predicted value.",
   "metadata": {
    "cell_id": "65d0898bdafc49cb8ce682a3eda188ab",
    "tags": [],
    "deepnote_app_coordinates": {
     "x": 0,
     "y": 360,
     "w": 12,
     "h": 5
    },
    "deepnote_cell_type": "markdown",
    "deepnote_cell_height": 74.78125
   }
  },
  {
   "cell_type": "code",
   "metadata": {
    "cell_id": "e049d1e776774be7af8c0cf26d6a8eb2",
    "tags": [],
    "deepnote_to_be_reexecuted": false,
    "source_hash": "8eca83f9",
    "execution_start": 1651266858557,
    "execution_millis": 1,
    "deepnote_app_coordinates": {
     "x": 0,
     "y": 366,
     "w": 12,
     "h": 5
    },
    "deepnote_cell_type": "code",
    "deepnote_cell_height": 225
   },
   "source": "def predicted_life_satisfaction(country):\n    country_row = full_data_clean_trimmed[full_data_clean_trimmed['Country Name'] == country] #Individual row for a country\n\n    return(coefficients[0] #Constant\n           +country_row.iloc[:,1]*coefficients[1]  #Tax Burden\n           +country_row.iloc[:,2]*coefficients[2]  #Business Freedom\n           +country_row.iloc[:,3]*coefficients[3]  #Income Tax Rate (%)\n           +country_row.iloc[:,4]*coefficients[4]  #GDP Per Capita (PPP)\n           +country_row.iloc[:,5]*coefficients[5]) #Unemployment (%)",
   "outputs": [],
   "execution_count": null
  },
  {
   "cell_type": "markdown",
   "source": "No output indicates that there were no errors with creating the function.",
   "metadata": {
    "cell_id": "455ac3bc281643038682d212ba3d5d28",
    "tags": [],
    "deepnote_app_coordinates": {
     "x": 0,
     "y": 372,
     "w": 12,
     "h": 5
    },
    "deepnote_cell_type": "markdown",
    "deepnote_cell_height": 52.390625
   }
  },
  {
   "cell_type": "markdown",
   "source": "Now, lets create a `Predicted Life Satisfaction` column for our dataframe. We can use `.apply` with our `predicted_life_satisfaction` function to do this.",
   "metadata": {
    "cell_id": "7170c3ef9334423f93a93d487c94e5b2",
    "tags": [],
    "deepnote_app_coordinates": {
     "x": 0,
     "y": 378,
     "w": 12,
     "h": 5
    },
    "deepnote_cell_type": "markdown",
    "deepnote_cell_height": 74.78125
   }
  },
  {
   "cell_type": "code",
   "metadata": {
    "cell_id": "8d7a123f884346b98416b2b9fad6e8d4",
    "tags": [],
    "deepnote_to_be_reexecuted": false,
    "source_hash": "ecc71488",
    "execution_start": 1651266858604,
    "execution_millis": 4,
    "deepnote_table_state": {
     "pageSize": 10,
     "pageIndex": 0,
     "filters": [],
     "sortBy": []
    },
    "deepnote_table_loading": false,
    "deepnote_app_coordinates": {
     "x": 0,
     "y": 384,
     "w": 12,
     "h": 5
    },
    "deepnote_cell_type": "code",
    "deepnote_cell_height": 653
   },
   "source": "full_data_clean_trimmed = full_data_clean_trimmed.reset_index(level=0)\nfull_data_clean_trimmed['Predicted Life Satisfaction'] = full_data_clean_trimmed[['Country Name']].apply(predicted_life_satisfaction)\nfull_data_clean_trimmed",
   "outputs": [
    {
     "output_type": "execute_result",
     "execution_count": 19,
     "data": {
      "application/vnd.deepnote.dataframe.v3+json": {
       "column_count": 8,
       "row_count": 151,
       "columns": [
        {
         "name": "Country Name",
         "dtype": "object",
         "stats": {
          "unique_count": 151,
          "nan_count": 0,
          "categories": [
           {
            "name": "Albania",
            "count": 1
           },
           {
            "name": "Algeria",
            "count": 1
           },
           {
            "name": "149 others",
            "count": 149
           }
          ]
         }
        },
        {
         "name": "TaxBurden",
         "dtype": "float64",
         "stats": {
          "unique_count": 130,
          "nan_count": 0,
          "min": "42.3",
          "max": "100.0",
          "histogram": [
           {
            "bin_start": 42.3,
            "bin_end": 48.07,
            "count": 4
           },
           {
            "bin_start": 48.07,
            "bin_end": 53.839999999999996,
            "count": 3
           },
           {
            "bin_start": 53.839999999999996,
            "bin_end": 59.61,
            "count": 3
           },
           {
            "bin_start": 59.61,
            "bin_end": 65.38,
            "count": 11
           },
           {
            "bin_start": 65.38,
            "bin_end": 71.15,
            "count": 17
           },
           {
            "bin_start": 71.15,
            "bin_end": 76.92,
            "count": 25
           },
           {
            "bin_start": 76.92,
            "bin_end": 82.69,
            "count": 34
           },
           {
            "bin_start": 82.69,
            "bin_end": 88.46000000000001,
            "count": 22
           },
           {
            "bin_start": 88.46000000000001,
            "bin_end": 94.23,
            "count": 20
           },
           {
            "bin_start": 94.23,
            "bin_end": 100,
            "count": 12
           }
          ]
         }
        },
        {
         "name": "BusinessFreedom",
         "dtype": "float64",
         "stats": {
          "unique_count": 133,
          "nan_count": 0,
          "min": "25.0",
          "max": "91.4",
          "histogram": [
           {
            "bin_start": 25,
            "bin_end": 31.64,
            "count": 7
           },
           {
            "bin_start": 31.64,
            "bin_end": 38.28,
            "count": 11
           },
           {
            "bin_start": 38.28,
            "bin_end": 44.92,
            "count": 8
           },
           {
            "bin_start": 44.92,
            "bin_end": 51.56,
            "count": 14
           },
           {
            "bin_start": 51.56,
            "bin_end": 58.2,
            "count": 20
           },
           {
            "bin_start": 58.2,
            "bin_end": 64.84,
            "count": 26
           },
           {
            "bin_start": 64.84,
            "bin_end": 71.48,
            "count": 20
           },
           {
            "bin_start": 71.48,
            "bin_end": 78.12,
            "count": 17
           },
           {
            "bin_start": 78.12,
            "bin_end": 84.76,
            "count": 17
           },
           {
            "bin_start": 84.76,
            "bin_end": 91.4,
            "count": 11
           }
          ]
         }
        },
        {
         "name": "IncomeTaxRatePct",
         "dtype": "float64",
         "stats": {
          "unique_count": 50,
          "nan_count": 0,
          "min": "0.0",
          "max": "60.0",
          "histogram": [
           {
            "bin_start": 0,
            "bin_end": 6,
            "count": 7
           },
           {
            "bin_start": 6,
            "bin_end": 12,
            "count": 12
           },
           {
            "bin_start": 12,
            "bin_end": 18,
            "count": 9
           },
           {
            "bin_start": 18,
            "bin_end": 24,
            "count": 13
           },
           {
            "bin_start": 24,
            "bin_end": 30,
            "count": 19
           },
           {
            "bin_start": 30,
            "bin_end": 36,
            "count": 47
           },
           {
            "bin_start": 36,
            "bin_end": 42,
            "count": 19
           },
           {
            "bin_start": 42,
            "bin_end": 48,
            "count": 13
           },
           {
            "bin_start": 48,
            "bin_end": 54,
            "count": 8
           },
           {
            "bin_start": 54,
            "bin_end": 60,
            "count": 4
           }
          ]
         }
        },
        {
         "name": "GDPperCapitaPPP",
         "dtype": "float64",
         "stats": {
          "unique_count": 151,
          "nan_count": 0,
          "min": "760.0",
          "max": "118002.0",
          "histogram": [
           {
            "bin_start": 760,
            "bin_end": 12484.2,
            "count": 68
           },
           {
            "bin_start": 12484.2,
            "bin_end": 24208.4,
            "count": 33
           },
           {
            "bin_start": 24208.4,
            "bin_end": 35932.600000000006,
            "count": 15
           },
           {
            "bin_start": 35932.600000000006,
            "bin_end": 47656.8,
            "count": 16
           },
           {
            "bin_start": 47656.8,
            "bin_end": 59381,
            "count": 12
           },
           {
            "bin_start": 59381,
            "bin_end": 71105.20000000001,
            "count": 2
           },
           {
            "bin_start": 71105.20000000001,
            "bin_end": 82829.40000000001,
            "count": 1
           },
           {
            "bin_start": 82829.40000000001,
            "bin_end": 94553.6,
            "count": 2
           },
           {
            "bin_start": 94553.6,
            "bin_end": 106277.8,
            "count": 1
           },
           {
            "bin_start": 106277.8,
            "bin_end": 118002,
            "count": 1
           }
          ]
         }
        },
        {
         "name": "UnemploymentPct",
         "dtype": "float64",
         "stats": {
          "unique_count": 93,
          "nan_count": 0,
          "min": "0.3",
          "max": "28.7",
          "histogram": [
           {
            "bin_start": 0.3,
            "bin_end": 3.1399999999999997,
            "count": 16
           },
           {
            "bin_start": 3.1399999999999997,
            "bin_end": 5.9799999999999995,
            "count": 53
           },
           {
            "bin_start": 5.9799999999999995,
            "bin_end": 8.82,
            "count": 38
           },
           {
            "bin_start": 8.82,
            "bin_end": 11.66,
            "count": 17
           },
           {
            "bin_start": 11.66,
            "bin_end": 14.5,
            "count": 8
           },
           {
            "bin_start": 14.5,
            "bin_end": 17.34,
            "count": 9
           },
           {
            "bin_start": 17.34,
            "bin_end": 20.18,
            "count": 4
           },
           {
            "bin_start": 20.18,
            "bin_end": 23.02,
            "count": 3
           },
           {
            "bin_start": 23.02,
            "bin_end": 25.86,
            "count": 2
           },
           {
            "bin_start": 25.86,
            "bin_end": 28.7,
            "count": 1
           }
          ]
         }
        },
        {
         "name": "LifeSatisfaction",
         "dtype": "float64",
         "stats": {
          "unique_count": 151,
          "nan_count": 0,
          "min": "3.16",
          "max": "7.889",
          "histogram": [
           {
            "bin_start": 3.16,
            "bin_end": 3.6329000000000002,
            "count": 7
           },
           {
            "bin_start": 3.6329000000000002,
            "bin_end": 4.1058,
            "count": 6
           },
           {
            "bin_start": 4.1058,
            "bin_end": 4.5786999999999995,
            "count": 18
           },
           {
            "bin_start": 4.5786999999999995,
            "bin_end": 5.0516000000000005,
            "count": 15
           },
           {
            "bin_start": 5.0516000000000005,
            "bin_end": 5.5245,
            "count": 30
           },
           {
            "bin_start": 5.5245,
            "bin_end": 5.9974,
            "count": 17
           },
           {
            "bin_start": 5.9974,
            "bin_end": 6.4703,
            "count": 31
           },
           {
            "bin_start": 6.4703,
            "bin_end": 6.9432,
            "count": 10
           },
           {
            "bin_start": 6.9432,
            "bin_end": 7.4161,
            "count": 12
           },
           {
            "bin_start": 7.4161,
            "bin_end": 7.889,
            "count": 5
           }
          ]
         }
        },
        {
         "name": "Predicted Life Satisfaction",
         "dtype": "float64",
         "stats": {
          "unique_count": 151,
          "nan_count": 0,
          "min": "3.8522020507362305",
          "max": "7.910404939791952",
          "histogram": [
           {
            "bin_start": 3.8522020507362305,
            "bin_end": 4.258022339641802,
            "count": 11
           },
           {
            "bin_start": 4.258022339641802,
            "bin_end": 4.663842628547375,
            "count": 16
           },
           {
            "bin_start": 4.663842628547375,
            "bin_end": 5.069662917452947,
            "count": 17
           },
           {
            "bin_start": 5.069662917452947,
            "bin_end": 5.475483206358518,
            "count": 33
           },
           {
            "bin_start": 5.475483206358518,
            "bin_end": 5.881303495264091,
            "count": 24
           },
           {
            "bin_start": 5.881303495264091,
            "bin_end": 6.287123784169663,
            "count": 15
           },
           {
            "bin_start": 6.287123784169663,
            "bin_end": 6.692944073075235,
            "count": 13
           },
           {
            "bin_start": 6.692944073075235,
            "bin_end": 7.098764361980807,
            "count": 14
           },
           {
            "bin_start": 7.098764361980807,
            "bin_end": 7.504584650886379,
            "count": 6
           },
           {
            "bin_start": 7.504584650886379,
            "bin_end": 7.910404939791952,
            "count": 2
           }
          ]
         }
        },
        {
         "name": "_deepnote_index_column",
         "dtype": "int64"
        }
       ],
       "rows": [
        {
         "Country Name": "Albania",
         "TaxBurden": 89.1,
         "BusinessFreedom": 70.7,
         "IncomeTaxRatePct": 23,
         "GDPperCapitaPPP": 14218,
         "UnemploymentPct": 11.7,
         "LifeSatisfaction": 5.365,
         "Predicted Life Satisfaction": 5.472581259151428,
         "_deepnote_index_column": 0
        },
        {
         "Country Name": "Algeria",
         "TaxBurden": 67.2,
         "BusinessFreedom": 50,
         "IncomeTaxRatePct": 35,
         "GDPperCapitaPPP": 11112,
         "UnemploymentPct": 12.8,
         "LifeSatisfaction": 4.745,
         "Predicted Life Satisfaction": 5.165997161004921,
         "_deepnote_index_column": 1
        },
        {
         "Country Name": "Angola",
         "TaxBurden": 86.6,
         "BusinessFreedom": 37.6,
         "IncomeTaxRatePct": 25,
         "GDPperCapitaPPP": 6932,
         "UnemploymentPct": 7.7,
         "LifeSatisfaction": 3.795,
         "Predicted Life Satisfaction": 4.343865782127988,
         "_deepnote_index_column": 2
        },
        {
         "Country Name": "Argentina",
         "TaxBurden": 73.3,
         "BusinessFreedom": 55.1,
         "IncomeTaxRatePct": 35,
         "GDPperCapitaPPP": 20751,
         "UnemploymentPct": 11.7,
         "LifeSatisfaction": 5.901,
         "Predicted Life Satisfaction": 5.220916590840594,
         "_deepnote_index_column": 3
        },
        {
         "Country Name": "Armenia",
         "TaxBurden": 86.9,
         "BusinessFreedom": 64.9,
         "IncomeTaxRatePct": 22,
         "GDPperCapitaPPP": 13261,
         "UnemploymentPct": 20.2,
         "LifeSatisfaction": 5.488,
         "Predicted Life Satisfaction": 5.223070008646918,
         "_deepnote_index_column": 4
        },
        {
         "Country Name": "Australia",
         "TaxBurden": 62.5,
         "BusinessFreedom": 84.6,
         "IncomeTaxRatePct": 45,
         "GDPperCapitaPPP": 51680,
         "UnemploymentPct": 6.6,
         "LifeSatisfaction": 7.137,
         "Predicted Life Satisfaction": 6.816653477456089,
         "_deepnote_index_column": 5
        },
        {
         "Country Name": "Austria",
         "TaxBurden": 45.5,
         "BusinessFreedom": 82.3,
         "IncomeTaxRatePct": 55,
         "GDPperCapitaPPP": 55218,
         "UnemploymentPct": 5.8,
         "LifeSatisfaction": 7.213,
         "Predicted Life Satisfaction": 7.138442130568196,
         "_deepnote_index_column": 6
        },
        {
         "Country Name": "Azerbaijan",
         "TaxBurden": 87.7,
         "BusinessFreedom": 64.6,
         "IncomeTaxRatePct": 25,
         "GDPperCapitaPPP": 14431,
         "UnemploymentPct": 6.3,
         "LifeSatisfaction": 5.173,
         "Predicted Life Satisfaction": 5.355430919806944,
         "_deepnote_index_column": 7
        },
        {
         "Country Name": "Bahrain",
         "TaxBurden": 99.9,
         "BusinessFreedom": 60.2,
         "IncomeTaxRatePct": 0,
         "GDPperCapitaPPP": 48766,
         "UnemploymentPct": 4.1,
         "LifeSatisfaction": 6.173,
         "Predicted Life Satisfaction": 6.209851548690021,
         "_deepnote_index_column": 8
        },
        {
         "Country Name": "Bangladesh",
         "TaxBurden": 82.6,
         "BusinessFreedom": 55.6,
         "IncomeTaxRatePct": 25,
         "GDPperCapitaPPP": 5307,
         "UnemploymentPct": 5.3,
         "LifeSatisfaction": 5.28,
         "Predicted Life Satisfaction": 5.1717744568757595,
         "_deepnote_index_column": 9
        }
       ]
      },
      "text/plain": "    Country Name  TaxBurden  BusinessFreedom  IncomeTaxRatePct  \\\n0        Albania       89.1             70.7              23.0   \n1        Algeria       67.2             50.0              35.0   \n2         Angola       86.6             37.6              25.0   \n3      Argentina       73.3             55.1              35.0   \n4        Armenia       86.9             64.9              22.0   \n..           ...        ...              ...               ...   \n146   Uzbekistan       90.8             59.1              22.0   \n147    Venezuela       74.1             30.8              34.0   \n148      Vietnam       80.9             73.6              35.0   \n149       Zambia       70.9             44.2              37.5   \n150     Zimbabwe       66.1             36.9              51.5   \n\n     GDPperCapitaPPP  UnemploymentPct  LifeSatisfaction  \\\n0            14218.0             11.7             5.365   \n1            11112.0             12.8             4.745   \n2             6932.0              7.7             3.795   \n3            20751.0             11.7             5.901   \n4            13261.0             20.2             5.488   \n..               ...              ...               ...   \n146           7449.0              6.0             6.154   \n147           5178.0              9.1             4.574   \n148          10869.0              2.3             5.467   \n149           3342.0             12.2             4.838   \n150           2622.0              5.7             3.160   \n\n     Predicted Life Satisfaction  \n0                       5.472581  \n1                       5.165997  \n2                       4.343866  \n3                       5.220917  \n4                       5.223070  \n..                           ...  \n146                     5.067048  \n147                     4.235969  \n148                     5.585314  \n149                     4.605525  \n150                     4.105346  \n\n[151 rows x 8 columns]",
      "text/html": "<div>\n<style scoped>\n    .dataframe tbody tr th:only-of-type {\n        vertical-align: middle;\n    }\n\n    .dataframe tbody tr th {\n        vertical-align: top;\n    }\n\n    .dataframe thead th {\n        text-align: right;\n    }\n</style>\n<table border=\"1\" class=\"dataframe\">\n  <thead>\n    <tr style=\"text-align: right;\">\n      <th></th>\n      <th>Country Name</th>\n      <th>TaxBurden</th>\n      <th>BusinessFreedom</th>\n      <th>IncomeTaxRatePct</th>\n      <th>GDPperCapitaPPP</th>\n      <th>UnemploymentPct</th>\n      <th>LifeSatisfaction</th>\n      <th>Predicted Life Satisfaction</th>\n    </tr>\n  </thead>\n  <tbody>\n    <tr>\n      <th>0</th>\n      <td>Albania</td>\n      <td>89.1</td>\n      <td>70.7</td>\n      <td>23.0</td>\n      <td>14218.0</td>\n      <td>11.7</td>\n      <td>5.365</td>\n      <td>5.472581</td>\n    </tr>\n    <tr>\n      <th>1</th>\n      <td>Algeria</td>\n      <td>67.2</td>\n      <td>50.0</td>\n      <td>35.0</td>\n      <td>11112.0</td>\n      <td>12.8</td>\n      <td>4.745</td>\n      <td>5.165997</td>\n    </tr>\n    <tr>\n      <th>2</th>\n      <td>Angola</td>\n      <td>86.6</td>\n      <td>37.6</td>\n      <td>25.0</td>\n      <td>6932.0</td>\n      <td>7.7</td>\n      <td>3.795</td>\n      <td>4.343866</td>\n    </tr>\n    <tr>\n      <th>3</th>\n      <td>Argentina</td>\n      <td>73.3</td>\n      <td>55.1</td>\n      <td>35.0</td>\n      <td>20751.0</td>\n      <td>11.7</td>\n      <td>5.901</td>\n      <td>5.220917</td>\n    </tr>\n    <tr>\n      <th>4</th>\n      <td>Armenia</td>\n      <td>86.9</td>\n      <td>64.9</td>\n      <td>22.0</td>\n      <td>13261.0</td>\n      <td>20.2</td>\n      <td>5.488</td>\n      <td>5.223070</td>\n    </tr>\n    <tr>\n      <th>...</th>\n      <td>...</td>\n      <td>...</td>\n      <td>...</td>\n      <td>...</td>\n      <td>...</td>\n      <td>...</td>\n      <td>...</td>\n      <td>...</td>\n    </tr>\n    <tr>\n      <th>146</th>\n      <td>Uzbekistan</td>\n      <td>90.8</td>\n      <td>59.1</td>\n      <td>22.0</td>\n      <td>7449.0</td>\n      <td>6.0</td>\n      <td>6.154</td>\n      <td>5.067048</td>\n    </tr>\n    <tr>\n      <th>147</th>\n      <td>Venezuela</td>\n      <td>74.1</td>\n      <td>30.8</td>\n      <td>34.0</td>\n      <td>5178.0</td>\n      <td>9.1</td>\n      <td>4.574</td>\n      <td>4.235969</td>\n    </tr>\n    <tr>\n      <th>148</th>\n      <td>Vietnam</td>\n      <td>80.9</td>\n      <td>73.6</td>\n      <td>35.0</td>\n      <td>10869.0</td>\n      <td>2.3</td>\n      <td>5.467</td>\n      <td>5.585314</td>\n    </tr>\n    <tr>\n      <th>149</th>\n      <td>Zambia</td>\n      <td>70.9</td>\n      <td>44.2</td>\n      <td>37.5</td>\n      <td>3342.0</td>\n      <td>12.2</td>\n      <td>4.838</td>\n      <td>4.605525</td>\n    </tr>\n    <tr>\n      <th>150</th>\n      <td>Zimbabwe</td>\n      <td>66.1</td>\n      <td>36.9</td>\n      <td>51.5</td>\n      <td>2622.0</td>\n      <td>5.7</td>\n      <td>3.160</td>\n      <td>4.105346</td>\n    </tr>\n  </tbody>\n</table>\n<p>151 rows × 8 columns</p>\n</div>"
     },
     "metadata": {}
    }
   ],
   "execution_count": null
  },
  {
   "cell_type": "markdown",
   "source": "The column was created successfully. The values for Predicted Life Satisfaction look pretty accurate.",
   "metadata": {
    "cell_id": "deaebd0c00294e86920aae96258e9b8a",
    "tags": [],
    "deepnote_app_coordinates": {
     "x": 0,
     "y": 390,
     "w": 12,
     "h": 5
    },
    "deepnote_cell_type": "markdown",
    "deepnote_cell_height": 52.390625
   }
  },
  {
   "cell_type": "markdown",
   "source": "Let's create a scatter plot to see exactly how accurate our model was. We'll plot predicted life satisfaction (y) against known life satisfaction (x). In a completely accurate model, the points on the scatter plot would look like a 45-degree line (y=x), as each predicted value would be equal to the known values.",
   "metadata": {
    "cell_id": "a327c5b1bfb14b15ad1b0f5065050ac7",
    "tags": [],
    "deepnote_app_coordinates": {
     "x": 0,
     "y": 396,
     "w": 12,
     "h": 5
    },
    "deepnote_cell_type": "markdown",
    "deepnote_cell_height": 97.171875
   }
  },
  {
   "cell_type": "code",
   "metadata": {
    "cell_id": "695d41cf95b04199b7b911e1698066f9",
    "tags": [],
    "deepnote_to_be_reexecuted": false,
    "source_hash": "dd6fa5da",
    "execution_start": 1651266858610,
    "execution_millis": 301,
    "deepnote_app_coordinates": {
     "x": 0,
     "y": 402,
     "w": 12,
     "h": 5
    },
    "deepnote_cell_type": "code",
    "deepnote_cell_height": 485.1875,
    "deepnote_output_heights": [
     21.1875,
     264
    ]
   },
   "source": "fig , ax = plt.subplots()\nax.scatter(full_data_clean_trimmed['LifeSatisfaction'],full_data_clean_trimmed['Predicted Life Satisfaction'])\nax.set_xlabel('Life Satisfaction')\nax.set_ylabel('Predicted Life Satisfaction')\n",
   "outputs": [
    {
     "output_type": "execute_result",
     "execution_count": 20,
     "data": {
      "text/plain": "Text(0, 0.5, 'Predicted Life Satisfaction')"
     },
     "metadata": {}
    },
    {
     "data": {
      "text/plain": "<Figure size 432x288 with 1 Axes>",
      "image/png": "[encoded data removed]"
     },
     "metadata": {
      "needs_background": "light",
      "image/png": {
       "width": 386,
       "height": 262
      }
     },
     "output_type": "display_data"
    }
   ],
   "execution_count": null
  },
  {
   "cell_type": "markdown",
   "source": "Overall, the model looks like it did a good job.",
   "metadata": {
    "cell_id": "a05f1c056e8b4135aac911d800382bd6",
    "tags": [],
    "deepnote_app_coordinates": {
     "x": 0,
     "y": 408,
     "w": 12,
     "h": 5
    },
    "deepnote_cell_type": "markdown",
    "deepnote_cell_height": 52.390625
   }
  },
  {
   "cell_type": "markdown",
   "source": "To get a clearer picture of how accurate the model is, let's draw a line of best fit (blue) through the scatter plot and compare it with y=x (black). If the blue line matches up with the black y=x, the model is accurate.",
   "metadata": {
    "cell_id": "6b0be482c94a4bf49daf3481a8153fc4",
    "tags": [],
    "deepnote_app_coordinates": {
     "x": 0,
     "y": 414,
     "w": 12,
     "h": 5
    },
    "deepnote_cell_type": "markdown",
    "deepnote_cell_height": 74.78125
   }
  },
  {
   "cell_type": "code",
   "metadata": {
    "cell_id": "1b2860e4882f4d4b840e37f85c719f8b",
    "tags": [],
    "deepnote_to_be_reexecuted": false,
    "source_hash": "3dc12216",
    "execution_start": 1651266858929,
    "execution_millis": 178,
    "deepnote_app_coordinates": {
     "x": 0,
     "y": 420,
     "w": 12,
     "h": 5
    },
    "deepnote_cell_type": "code",
    "deepnote_cell_height": 649,
    "deepnote_output_heights": [
     264
    ]
   },
   "source": "#Here we create the y=x line (in black, which is the default color)\n#This particular method of drawing y=x was recomended on https://stackoverflow.com/questions/70380660/how-to-plot-deviation-above-and-below-the-line-x-y-line-in-a-figure\nlims = [\n    np.min([ax.get_xlim(), ax.get_ylim()]),  # min of both axes\n    np.max([ax.get_xlim(), ax.get_ylim()]),  # max of both axes\n]\n\n# now plot both limits against eachother\nax.plot(lims, lims, 'k-', alpha=0.75, zorder=0)\nax.set_aspect('equal')\nax.set_xlim(lims)\nax.set_ylim(lims)\n\n#Here we create the line of best fit (in blue)\nm, b = np.polyfit(full_data_clean_trimmed['LifeSatisfaction'], full_data_clean_trimmed['Predicted Life Satisfaction'], deg=1)\nax.axline(xy1=(0, b), slope=m, color='b')\nfig",
   "outputs": [
    {
     "output_type": "execute_result",
     "execution_count": 21,
     "data": {
      "text/plain": "<Figure size 432x288 with 1 Axes>",
      "image/png": "[encoded data removed]"
     },
     "metadata": {
      "image/png": {
       "width": 259,
       "height": 262
      }
     }
    }
   ],
   "execution_count": null
  },
  {
   "cell_type": "markdown",
   "source": "Looking at the two lines, we can see that the model is most accurate at predicting life satisfaction when the actual value is fairly average. The model tends to over-estimate life-satisfaction for countries with low true levels and under-estimates for countries with high true values. However, the degree of error is not very significant. The model is still overwhelmingly very accurate.",
   "metadata": {
    "cell_id": "309a70db606d4cfb8034ae97c0fc9073",
    "tags": [],
    "deepnote_app_coordinates": {
     "x": 0,
     "y": 426,
     "w": 12,
     "h": 5
    },
    "deepnote_cell_type": "markdown",
    "deepnote_cell_height": 97.171875
   }
  },
  {
   "cell_type": "markdown",
   "source": "<a style='text-decoration:none;line-height:16px;display:flex;color:#5B5B62;padding:10px;justify-content:end;' href='https://deepnote.com?utm_source=created-in-deepnote-cell&projectId=a8eb658e-6f64-4544-bf57-cd04444e7be6' target=\"_blank\">\n<img alt='Created in deepnote.com' style='display:inline;max-height:16px;margin:0px;margin-right:7.5px;' src='data:image/svg+xml;base64,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' > </img>\nCreated in <span style='font-weight:600;margin-left:4px;'>Deepnote</span></a>",
   "metadata": {
    "tags": [],
    "created_in_deepnote_cell": true,
    "deepnote_cell_type": "markdown"
   }
  }
 ],
 "nbformat": 4,
 "nbformat_minor": 2,
 "metadata": {
  "orig_nbformat": 2,
  "deepnote": {},
  "deepnote_notebook_id": "350126aa-e8cd-4582-be8a-32ddbea45ef7",
  "deepnote_execution_queue": [],
  "deepnote_app_layout": "article"
 }
}